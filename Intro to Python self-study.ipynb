{
 "cells": [
  {
   "cell_type": "code",
   "execution_count": 52,
   "id": "d961ff1b",
   "metadata": {},
   "outputs": [
    {
     "name": "stdout",
     "output_type": "stream",
     "text": [
      "1\n",
      "2\n",
      "3\n",
      "4\n",
      "5\n",
      "6\n",
      "7\n",
      "8\n",
      "9\n",
      "10\n"
     ]
    }
   ],
   "source": [
    "#Loop that output 1 to 10\n",
    "#adds each number \n",
    "#prints total\n",
    "add = 0\n",
    "n = 10\n",
    "for x in range(1, n+1, 1):\n",
    "    add = x + add\n",
    "    print(x)"
   ]
  },
  {
   "cell_type": "code",
   "execution_count": 44,
   "id": "17620f4c",
   "metadata": {},
   "outputs": [
    {
     "name": "stdout",
     "output_type": "stream",
     "text": [
      "2\n",
      "4\n",
      "6\n",
      "8\n",
      "10\n",
      "12\n",
      "14\n",
      "16\n",
      "18\n",
      "20\n",
      "1\n",
      "11\n"
     ]
    }
   ],
   "source": [
    "#Loop Problems\n",
    "for x in range(10):\n",
    "    x+=1 #Write a program to print the numbers from 1 to 10 using a for loop.\n",
    "    x*=2 #Modify the previous program to print only the even numbers from 1 to 10.\n",
    "    print(x)"
   ]
  },
  {
   "cell_type": "code",
   "execution_count": 32,
   "id": "834b4671",
   "metadata": {},
   "outputs": [
    {
     "name": "stdout",
     "output_type": "stream",
     "text": [
      "['Apple', 'Orange', 'Pear']\n",
      "3\n",
      "['Apple', 222, False, 'Uzo']\n"
     ]
    }
   ],
   "source": [
    "\"\"\"LISTS\n",
    "Used to store multiple variables\n",
    "like Tuples Sets and Dictionary\n",
    "\"\"\"\n",
    "list1 = [\"Apple\", \"Orange\", \"Pear\"]\n",
    "list2 = [\"Apple\", 222, False, 'Uzo']\n",
    "print(list1)\n",
    "print(len(list1))# how many things are in the list\n",
    "print(list2)"
   ]
  },
  {
   "cell_type": "code",
   "execution_count": 27,
   "id": "5610b4ed",
   "metadata": {},
   "outputs": [],
   "source": [
    "import tkinter as tk\n",
    "\n",
    "# Create a function to add a task\n",
    "def add_task():\n",
    "    task = task_entry.get()\n",
    "    if task:\n",
    "        task_listbox.insert(tk.END, task)\n",
    "        task_entry.delete(0, tk.END)\n",
    "\n",
    "# Create a function to remove a selected task\n",
    "def remove_task():\n",
    "    selected_task_index = task_listbox.curselection()\n",
    "    if selected_task_index:\n",
    "        task_listbox.delete(selected_task_index)\n",
    "\n",
    "# Set up the main window\n",
    "root = tk.Tk()\n",
    "root.title(\"To-Do List\")\n",
    "\n",
    "# Create input field and buttons\n",
    "task_entry = tk.Entry(root, width=40)\n",
    "add_button = tk.Button(root, text=\"Add Task\", width=10, command=add_task)\n",
    "remove_button = tk.Button(root, text=\"Remove Task\", width=10, command=remove_task)\n",
    "\n",
    "# Create the task listbox\n",
    "task_listbox = tk.Listbox(root, width=40)\n",
    "task_listbox.pack()\n",
    "\n",
    "# Place widgets on the window\n",
    "task_entry.pack()\n",
    "add_button.pack()\n",
    "remove_button.pack()\n",
    "\n",
    "root.mainloop()\n"
   ]
  },
  {
   "cell_type": "code",
   "execution_count": 28,
   "id": "caef805b",
   "metadata": {},
   "outputs": [
    {
     "data": {
      "text/plain": [
       "True"
      ]
     },
     "execution_count": 28,
     "metadata": {},
     "output_type": "execute_result"
    }
   ],
   "source": [
    "\"\"\"BOOLEAN VALUES\"\"\"\n",
    "bool(\"abc\")\n",
    "bool(123)\n",
    "bool([\"apple\", \"cherry\", \"banana\"])"
   ]
  },
  {
   "cell_type": "code",
   "execution_count": 26,
   "id": "5440102c",
   "metadata": {
    "scrolled": true
   },
   "outputs": [
    {
     "name": "stdout",
     "output_type": "stream",
     "text": [
      "llo\n"
     ]
    }
   ],
   "source": [
    "txt = \"Hello world\"\n",
    "x = txt[2:5]\n",
    "print(x)"
   ]
  },
  {
   "cell_type": "code",
   "execution_count": 22,
   "id": "7bcc0c1b",
   "metadata": {},
   "outputs": [
    {
     "name": "stdout",
     "output_type": "stream",
     "text": [
      "My name is Jacob, I am 36\n",
      "I have 1 wife we have 3888000 kids the house we live in is cost £5\n"
     ]
    }
   ],
   "source": [
    "age = int(36)\n",
    "txt = \"My name is Jacob, I am {}\" \n",
    "print(txt.format(age)) # by having this format() we are able to format and include things like string\n",
    "Wife = 1\n",
    "kids = 5\n",
    "House = 3888000\n",
    "Me = \"I have {0} wife we have {2} kids the house we live in is cost £{1}\" # this allows us to order the range of numbers\n",
    "print(Me.format(Wife, kids, House))"
   ]
  },
  {
   "cell_type": "code",
   "execution_count": 16,
   "id": "7b3acba9",
   "metadata": {},
   "outputs": [
    {
     "name": "stdout",
     "output_type": "stream",
     "text": [
      "Hello, my precious\n",
      "Hello, my precious my life is yours God\n"
     ]
    }
   ],
   "source": [
    "\"\"\"\n",
    "String Concatenation\n",
    "combine two strings this can be done through + operators \n",
    "\"\"\"\n",
    "a = \"Hello, \"\n",
    "b = \"my \"\n",
    "c = \"precious\"\n",
    "d = a+b+c\n",
    "print(d)\n",
    "e = \" my life\" + \" \" + \"is yours God\"\n",
    "print(d + e)"
   ]
  },
  {
   "cell_type": "code",
   "execution_count": 12,
   "id": "17a77102",
   "metadata": {},
   "outputs": [
    {
     "name": "stdout",
     "output_type": "stream",
     "text": [
      "HELLO, MY PRECIOUS\n",
      "hello, my precious\n",
      "Hello, my precious\n",
      "dello, my precious\n",
      "['Hello, my precious']\n"
     ]
    }
   ],
   "source": [
    "\"\"\"\n",
    "Modifying string\n",
    "this is a set of multiple built in methods that allows you to change the string\n",
    "\"\"\"\n",
    "a = \"Hello, my precious\"\n",
    "print(a.upper()) # this turns all the letters into upper case\n",
    "print(a.lower()) # this turns all the characters to a lower case\n",
    "print(a.strip()) # removes whitespaces from beginning till end\n",
    "print(a.replace(\"H\", \"d\")) # replaces all the letter in the first half with the second part\n",
    "print(a.split(\" my \"\",\")) # this splits the string into the substring"
   ]
  },
  {
   "cell_type": "code",
   "execution_count": 24,
   "id": "894e4627",
   "metadata": {},
   "outputs": [
    {
     "name": "stdout",
     "output_type": "stream",
     "text": [
      "l\n",
      "l\n",
      "llo, World\n",
      "Hello\n",
      "Wor\n",
      "H\n"
     ]
    }
   ],
   "source": [
    "\"\"\"\n",
    "SLICING STRING\n",
    "Slicing:\n",
    "we are able to return multiple characters by using the slicing mechanism\n",
    "Specify start index and end index, separated by colon, return string.\n",
    "\"\"\"\n",
    "b = \"Hello, World\"\n",
    "print(b[3:4])\n",
    "print(b[2:3])\n",
    "print(b[2:]) #this slices till the end \n",
    "print(b[:5]) #this sclice from the start\n",
    "print(b[-5:-2]) #From: \"o\" in \"World!\" (position -5) To, but not included: \"d\" in \"World!\" (position -2): \n",
    "txt = \"Hello world\"\n",
    "x = txt[0]\n",
    "print(x)"
   ]
  },
  {
   "cell_type": "code",
   "execution_count": 30,
   "id": "af728684",
   "metadata": {},
   "outputs": [
    {
     "name": "stdout",
     "output_type": "stream",
     "text": [
      "Hello World\n",
      "I love you BabyCakes\n",
      "20\n",
      "\n",
      "dkjbweskbikwbq  f2\n",
      "hjgvwefvgfv3v fd uibfdiebqw\n",
      "kqwhjvgv2 b1vbyv yhbv3\n",
      " 1 bib2ibi \n",
      "\n",
      "e l\n",
      "a\n",
      "p\n",
      "p\n",
      "l\n",
      "e\n",
      "nahh g\n",
      "True\n",
      "True\n"
     ]
    }
   ],
   "source": [
    "\"\"\"\n",
    "PYTHON STRINGS\n",
    "STRINGS\n",
    "string are surroned by ' ' & \" \"  \n",
    "displayed by the print() function\n",
    "also via function str() \n",
    "\"\"\"\n",
    "print('Hello' + \" World\")\n",
    "##########\n",
    "a = \"I love you BabyCakes\"\n",
    "print(a)\n",
    "print(len(a)) # print the lenght\n",
    "\n",
    "b = \"\"\"\n",
    "dkjbweskbikwbq  f2\n",
    "hjgvwefvgfv3v fd uibfdiebqw\n",
    "kqwhjvgv2 b1vbyv yhbv3\n",
    " 1 bib2ibi \n",
    "\"\"\"\n",
    "print(b)\n",
    "##########\n",
    "\"\"\"\n",
    "STRINGS IN ARRAYS\n",
    "strings in Python are arrays of bytes representing unicode characters.\n",
    "this allows square bracket to be used to access elements of the string\n",
    "\"\"\"\n",
    "##########\n",
    "c = \"Hello, World\"\n",
    "print(c[1],c[2]) #this prints the position of the charaction\n",
    "###########\n",
    "\n",
    "for a in \"apple\":\n",
    "    print(a)\n",
    "###########\n",
    "#check if luv is in txt\n",
    "txt = 'Hey baby I love you'\n",
    "luv = 'yahh'\n",
    "if luv in txt:\n",
    "    print(txt)\n",
    "elif txt not in 'baby':\n",
    "    print('nahh g')\n",
    "    \n",
    "###########\n",
    "print('Hey' in txt) # returns bool true \n",
    "print('Coouchie' not in txt) # check if item is not in in so and so returns true"
   ]
  },
  {
   "cell_type": "code",
   "execution_count": 23,
   "id": "0b7092a5",
   "metadata": {},
   "outputs": [
    {
     "name": "stdout",
     "output_type": "stream",
     "text": [
      "1 2 354\n",
      "345.0 443.0 2.3\n",
      "307 s1 33\n"
     ]
    }
   ],
   "source": [
    "\"\"\"\n",
    "PYTHON CASTING\n",
    "Variable type casting take the data and assigns it to a specific data type\n",
    "this can be done by using data types like:\n",
    "int()\n",
    "float()\n",
    "str() \n",
    "\"\"\"\n",
    "#int\n",
    "x = int(1)\n",
    "y = int(2.44)\n",
    "z = int(\"354\")\n",
    "\n",
    "print(x,y,z)\n",
    "\n",
    "#float\n",
    "x = float(345)\n",
    "y = float(\"443\")\n",
    "z = float(\"2.3\")\n",
    "\n",
    "print(x,y,z)\n",
    "\n",
    "#str\n",
    "x = str(307)\n",
    "y = str(\"s1\")\n",
    "z = str(33)\n",
    "\n",
    "print(x,y,z)"
   ]
  },
  {
   "cell_type": "code",
   "execution_count": 3,
   "id": "965f62d5",
   "metadata": {},
   "outputs": [
    {
     "name": "stdout",
     "output_type": "stream",
     "text": [
      "(1+0j)\n",
      "2\n",
      "1.0\n",
      "<class 'complex'>\n",
      "<class 'int'>\n",
      "<class 'float'>\n"
     ]
    }
   ],
   "source": [
    "x = 1  #int\n",
    "y = 2.645 #float\n",
    "z = 1j #complex\n",
    "\n",
    "#convert to int to a complex\n",
    "a = complex(x)\n",
    "\n",
    "#convert float to int\n",
    "b = int(y)\n",
    "\n",
    "#convert complex to float\n",
    "c = float(x) #argument must be a string or a real number, not 'complex'\n",
    "\n",
    "print(a)\n",
    "print(b)\n",
    "print(c)\n",
    "\n",
    "\n",
    "print(type(a))\n",
    "print(type(b))\n",
    "print(type(c))"
   ]
  },
  {
   "cell_type": "code",
   "execution_count": 29,
   "id": "18789882",
   "metadata": {},
   "outputs": [
    {
     "name": "stdout",
     "output_type": "stream",
     "text": [
      "<class 'int'>\n",
      "<class 'complex'>\n",
      "<class 'float'>\n",
      "16\n"
     ]
    }
   ],
   "source": [
    "\"\"\"Phython Number\"\"\"\n",
    "x = 1 #int\n",
    "y = 2.4 #float\n",
    "z = 1j #complex\n",
    "print(type(x))\n",
    "print(type(z))\n",
    "print(type(y)) #print number type\n",
    "#python has a random keyword called random\n",
    "import random # import use of a random keyword\n",
    "\n",
    "print(random.randrange(1, 20)) "
   ]
  },
  {
   "cell_type": "code",
   "execution_count": 21,
   "id": "3cc53630",
   "metadata": {},
   "outputs": [
    {
     "name": "stdout",
     "output_type": "stream",
     "text": [
      "<class 'int'>\n",
      "<class 'str'>\n",
      "<class 'set'>\n"
     ]
    }
   ],
   "source": [
    "\"\"\"\n",
    "Data types\n",
    "Text Type:\tstr\n",
    "Numeric Types:\tint, float, complex\n",
    "Sequence Types:\tlist, tuple, range\n",
    "Mapping Type:\tdict\n",
    "Set Types:\tset, frozenset\n",
    "Boolean Type:\tbool\n",
    "Binary Types:\tbytes, bytearray, memoryview\n",
    "None Type:\tNoneType\n",
    "\"\"\"\n",
    "#to get the data type use type() \n",
    "x = int(388)\n",
    "print(type(x))\n",
    "y = \"yahhhhh I love you babyCAKES\"\n",
    "print(type(y))\n",
    "#set\n",
    "z = {\"cool\",3,\"Red\"}\n",
    "print(type(z))"
   ]
  },
  {
   "cell_type": "code",
   "execution_count": 12,
   "id": "61b785cd",
   "metadata": {},
   "outputs": [
    {
     "name": "stdout",
     "output_type": "stream",
     "text": [
      "python is amazing\n",
      "Python is awesome\n"
     ]
    }
   ],
   "source": [
    "\"\"\"GLOBAL VARIABLES\n",
    "These are variables that are creadted from outside of a variable\n",
    "they are used both inside and outside the variable\n",
    "\"\"\"\n",
    "x = \"awesome\" #global variable that defined outside function\n",
    "\n",
    "def myfunc(): #creation function\n",
    "    x = \"amazing\"\n",
    "    print(\"python is \" + x) #Global function called inside function\n",
    "    \n",
    "myfunc() #this returns the function \n",
    "\n",
    "print(\"Python is \" + x) #print from function indside\n"
   ]
  },
  {
   "cell_type": "code",
   "execution_count": 16,
   "id": "4b4276ad",
   "metadata": {},
   "outputs": [
    {
     "name": "stdout",
     "output_type": "stream",
     "text": [
      "Emmanuel is in love with Andrea\n"
     ]
    }
   ],
   "source": [
    "\"\"\"The Global Keyword\n",
    "this means that the vairbale when created in a function is local to that function only \n",
    "it can only be used outside when variable is added to global function\n",
    "global can also be used to change global variables inside a function\n",
    "\"\"\"\n",
    "x = \"Old man\"\n",
    "\n",
    "def myFunc():\n",
    "    global x\n",
    "    global y\n",
    "    x = \"Emmanuel\"\n",
    "    y = \"Andrea\"\n",
    "    \n",
    "myFunc()\n",
    "print(x + \" is in love with \" + y)"
   ]
  },
  {
   "cell_type": "code",
   "execution_count": 17,
   "id": "6e4849f4",
   "metadata": {},
   "outputs": [
    {
     "name": "stdout",
     "output_type": "stream",
     "text": [
      "0\n",
      "1\n",
      "2\n",
      "3\n",
      "4\n",
      "5\n",
      "6\n",
      "7\n",
      "8\n",
      "9\n"
     ]
    },
    {
     "ename": "KeyboardInterrupt",
     "evalue": "Interrupted by user",
     "output_type": "error",
     "traceback": [
      "\u001b[1;31m---------------------------------------------------------------------------\u001b[0m",
      "\u001b[1;31mKeyboardInterrupt\u001b[0m                         Traceback (most recent call last)",
      "Cell \u001b[1;32mIn[17], line 6\u001b[0m\n\u001b[0;32m      4\u001b[0m \u001b[38;5;28;01mfor\u001b[39;00m i \u001b[38;5;129;01min\u001b[39;00m \u001b[38;5;28mrange\u001b[39m(x):\n\u001b[0;32m      5\u001b[0m     \u001b[38;5;28mprint\u001b[39m(i) \u001b[38;5;66;03m#function prints i which output 10 numbers\u001b[39;00m\n\u001b[1;32m----> 6\u001b[0m y \u001b[38;5;241m=\u001b[39m \u001b[38;5;28mint\u001b[39m(\u001b[38;5;28minput\u001b[39m())\n\u001b[0;32m      7\u001b[0m \u001b[38;5;28;01mif\u001b[39;00m y \u001b[38;5;241m%\u001b[39m \u001b[38;5;241m10\u001b[39m \u001b[38;5;241m==\u001b[39m \u001b[38;5;241m0\u001b[39m:\n\u001b[0;32m      8\u001b[0m     \u001b[38;5;28mprint\u001b[39m(\u001b[38;5;124m\"\u001b[39m\u001b[38;5;124mdivided\u001b[39m\u001b[38;5;124m\"\u001b[39m)\n",
      "File \u001b[1;32m~\\anaconda3\\Lib\\site-packages\\ipykernel\\kernelbase.py:1175\u001b[0m, in \u001b[0;36mKernel.raw_input\u001b[1;34m(self, prompt)\u001b[0m\n\u001b[0;32m   1171\u001b[0m \u001b[38;5;28;01mif\u001b[39;00m \u001b[38;5;129;01mnot\u001b[39;00m \u001b[38;5;28mself\u001b[39m\u001b[38;5;241m.\u001b[39m_allow_stdin:\n\u001b[0;32m   1172\u001b[0m     \u001b[38;5;28;01mraise\u001b[39;00m StdinNotImplementedError(\n\u001b[0;32m   1173\u001b[0m         \u001b[38;5;124m\"\u001b[39m\u001b[38;5;124mraw_input was called, but this frontend does not support input requests.\u001b[39m\u001b[38;5;124m\"\u001b[39m\n\u001b[0;32m   1174\u001b[0m     )\n\u001b[1;32m-> 1175\u001b[0m \u001b[38;5;28;01mreturn\u001b[39;00m \u001b[38;5;28mself\u001b[39m\u001b[38;5;241m.\u001b[39m_input_request(\n\u001b[0;32m   1176\u001b[0m     \u001b[38;5;28mstr\u001b[39m(prompt),\n\u001b[0;32m   1177\u001b[0m     \u001b[38;5;28mself\u001b[39m\u001b[38;5;241m.\u001b[39m_parent_ident[\u001b[38;5;124m\"\u001b[39m\u001b[38;5;124mshell\u001b[39m\u001b[38;5;124m\"\u001b[39m],\n\u001b[0;32m   1178\u001b[0m     \u001b[38;5;28mself\u001b[39m\u001b[38;5;241m.\u001b[39mget_parent(\u001b[38;5;124m\"\u001b[39m\u001b[38;5;124mshell\u001b[39m\u001b[38;5;124m\"\u001b[39m),\n\u001b[0;32m   1179\u001b[0m     password\u001b[38;5;241m=\u001b[39m\u001b[38;5;28;01mFalse\u001b[39;00m,\n\u001b[0;32m   1180\u001b[0m )\n",
      "File \u001b[1;32m~\\anaconda3\\Lib\\site-packages\\ipykernel\\kernelbase.py:1217\u001b[0m, in \u001b[0;36mKernel._input_request\u001b[1;34m(self, prompt, ident, parent, password)\u001b[0m\n\u001b[0;32m   1214\u001b[0m             \u001b[38;5;28;01mbreak\u001b[39;00m\n\u001b[0;32m   1215\u001b[0m \u001b[38;5;28;01mexcept\u001b[39;00m \u001b[38;5;167;01mKeyboardInterrupt\u001b[39;00m:\n\u001b[0;32m   1216\u001b[0m     \u001b[38;5;66;03m# re-raise KeyboardInterrupt, to truncate traceback\u001b[39;00m\n\u001b[1;32m-> 1217\u001b[0m     \u001b[38;5;28;01mraise\u001b[39;00m \u001b[38;5;167;01mKeyboardInterrupt\u001b[39;00m(\u001b[38;5;124m\"\u001b[39m\u001b[38;5;124mInterrupted by user\u001b[39m\u001b[38;5;124m\"\u001b[39m) \u001b[38;5;28;01mfrom\u001b[39;00m \u001b[38;5;28;01mNone\u001b[39;00m\n\u001b[0;32m   1218\u001b[0m \u001b[38;5;28;01mexcept\u001b[39;00m \u001b[38;5;167;01mException\u001b[39;00m:\n\u001b[0;32m   1219\u001b[0m     \u001b[38;5;28mself\u001b[39m\u001b[38;5;241m.\u001b[39mlog\u001b[38;5;241m.\u001b[39mwarning(\u001b[38;5;124m\"\u001b[39m\u001b[38;5;124mInvalid Message:\u001b[39m\u001b[38;5;124m\"\u001b[39m, exc_info\u001b[38;5;241m=\u001b[39m\u001b[38;5;28;01mTrue\u001b[39;00m)\n",
      "\u001b[1;31mKeyboardInterrupt\u001b[0m: Interrupted by user"
     ]
    }
   ],
   "source": [
    "#Output Variables\n",
    "\"\"\"This makes use of the print() function\"\"\"\n",
    "x = 10\n",
    "for i in range(x):\n",
    "    print(i) #function prints i which output 10 numbers\n",
    "y = int(input())\n",
    "if y % 10 == 0:\n",
    "    print(\"divided\")\n",
    "else:\n",
    "    print(\"not\")\n",
    "x = 4\n",
    "y = 8.554\n",
    "print(x+y)# this works only for numbers and not string which is text"
   ]
  },
  {
   "cell_type": "code",
   "execution_count": 3,
   "id": "176c1e62",
   "metadata": {},
   "outputs": [
    {
     "name": "stdout",
     "output_type": "stream",
     "text": [
      "Black\n",
      "White\n",
      "Green\n",
      "Cream\n",
      "Cream\n",
      "Cream\n",
      "apple carrot pear\n"
     ]
    }
   ],
   "source": [
    "#Assign values to multiple variables in one line\n",
    "x, y, z = \"Black\", \"White\", \"Green\"\n",
    "print(x)\n",
    "print(y)\n",
    "print(z)\n",
    "#Assign same value to multple variable\n",
    "x = y = z = \"Cream\"\n",
    "print(x)\n",
    "print(y)\n",
    "print(z)\n",
    "#extract values into variables called unpacking\n",
    "fruits = [\"apple\", \"carrot\", \"pear\"]\n",
    "x, y, z = fruits\n",
    "print(x, y, z)"
   ]
  },
  {
   "cell_type": "code",
   "execution_count": 24,
   "id": "fa4a3918",
   "metadata": {
    "scrolled": true
   },
   "outputs": [
    {
     "ename": "NameError",
     "evalue": "name 'sum' is not defined",
     "output_type": "error",
     "traceback": [
      "\u001b[1;31m---------------------------------------------------------------------------\u001b[0m",
      "\u001b[1;31mNameError\u001b[0m                                 Traceback (most recent call last)",
      "Cell \u001b[1;32mIn[24], line 6\u001b[0m\n\u001b[0;32m      1\u001b[0m \u001b[38;5;124;03m\"\"\"\u001b[39;00m\n\u001b[0;32m      2\u001b[0m \u001b[38;5;124;03mA variable is basically a box. it holds a value. \u001b[39;00m\n\u001b[0;32m      3\u001b[0m \n\u001b[0;32m      4\u001b[0m \u001b[38;5;124;03ma function is a bit of code that does something. \u001b[39;00m\n\u001b[0;32m      5\u001b[0m \u001b[38;5;124;03m\"\"\"\u001b[39;00m\n\u001b[1;32m----> 6\u001b[0m \u001b[38;5;28;01mdel\u001b[39;00m \u001b[38;5;28msum\u001b[39m\n",
      "\u001b[1;31mNameError\u001b[0m: name 'sum' is not defined"
     ]
    }
   ],
   "source": [
    "\"\"\"\n",
    "A variable is basically a box. it holds a value. \n",
    "\n",
    "a function is a bit of code that does something. \n",
    "\"\"\"\n",
    "del sum # delete object"
   ]
  },
  {
   "cell_type": "code",
   "execution_count": 23,
   "id": "96f2912b",
   "metadata": {
    "scrolled": false
   },
   "outputs": [
    {
     "data": {
      "text/plain": [
       "5"
      ]
     },
     "execution_count": 23,
     "metadata": {},
     "output_type": "execute_result"
    }
   ],
   "source": [
    "sum([2,3])"
   ]
  },
  {
   "cell_type": "code",
   "execution_count": 25,
   "id": "fc0010c9",
   "metadata": {},
   "outputs": [
    {
     "name": "stdout",
     "output_type": "stream",
     "text": [
      "Enter your number: 20\n",
      "The sum of the number 20 is 210\n",
      "The average of the sum is 105.0\n"
     ]
    }
   ],
   "source": [
    "#take in the number from input\n",
    "#iterate through each number and add them together\n",
    "total = 0\n",
    "n = int(input('Enter your number: '))\n",
    "for i in range(1, n+1, 1): #run the function through loop then\n",
    "    total = total + i\n",
    "print('The sum of the number', n, 'is', total)\n",
    "avg = total/2\n",
    "print('The average of the sum is', avg)\n",
    "    "
   ]
  },
  {
   "cell_type": "code",
   "execution_count": 17,
   "id": "dc79e039",
   "metadata": {},
   "outputs": [
    {
     "name": "stdout",
     "output_type": "stream",
     "text": [
      "1  \n",
      "1 2  \n",
      "1 2 3  \n",
      "1 2 3 4  \n",
      "1 2 3 4 5  \n"
     ]
    }
   ],
   "source": [
    "# start: 1\n",
    "# stop: row+1 (range never include stop number in result)\n",
    "# step: 1\n",
    "# run loop 5 times\n",
    "n = 5 # number of rows\n",
    "for i in range(1, n+1): #number of rows print - print 5 times\n",
    "    #inner loop\n",
    "    for j in range(1, i + 1): #number of coloumn in each row\n",
    "        print(j, end=\" \")#move to end \n",
    "    print(\" \")\n",
    "     \n",
    "    "
   ]
  },
  {
   "cell_type": "code",
   "execution_count": 4,
   "id": "11b7545b",
   "metadata": {
    "scrolled": false
   },
   "outputs": [
    {
     "name": "stdout",
     "output_type": "stream",
     "text": [
      "0\n",
      "1\n",
      "2\n",
      "3\n",
      "4\n",
      "5\n",
      "6\n",
      "7\n",
      "8\n",
      "9\n"
     ]
    }
   ],
   "source": [
    "for i in range(10):\n",
    "    print(i)\n",
    "    i += 1"
   ]
  },
  {
   "cell_type": "code",
   "execution_count": null,
   "id": "2df31efb",
   "metadata": {},
   "outputs": [],
   "source": [
    "#Variable names\n",
    "\"\"\"\n",
    "this can start with a underscore or a letter\n",
    "cannot start with a number\n",
    "case senstive Age AGE diffrent things\n",
    "keywords cannot be variables\n",
    "\"\"\"\n",
    "myNam = 1\n",
    "_myName = 1\n",
    "Myname = 1\n",
    "MYNAME =1\n"
   ]
  },
  {
   "cell_type": "code",
   "execution_count": 24,
   "id": "8039e010",
   "metadata": {},
   "outputs": [
    {
     "name": "stdout",
     "output_type": "stream",
     "text": [
      "3 3 3.0\n",
      "<class 'int'>\n",
      "<class 'str'>\n"
     ]
    }
   ],
   "source": [
    "#Casting \n",
    "\"\"\"\n",
    "This allows you specify the data type of a variable\n",
    "This is done through casting\n",
    "\"\"\"\n",
    "x = str(3) #string based \n",
    "y = int(3) #integer based data type\n",
    "z = float(3) #float decimal based data type\n",
    "print(x,y,z)\n",
    "#Get type()\n",
    "\"\"\"\n",
    "This enables the user to get the type variable from the function\n",
    "\"\"\"\n",
    "xy = 5\n",
    "yx = \"John\"\n",
    "print(type(xy)) #int integer data type for a whole number \n",
    "print(type(yx)) #str because it is string using alphabets, word or characters"
   ]
  },
  {
   "cell_type": "code",
   "execution_count": 27,
   "id": "cd9679b5",
   "metadata": {
    "scrolled": true
   },
   "outputs": [
    {
     "name": "stdout",
     "output_type": "stream",
     "text": [
      "Johnny Boiiiiii Johnnnnny Boi\n"
     ]
    }
   ],
   "source": [
    "#Comments this has a '#' at the stat\n",
    "'''This is another type of commenting'''#This also has a output in terminal\n",
    "\"\"\"This too is another type of commenting\"\"\"\n",
    "#Quotations Single ' '& Double \" \"\n",
    "x = \"Johnny Boiiiiii\"\n",
    "# these are the same things\n",
    "y = 'Johnnnnny Boi'\n",
    "print (x,\n",
    "       y)\n",
    "#Case Sensitive\n",
    "#create two seperate variables\n",
    "a = 4\n",
    "A = 4"
   ]
  },
  {
   "cell_type": "code",
   "execution_count": 22,
   "id": "e63d6a6f",
   "metadata": {},
   "outputs": [
    {
     "name": "stdout",
     "output_type": "stream",
     "text": [
      "5\n",
      "Hello mister Man\n",
      "Yeshumerrrr\n"
     ]
    }
   ],
   "source": [
    "#Python Variables\n",
    "\"\"\"\n",
    "The need for variables is to assign a value to it \n",
    "Python has no command for declaring a variable.\n",
    "\"\"\"\n",
    "x = 5 #5 is stored in x\n",
    "print(x) #No indetation because it is not a block of code\n",
    "y = \"Hello mister Man\"\n",
    "print(y)\n",
    "\"\"\"\n",
    "The use for variables is to be containers for storing data values\n",
    "The variables don't need to be declared with any particular type eg. int, str.\n",
    "they can also change type after being set\n",
    "\"\"\"\n",
    "z = 5900\n",
    "z = \"Yeshumerrrr\"\n",
    "print(z)"
   ]
  },
  {
   "cell_type": "code",
   "execution_count": 15,
   "id": "49a8d701",
   "metadata": {},
   "outputs": [
    {
     "name": "stdout",
     "output_type": "stream",
     "text": [
      "7 is greater than 5\n"
     ]
    }
   ],
   "source": [
    "#python Identation\n",
    "\"\"\"\n",
    "The space at the begining of the code\n",
    "The use of this is to indicate a block of code\n",
    "\"\"\"\n",
    "if 5>6:\n",
    "                print(\"Five is greater than two!\")\n",
    "if 7>5:\n",
    "            print(\"7 is greater than 5\")"
   ]
  },
  {
   "cell_type": "code",
   "execution_count": 1,
   "id": "d5959bff",
   "metadata": {},
   "outputs": [
    {
     "name": "stdout",
     "output_type": "stream",
     "text": [
      "Hello World\n"
     ]
    }
   ],
   "source": [
    "#Python relies on indentation, using whitespace, to define scope; such as the scope of loops, functions and classes. Other programming languages often use curly-brackets for this purpose.\n",
    "print(\"Hello World\")\n"
   ]
  }
 ],
 "metadata": {
  "kernelspec": {
   "display_name": "Python 3 (ipykernel)",
   "language": "python",
   "name": "python3"
  },
  "language_info": {
   "codemirror_mode": {
    "name": "ipython",
    "version": 3
   },
   "file_extension": ".py",
   "mimetype": "text/x-python",
   "name": "python",
   "nbconvert_exporter": "python",
   "pygments_lexer": "ipython3",
   "version": "3.11.3"
  }
 },
 "nbformat": 4,
 "nbformat_minor": 5
}
