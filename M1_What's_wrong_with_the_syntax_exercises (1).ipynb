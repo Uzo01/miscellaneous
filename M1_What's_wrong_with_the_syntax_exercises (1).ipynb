{
 "cells": [
  {
   "cell_type": "code",
   "execution_count": 3,
   "metadata": {
    "id": "nZ5JWE5ehjMP"
   },
   "outputs": [
    {
     "name": "stdout",
     "output_type": "stream",
     "text": [
      "Number is greater than 3\n"
     ]
    }
   ],
   "source": [
    "# Correct the syntax error in the following code:\n",
    "num = 5\n",
    "if num > 3:\n",
    "    print(\"Number is greater than 3\")\n"
   ]
  },
  {
   "cell_type": "code",
   "execution_count": 5,
   "metadata": {
    "id": "umHB_z57hkqu"
   },
   "outputs": [
    {
     "name": "stdout",
     "output_type": "stream",
     "text": [
      "5\n"
     ]
    }
   ],
   "source": [
    "# Correct the syntax error in the following code:\n",
    "def add_numbers(a, b):\n",
    "    return a + b\n",
    "result = add_numbers(2, 3)\n",
    "print(result)\n"
   ]
  },
  {
   "cell_type": "code",
   "execution_count": 8,
   "metadata": {
    "id": "zJT_wVrshnOh"
   },
   "outputs": [
    {
     "name": "stdout",
     "output_type": "stream",
     "text": [
      "13\n"
     ]
    }
   ],
   "source": [
    "# Correct the syntax error in the following code:\n",
    "string_var = \"Hello, world!\"\n",
    "print(len(string_var)) #len() function\n"
   ]
  },
  {
   "cell_type": "code",
   "execution_count": 10,
   "metadata": {
    "id": "QfSVrZNwho-j"
   },
   "outputs": [
    {
     "name": "stdout",
     "output_type": "stream",
     "text": [
      "0\n",
      "1\n",
      "2\n",
      "3\n",
      "4\n"
     ]
    }
   ],
   "source": [
    "# Correct the syntax error in the following code:\n",
    "for i in range(5):#Colon\n",
    "    print(i)\n"
   ]
  },
  {
   "cell_type": "code",
   "execution_count": 22,
   "metadata": {
    "id": "7_WvtOFmhqm-"
   },
   "outputs": [
    {
     "name": "stdout",
     "output_type": "stream",
     "text": [
      "The product is: Hello, world! 28\n"
     ]
    }
   ],
   "source": [
    "# Correct the syntax error in the following code:\n",
    "def multiply(a, b):\n",
    "    result = a * b\n",
    "    return result\n",
    "\n",
    "x = 4\n",
    "y = 7\n",
    "print(f\"The product is: \" + str, multiply(x, y)) #Convert the integer variable to a string before concatenating\n"
   ]
  },
  {
   "cell_type": "code",
   "execution_count": 24,
   "metadata": {
    "id": "YayhtunBhrWF"
   },
   "outputs": [
    {
     "name": "stdout",
     "output_type": "stream",
     "text": [
      "Enter your age: 17\n",
      "You are a minor.\n"
     ]
    }
   ],
   "source": [
    "# Correct the syntax error in the following code:\n",
    "age = int(input(\"Enter your age: \"))#int function needed \n",
    "if age < 18:\n",
    "    print(\"You are a minor.\")\n",
    "else:\n",
    "    print(\"You are an adult.\")\n"
   ]
  },
  {
   "cell_type": "code",
   "execution_count": 26,
   "metadata": {
    "id": "cliUdl1XhwKa"
   },
   "outputs": [
    {
     "name": "stdout",
     "output_type": "stream",
     "text": [
      "1\n",
      "2\n",
      "3\n",
      "4\n",
      "5\n"
     ]
    }
   ],
   "source": [
    "# Correct the syntax error in the following code:\n",
    "numbers = [1, 2, 3, 4, 5]\n",
    "for num in numbers: #colon\n",
    "    print(num)\n"
   ]
  },
  {
   "cell_type": "code",
   "execution_count": 28,
   "metadata": {
    "id": "NRIEiDLwhy0N"
   },
   "outputs": [
    {
     "name": "stdout",
     "output_type": "stream",
     "text": [
      "Hello, Alice!\n"
     ]
    }
   ],
   "source": [
    "# Correct the syntax error in the following code:\n",
    "def greet(name):\n",
    "    print(\"Hello, \" + name + \"!\")\n",
    "greet(\"Alice\")\n"
   ]
  },
  {
   "cell_type": "code",
   "execution_count": 36,
   "metadata": {
    "colab": {
     "base_uri": "https://localhost:8080/"
    },
    "id": "meMgPPYbjS12",
    "outputId": "36ff70a5-96f3-43cb-e054-827721930ed8"
   },
   "outputs": [],
   "source": [
    "# correct the docstrings\n",
    "\n",
    "def calculate(value1,value2):\n",
    "    ''''calculates the sum of two numbers and multiplies the sum by its product''' #indentation and addage of ''' '''\n",
    "    return (value1+value2)*value1*value2"
   ]
  },
  {
   "cell_type": "code",
   "execution_count": 9,
   "metadata": {
    "id": "Lm2rNHjDtrWD"
   },
   "outputs": [
    {
     "name": "stdout",
     "output_type": "stream",
     "text": [
      "{1, 2, 3, 34, 5, 6, 8, 9}\n",
      "{1, 2, 3, 34, 5, 6, 8, 9}\n",
      "{1, 2, 3, 34, 5, 6, 8, 9}\n",
      "{1, 2, 3, 34, 5, 6, 8, 9}\n",
      "{1, 2, 3, 34, 5, 6, 8, 9}\n",
      "{1, 2, 3, 34, 5, 6, 8, 9}\n",
      "{1, 2, 3, 34, 5, 6, 8, 9}\n",
      "{1, 2, 3, 34, 5, 6, 8, 9}\n"
     ]
    }
   ],
   "source": [
    "# convert list of ids to primary keys\n",
    "#Primary keys are unique values\n",
    "#Hint : You can convert a list of number to a set of unique numbers using the set() type casting function.\n",
    "\n",
    "list1 = set([1,1,2,34,2,1,3,5,6,8,9])#add sets to create unique numbers\n",
    "for i in range(0,len(list1)):\n",
    "    print(list1)\n"
   ]
  },
  {
   "cell_type": "code",
   "execution_count": 6,
   "metadata": {
    "colab": {
     "base_uri": "https://localhost:8080/"
    },
    "id": "va9sq2VKuEvc",
    "outputId": "f9eb43b9-2c1b-4739-bb50-7a5b9525d6ee"
   },
   "outputs": [
    {
     "name": "stdout",
     "output_type": "stream",
     "text": [
      "I am a 33 YO Male and my date of bith is 23/04/1998.45\n"
     ]
    }
   ],
   "source": [
    "# whats wrong with the print output\n",
    "Gender = 'Male'\n",
    "Age = '33.133'\n",
    "DOB = '23/04/1998.45'\n",
    "store_str = 'I am a {} YO {} and my date of bith is {}'.format(Age[0:2],Gender,DOB)\n",
    "print(store_str)\n",
    "#format is not done in correct order"
   ]
  },
  {
   "cell_type": "code",
   "execution_count": 4,
   "metadata": {
    "id": "OGuIkh4bvpPI"
   },
   "outputs": [],
   "source": [
    "#Whats wrong with the syntax\n",
    "def number_info(value):\n",
    "    if value == 2:\n",
    "        print('Value is 2')\n",
    "    if value%2==0:\n",
    "        print('Value is prime')\n",
    "    if value<5:\n",
    "        print('Value is less than 5')\n",
    "#indentation problem to the code block"
   ]
  },
  {
   "cell_type": "markdown",
   "metadata": {
    "id": "yurSpY5kb9S6"
   },
   "source": [
    "Below exercises are not needed for homework submission on week 1"
   ]
  },
  {
   "cell_type": "code",
   "execution_count": 7,
   "metadata": {
    "id": "wlRb1RDkwVSw"
   },
   "outputs": [],
   "source": [
    "#Write a function to return every nth element from the list and store it in a single list as a list with nested list each containing n elements\n",
    "# example:\n",
    "# [1,2,3,4,5,6,7,8,8,9]\n",
    "# n=3\n",
    "# output:\n",
    "# [[1,2,3],[4,5,6],[7,8,8],[9]]\n",
    "\n",
    "import numpy as np\n",
    "\n",
    "arr = np.random.randint(0,100,10000)\n",
    "def return_nt_Element(value, n):\n",
    "    element_list = [] #inialise the element_list\n",
    "    sublist = [] #initialiuse sublist to hold n \n",
    "    for i, element in enumerate(value): ##enumerate used to loop through the inputted list\n",
    "        sublist.append(element)#check the current element to the sublist\n",
    "        if (i + 1) % n == 0 or i == len(value) - 1: #check if index is increaed by 1 checks if equal to length \n",
    "            element_list.append(sublist) #add sublist to element list \n",
    "            sublist=[] #reset sublist \n",
    "        \n",
    "    print(element_list)\n"
   ]
  },
  {
   "cell_type": "code",
   "execution_count": null,
   "metadata": {
    "id": "XrEiAKgQiLaR"
   },
   "outputs": [],
   "source": [
    "# Write a Python program to create a list by concatenating a given list which range goes from 1 to n\n",
    "# example list ['a','b']\n",
    "# n = 5\n",
    "# output ['a1','a2','a3','a4','a5','b1','b2','b3','b4','b5']\n",
    "\n",
    "def Conc_list(n): #define function\n",
    "    list1 = [] #list is initialised\n",
    "    for i in range (1, n + 1): # loop iterates from 1 to n\n",
    "        list1.append(i) # append to add current value of i to list\n",
    "        \n",
    "    return list1 # return list 1\n",
    "    \n",
    "    \n"
   ]
  }
 ],
 "metadata": {
  "colab": {
   "provenance": []
  },
  "kernelspec": {
   "display_name": "Python 3 (ipykernel)",
   "language": "python",
   "name": "python3"
  },
  "language_info": {
   "codemirror_mode": {
    "name": "ipython",
    "version": 3
   },
   "file_extension": ".py",
   "mimetype": "text/x-python",
   "name": "python",
   "nbconvert_exporter": "python",
   "pygments_lexer": "ipython3",
   "version": "3.11.3"
  }
 },
 "nbformat": 4,
 "nbformat_minor": 1
}
