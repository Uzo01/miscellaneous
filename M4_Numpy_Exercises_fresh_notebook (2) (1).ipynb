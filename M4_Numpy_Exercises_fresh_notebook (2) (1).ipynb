{
 "cells": [
  {
   "cell_type": "code",
   "execution_count": 4,
   "metadata": {
    "id": "AQ8ZsZyJDEcy"
   },
   "outputs": [
    {
     "name": "stdout",
     "output_type": "stream",
     "text": [
      "[-3 -4 -5 -6 -7 -8]\n"
     ]
    }
   ],
   "source": [
    "#Given a 1D array, negate all elements which are between 3 and 8, in place.\n",
    "import numpy as np\n",
    "arr1 = np.array([1,2,3,4,5,6,7,8])\n",
    "print(np.negative(arr1[2:8])) "
   ]
  },
  {
   "cell_type": "code",
   "execution_count": 11,
   "metadata": {
    "id": "9-jItC0TDVqQ"
   },
   "outputs": [
    {
     "data": {
      "text/plain": [
       "array([[6.91654419, 9.64956305, 5.79207357],\n",
       "       [9.95935034, 5.31355522, 8.67705497],\n",
       "       [5.45610221, 8.26934247, 9.04847135],\n",
       "       [9.88787671, 9.52739144, 6.00386233],\n",
       "       [8.0718899 , 5.7621937 , 5.84764186]])"
      ]
     },
     "execution_count": 11,
     "metadata": {},
     "output_type": "execute_result"
    }
   ],
   "source": [
    "#Create a 2D array of shape 5x3 to contain random decimal numbers between 5 and 10.\n",
    "import numpy as np \n",
    "arr2 = np.random.uniform(5,10, (5,3))\n",
    "arr2"
   ]
  },
  {
   "cell_type": "code",
   "execution_count": 14,
   "metadata": {
    "id": "HDaCE9PmDajj"
   },
   "outputs": [
    {
     "name": "stdout",
     "output_type": "stream",
     "text": [
      "[ 2  3  4  5  6  7  8  9 10]\n"
     ]
    }
   ],
   "source": [
    "# Given a 1D array, add 1 to every alternate element.\n",
    "import numpy as np\n",
    "arr3 = np.array([1,2,3,4,5,6,7,8,9])\n",
    "for x in range(len(arr3)):\n",
    "    arr3[x]+=1 #loop at the index i\n",
    "print(arr3)"
   ]
  },
  {
   "cell_type": "code",
   "execution_count": 22,
   "metadata": {
    "id": "OUyapZj5DqpS"
   },
   "outputs": [
    {
     "data": {
      "text/plain": [
       "array([1, 2, 3, 4, 2, 3, 4, 5])"
      ]
     },
     "execution_count": 22,
     "metadata": {},
     "output_type": "execute_result"
    }
   ],
   "source": [
    "# Given a 2D array, flatten it to a 1D array.\n",
    "import numpy as np\n",
    "arr4 = np.array([[1,2,3,4], [2,3,4,5]]) # must be the same amount of array \n",
    "arr4.flatten()"
   ]
  },
  {
   "cell_type": "code",
   "execution_count": 29,
   "metadata": {
    "id": "QEsIccWHDjR1"
   },
   "outputs": [
    {
     "data": {
      "text/plain": [
       "array([[ 0,  1,  2],\n",
       "       [ 3,  4,  5],\n",
       "       [ 6,  7,  8],\n",
       "       [ 9, 10, 11],\n",
       "       [12, 13, 14],\n",
       "       [15, 16, 17],\n",
       "       [18, 19, 20]])"
      ]
     },
     "execution_count": 29,
     "metadata": {},
     "output_type": "execute_result"
    }
   ],
   "source": [
    "# Convert a 1D array of 20 grayscale image values into a 2D array of 5x4 shape.\n",
    "import numpy as np\n",
    "arr5 = np.arange(21).reshape((7,3))\n",
    "arr5"
   ]
  },
  {
   "cell_type": "code",
   "execution_count": 4,
   "metadata": {
    "id": "meMgPPYbjS12"
   },
   "outputs": [],
   "source": [
    "# replace odd numbers in a 3 dimensional array with even number\n",
    "\n",
    "import numpy as np\n",
    "np.random.seed(100)\n",
    "store = np.random.normal(5,10,27).astype(int)"
   ]
  },
  {
   "cell_type": "code",
   "execution_count": 6,
   "metadata": {
    "id": "IwtPzeNat6nH"
   },
   "outputs": [
    {
     "ename": "AttributeError",
     "evalue": "'numpy.ndarray' object has no attribute 'replace'",
     "output_type": "error",
     "traceback": [
      "\u001b[1;31m---------------------------------------------------------------------------\u001b[0m",
      "\u001b[1;31mAttributeError\u001b[0m                            Traceback (most recent call last)",
      "Cell \u001b[1;32mIn[6], line 2\u001b[0m\n\u001b[0;32m      1\u001b[0m store\u001b[38;5;241m=\u001b[39mstore\u001b[38;5;241m.\u001b[39mreshape((\u001b[38;5;241m3\u001b[39m,\u001b[38;5;241m3\u001b[39m,\u001b[38;5;241m3\u001b[39m))\n\u001b[1;32m----> 2\u001b[0m store\u001b[38;5;241m=\u001b[39mstore\u001b[38;5;241m.\u001b[39mreplace(\u001b[38;5;241m2\u001b[39m)\n",
      "\u001b[1;31mAttributeError\u001b[0m: 'numpy.ndarray' object has no attribute 'replace'"
     ]
    }
   ],
   "source": [
    "store=store.reshape((3,3,3))\n"
   ]
  },
  {
   "cell_type": "code",
   "execution_count": 40,
   "metadata": {
    "colab": {
     "base_uri": "https://localhost:8080/"
    },
    "id": "xObvBHv4uNo8",
    "outputId": "ba2db20a-4922-4ddf-97e8-27bc8971eb96"
   },
   "outputs": [
    {
     "data": {
      "text/plain": [
       "array([[[-12,   8,  16],\n",
       "        [  2,  14,  10],\n",
       "        [  7,  -5,   3]],\n",
       "\n",
       "       [[  7,   0,   9],\n",
       "        [  0,  13,  11],\n",
       "        [  3,   0,  15]],\n",
       "\n",
       "       [[  0,  -6,  21],\n",
       "        [ 20,   2,  -3],\n",
       "        [  6,  14,  12]]])"
      ]
     },
     "execution_count": 40,
     "metadata": {},
     "output_type": "execute_result"
    }
   ],
   "source": [
    "store\n"
   ]
  },
  {
   "cell_type": "code",
   "execution_count": 28,
   "metadata": {
    "colab": {
     "base_uri": "https://localhost:8080/"
    },
    "id": "cvTrWvFWa--D",
    "outputId": "e914cb41-9acf-4139-98f1-e45e50d072d1"
   },
   "outputs": [
    {
     "name": "stdout",
     "output_type": "stream",
     "text": [
      "Lets play Chess baby\n",
      "0 1 0 1 0 1 0 1 \n",
      "1 0 1 0 1 0 1 0 \n",
      "0 1 0 1 0 1 0 1 \n",
      "1 0 1 0 1 0 1 0 \n",
      "0 1 0 1 0 1 0 1 \n",
      "1 0 1 0 1 0 1 0 \n",
      "0 1 0 1 0 1 0 1 \n",
      "1 0 1 0 1 0 1 0 \n"
     ]
    }
   ],
   "source": [
    "#Exercise 2 create a 2 dimension numpy array to fill with 0's and 1's but the output should look like a checker board\n",
    "'''\n",
    "[[0 1 0 1 0 1 0 1]\n",
    " [1 0 1 0 1 0 1 0]\n",
    " [0 1 0 1 0 1 0 1]\n",
    " [1 0 1 0 1 0 1 0]\n",
    " [0 1 0 1 0 1 0 1]\n",
    " [1 0 1 0 1 0 1 0]\n",
    " [0 1 0 1 0 1 0 1]\n",
    " [1 0 1 0 1 0 1 0]]\n",
    "'''\n",
    "# Solution\n",
    "\n",
    "import numpy as np\n",
    "def checkerBoard(n):\n",
    "    print(\"Lets play Chess baby\")\n",
    "    arr6 = np.zeros((n,n), dtype=int)\n",
    "    \n",
    "    arr6[1::2, ::2] = 1\n",
    "    arr6[::2, 1::2] = 1\n",
    "     \n",
    "    for i in range(n):\n",
    "        for j in range(n):\n",
    "            print(arr6[i][j], end=\" \")\n",
    "        print()\n",
    "n = 8\n",
    "checkerBoard(n)"
   ]
  },
  {
   "cell_type": "code",
   "execution_count": 34,
   "metadata": {
    "colab": {
     "base_uri": "https://localhost:8080/"
    },
    "id": "qG6m_6rZdD21",
    "outputId": "79f972d6-dacd-4266-eeb6-520d54b6ab39"
   },
   "outputs": [
    {
     "name": "stdout",
     "output_type": "stream",
     "text": [
      "[False False False False False False False  True False False False False\n",
      " False False False False False False False False False False False False\n",
      "  True False False False  True  True False  True False False False False\n",
      " False False False False False False False  True  True False False  True\n",
      " False False False  True  True False  True False False False False False\n",
      "  True False False False False  True False False False False False False\n",
      " False False False False False False False False False  True False  True\n",
      " False False False False  True  True  True False False False False False\n",
      " False False  True False False False  True False False  True False False\n",
      "  True  True False False  True False False False False  True False False\n",
      " False  True False  True False False  True  True  True False False False\n",
      "  True False False  True  True  True False  True False False  True False\n",
      "  True False  True False  True False False False False  True False False\n",
      " False False  True  True False False False False False False False False\n",
      " False False False  True False  True False  True False False False False\n",
      " False False False False  True False False  True False False False False\n",
      " False  True False  True False False False  True]\n"
     ]
    }
   ],
   "source": [
    "#Exercise 3 Consider a numpy array of shape (200,3)\n",
    "# We need to extract those rows which are symmetrical.\n",
    "# [1,2,1] is symmetrical [1,2,3] isnt\n",
    "\n",
    "Z = np.random.randint(0,5,(200,3))\n",
    "# [0,2,0]\n",
    "# solution 1\n",
    "isSymetric = (Z[:, 0] == Z[:, 2])\n",
    "symmetricalarr = isSymetric\n",
    "print(symmetricalarr)"
   ]
  },
  {
   "cell_type": "code",
   "execution_count": 30,
   "metadata": {
    "id": "he0uHOtXqZM2"
   },
   "outputs": [],
   "source": [
    "# Exercise 4 Make the above array symmetrical\n"
   ]
  },
  {
   "cell_type": "code",
   "execution_count": null,
   "metadata": {
    "colab": {
     "base_uri": "https://localhost:8080/"
    },
    "id": "EfOPM-Hm-hZt",
    "outputId": "475ae411-e9e9-4e0a-9a1f-3fbf262949f4"
   },
   "outputs": [
    {
     "data": {
      "text/plain": [
       "array([[4, 2, 4],\n",
       "       [3, 3, 3],\n",
       "       [0, 1, 0],\n",
       "       [2, 3, 2],\n",
       "       [4, 2, 4],\n",
       "       [3, 1, 3],\n",
       "       [4, 3, 4],\n",
       "       [2, 2, 2],\n",
       "       [2, 4, 2],\n",
       "       [2, 2, 2],\n",
       "       [2, 2, 2],\n",
       "       [4, 2, 4],\n",
       "       [3, 1, 3],\n",
       "       [0, 1, 0],\n",
       "       [4, 2, 4],\n",
       "       [3, 1, 3],\n",
       "       [3, 0, 3],\n",
       "       [1, 3, 1],\n",
       "       [4, 2, 4],\n",
       "       [3, 4, 3],\n",
       "       [2, 0, 2],\n",
       "       [0, 4, 0],\n",
       "       [4, 4, 4],\n",
       "       [0, 1, 0],\n",
       "       [4, 2, 4],\n",
       "       [3, 2, 3],\n",
       "       [3, 4, 3],\n",
       "       [3, 1, 3],\n",
       "       [0, 0, 0],\n",
       "       [4, 2, 4],\n",
       "       [2, 1, 2],\n",
       "       [1, 2, 1],\n",
       "       [0, 2, 0],\n",
       "       [4, 2, 4],\n",
       "       [2, 1, 2],\n",
       "       [2, 4, 2],\n",
       "       [3, 4, 3],\n",
       "       [1, 3, 1],\n",
       "       [2, 2, 2],\n",
       "       [1, 2, 1],\n",
       "       [0, 3, 0],\n",
       "       [4, 2, 4],\n",
       "       [0, 0, 0],\n",
       "       [3, 2, 3],\n",
       "       [1, 0, 1],\n",
       "       [0, 0, 0],\n",
       "       [1, 2, 1],\n",
       "       [3, 1, 3],\n",
       "       [3, 2, 3],\n",
       "       [4, 4, 4],\n",
       "       [4, 3, 4],\n",
       "       [3, 2, 3],\n",
       "       [3, 2, 3],\n",
       "       [2, 0, 2],\n",
       "       [1, 4, 1],\n",
       "       [0, 3, 0],\n",
       "       [1, 4, 1],\n",
       "       [4, 2, 4],\n",
       "       [1, 4, 1],\n",
       "       [3, 2, 3],\n",
       "       [1, 2, 1],\n",
       "       [4, 3, 4],\n",
       "       [2, 3, 2],\n",
       "       [2, 4, 2],\n",
       "       [4, 1, 4],\n",
       "       [0, 2, 0],\n",
       "       [0, 0, 0],\n",
       "       [1, 0, 1],\n",
       "       [0, 4, 0],\n",
       "       [1, 3, 1],\n",
       "       [3, 2, 3],\n",
       "       [3, 0, 3],\n",
       "       [2, 1, 2],\n",
       "       [4, 2, 4],\n",
       "       [3, 0, 3],\n",
       "       [1, 3, 1],\n",
       "       [3, 2, 3],\n",
       "       [3, 0, 3],\n",
       "       [2, 4, 2],\n",
       "       [0, 1, 0],\n",
       "       [1, 0, 1],\n",
       "       [3, 4, 3],\n",
       "       [2, 0, 2],\n",
       "       [1, 4, 1],\n",
       "       [2, 4, 2],\n",
       "       [1, 0, 1],\n",
       "       [4, 4, 4],\n",
       "       [3, 3, 3],\n",
       "       [1, 1, 1],\n",
       "       [3, 1, 3],\n",
       "       [1, 2, 1],\n",
       "       [3, 4, 3],\n",
       "       [4, 3, 4],\n",
       "       [2, 4, 2],\n",
       "       [2, 2, 2],\n",
       "       [2, 0, 2],\n",
       "       [4, 3, 4],\n",
       "       [1, 3, 1],\n",
       "       [2, 3, 2],\n",
       "       [0, 1, 0],\n",
       "       [0, 2, 0],\n",
       "       [4, 4, 4],\n",
       "       [1, 2, 1],\n",
       "       [2, 4, 2],\n",
       "       [4, 1, 4],\n",
       "       [0, 1, 0],\n",
       "       [4, 0, 4],\n",
       "       [0, 4, 0],\n",
       "       [2, 2, 2],\n",
       "       [2, 3, 2],\n",
       "       [3, 0, 3],\n",
       "       [3, 2, 3],\n",
       "       [3, 1, 3],\n",
       "       [1, 3, 1],\n",
       "       [2, 2, 2],\n",
       "       [1, 2, 1],\n",
       "       [0, 1, 0],\n",
       "       [2, 1, 2],\n",
       "       [2, 2, 2],\n",
       "       [3, 3, 3],\n",
       "       [4, 2, 4],\n",
       "       [1, 3, 1],\n",
       "       [2, 1, 2],\n",
       "       [0, 4, 0],\n",
       "       [3, 3, 3],\n",
       "       [0, 0, 0],\n",
       "       [4, 0, 4],\n",
       "       [1, 3, 1],\n",
       "       [3, 0, 3],\n",
       "       [0, 3, 0],\n",
       "       [2, 4, 2],\n",
       "       [4, 1, 4],\n",
       "       [4, 2, 4],\n",
       "       [2, 2, 2],\n",
       "       [3, 4, 3],\n",
       "       [3, 1, 3],\n",
       "       [3, 1, 3],\n",
       "       [2, 3, 2],\n",
       "       [1, 4, 1],\n",
       "       [3, 1, 3],\n",
       "       [0, 2, 0],\n",
       "       [3, 4, 3],\n",
       "       [4, 1, 4],\n",
       "       [2, 3, 2],\n",
       "       [4, 4, 4],\n",
       "       [4, 0, 4],\n",
       "       [4, 4, 4],\n",
       "       [2, 3, 2],\n",
       "       [2, 4, 2],\n",
       "       [4, 1, 4],\n",
       "       [0, 3, 0],\n",
       "       [3, 0, 3],\n",
       "       [2, 3, 2],\n",
       "       [2, 3, 2],\n",
       "       [4, 3, 4],\n",
       "       [3, 2, 3],\n",
       "       [3, 1, 3],\n",
       "       [2, 4, 2],\n",
       "       [2, 4, 2],\n",
       "       [1, 2, 1],\n",
       "       [0, 3, 0],\n",
       "       [3, 4, 3],\n",
       "       [4, 0, 4],\n",
       "       [3, 3, 3],\n",
       "       [3, 3, 3],\n",
       "       [1, 2, 1],\n",
       "       [3, 4, 3],\n",
       "       [1, 3, 1],\n",
       "       [2, 3, 2],\n",
       "       [0, 4, 0],\n",
       "       [3, 3, 3],\n",
       "       [4, 0, 4],\n",
       "       [3, 0, 3],\n",
       "       [0, 4, 0],\n",
       "       [0, 3, 0],\n",
       "       [2, 2, 2],\n",
       "       [0, 4, 0],\n",
       "       [4, 1, 4],\n",
       "       [4, 4, 4],\n",
       "       [4, 2, 4],\n",
       "       [1, 3, 1],\n",
       "       [3, 3, 3],\n",
       "       [2, 4, 2],\n",
       "       [1, 1, 1],\n",
       "       [3, 4, 3],\n",
       "       [1, 3, 1],\n",
       "       [1, 2, 1],\n",
       "       [2, 2, 2],\n",
       "       [3, 4, 3],\n",
       "       [0, 0, 0],\n",
       "       [4, 2, 4],\n",
       "       [2, 4, 2],\n",
       "       [0, 0, 0],\n",
       "       [3, 1, 3],\n",
       "       [1, 4, 1],\n",
       "       [1, 1, 1],\n",
       "       [1, 1, 1],\n",
       "       [1, 1, 1],\n",
       "       [3, 4, 3],\n",
       "       [0, 3, 0]])"
      ]
     },
     "execution_count": 6,
     "metadata": {},
     "output_type": "execute_result"
    }
   ],
   "source": [
    "Z"
   ]
  }
 ],
 "metadata": {
  "colab": {
   "provenance": []
  },
  "kernelspec": {
   "display_name": "Python 3 (ipykernel)",
   "language": "python",
   "name": "python3"
  },
  "language_info": {
   "codemirror_mode": {
    "name": "ipython",
    "version": 3
   },
   "file_extension": ".py",
   "mimetype": "text/x-python",
   "name": "python",
   "nbconvert_exporter": "python",
   "pygments_lexer": "ipython3",
   "version": "3.11.3"
  }
 },
 "nbformat": 4,
 "nbformat_minor": 1
}
