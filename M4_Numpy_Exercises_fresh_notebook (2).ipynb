{
  "nbformat": 4,
  "nbformat_minor": 0,
  "metadata": {
    "colab": {
      "provenance": []
    },
    "kernelspec": {
      "name": "python3",
      "display_name": "Python 3"
    },
    "language_info": {
      "name": "python"
    }
  },
  "cells": [
    {
      "cell_type": "code",
      "source": [
        "#Given a 1D array, negate all elements which are between 3 and 8, in place.\n"
      ],
      "metadata": {
        "id": "AQ8ZsZyJDEcy"
      },
      "execution_count": null,
      "outputs": []
    },
    {
      "cell_type": "code",
      "source": [
        "#Create a 2D array of shape 5x3 to contain random decimal numbers between 5 and 10.\n"
      ],
      "metadata": {
        "id": "9-jItC0TDVqQ"
      },
      "execution_count": null,
      "outputs": []
    },
    {
      "cell_type": "code",
      "source": [
        "# Given a 1D array, add 1 to every alternate element.\n"
      ],
      "metadata": {
        "id": "HDaCE9PmDajj"
      },
      "execution_count": null,
      "outputs": []
    },
    {
      "cell_type": "code",
      "source": [
        "# Given a 2D array, flatten it to a 1D array.\n"
      ],
      "metadata": {
        "id": "OUyapZj5DqpS"
      },
      "execution_count": null,
      "outputs": []
    },
    {
      "cell_type": "code",
      "source": [
        "# Convert a 1D array of 20 grayscale image values into a 2D array of 5x4 shape.\n"
      ],
      "metadata": {
        "id": "QEsIccWHDjR1"
      },
      "execution_count": null,
      "outputs": []
    },
    {
      "cell_type": "code",
      "source": [
        "# replace odd numbers in a 3 dimensional array with even number\n",
        "\n",
        "import numpy as np\n",
        "np.random.seed(100)\n",
        "store = np.random.normal(5,10,27).astype(int)\n"
      ],
      "metadata": {
        "id": "meMgPPYbjS12"
      },
      "execution_count": null,
      "outputs": []
    },
    {
      "cell_type": "code",
      "source": [
        "store=store.reshape((3,3,3))"
      ],
      "metadata": {
        "id": "IwtPzeNat6nH"
      },
      "execution_count": null,
      "outputs": []
    },
    {
      "cell_type": "code",
      "source": [
        "store"
      ],
      "metadata": {
        "colab": {
          "base_uri": "https://localhost:8080/"
        },
        "id": "xObvBHv4uNo8",
        "outputId": "ba2db20a-4922-4ddf-97e8-27bc8971eb96"
      },
      "execution_count": null,
      "outputs": [
        {
          "output_type": "execute_result",
          "data": {
            "text/plain": [
              "array([[[-12,   8,  16],\n",
              "        [  2,  14,  10],\n",
              "        [  7,  -5,   3]],\n",
              "\n",
              "       [[  7,   0,   9],\n",
              "        [  0,  13,  11],\n",
              "        [  3,   0,  15]],\n",
              "\n",
              "       [[  0,  -6,  21],\n",
              "        [ 20,   2,  -3],\n",
              "        [  6,  14,  12]]])"
            ]
          },
          "metadata": {},
          "execution_count": 3
        }
      ]
    },
    {
      "cell_type": "code",
      "source": [
        "#Exercise 2 create a 2 dimension numpy array to fill with 0's and 1's but the output should look like a checker board\n",
        "'''\n",
        "[[0 1 0 1 0 1 0 1]\n",
        " [1 0 1 0 1 0 1 0]\n",
        " [0 1 0 1 0 1 0 1]\n",
        " [1 0 1 0 1 0 1 0]\n",
        " [0 1 0 1 0 1 0 1]\n",
        " [1 0 1 0 1 0 1 0]\n",
        " [0 1 0 1 0 1 0 1]\n",
        " [1 0 1 0 1 0 1 0]]\n",
        "'''\n",
        "# Solution\n",
        "\n"
      ],
      "metadata": {
        "colab": {
          "base_uri": "https://localhost:8080/"
        },
        "id": "cvTrWvFWa--D",
        "outputId": "e914cb41-9acf-4139-98f1-e45e50d072d1"
      },
      "execution_count": null,
      "outputs": [
        {
          "output_type": "stream",
          "name": "stdout",
          "text": [
            "[[0 1 0 1 0 1 0 1]\n",
            " [1 0 1 0 1 0 1 0]\n",
            " [0 1 0 1 0 1 0 1]\n",
            " [1 0 1 0 1 0 1 0]\n",
            " [0 1 0 1 0 1 0 1]\n",
            " [1 0 1 0 1 0 1 0]\n",
            " [0 1 0 1 0 1 0 1]\n",
            " [1 0 1 0 1 0 1 0]]\n"
          ]
        }
      ]
    },
    {
      "cell_type": "code",
      "source": [
        "#Exercise 3 Consider a numpy array of shape (200,3)\n",
        "# We need to extract those rows which are symmetrical.\n",
        "# [1,2,1] is symmetrical [1,2,3] isnt\n",
        "\n",
        "Z = np.random.randint(0,5,(200,3))\n",
        "# [0,2,0]\n",
        "# solution 1\n"
      ],
      "metadata": {
        "colab": {
          "base_uri": "https://localhost:8080/"
        },
        "id": "qG6m_6rZdD21",
        "outputId": "79f972d6-dacd-4266-eeb6-520d54b6ab39"
      },
      "execution_count": null,
      "outputs": [
        {
          "output_type": "stream",
          "name": "stdout",
          "text": [
            "[[3 3 3]\n",
            " [4 2 4]\n",
            " [4 3 4]\n",
            " [4 2 4]\n",
            " [4 2 4]\n",
            " [0 1 0]\n",
            " [2 1 2]\n",
            " [2 4 2]\n",
            " [3 2 3]\n",
            " [4 3 4]\n",
            " [0 3 0]\n",
            " [0 0 0]\n",
            " [3 2 3]\n",
            " [3 0 3]\n",
            " [1 0 1]\n",
            " [1 2 1]\n",
            " [3 4 3]\n",
            " [2 0 2]\n",
            " [2 3 2]\n",
            " [2 4 2]\n",
            " [4 1 4]\n",
            " [1 3 1]\n",
            " [2 2 2]\n",
            " [1 2 1]\n",
            " [0 1 0]\n",
            " [0 0 0]\n",
            " [3 4 3]\n",
            " [3 1 3]\n",
            " [2 3 2]\n",
            " [4 3 4]\n",
            " [3 1 3]\n",
            " [0 3 0]\n",
            " [3 4 3]\n",
            " [3 3 3]\n",
            " [0 4 0]\n",
            " [0 4 0]\n",
            " [4 1 4]\n",
            " [1 1 1]\n",
            " [3 4 3]\n",
            " [3 1 3]\n",
            " [3 4 3]]\n"
          ]
        }
      ]
    },
    {
      "cell_type": "code",
      "source": [
        "# Exercise 4 Make the above array symmetrical\n"
      ],
      "metadata": {
        "id": "he0uHOtXqZM2"
      },
      "execution_count": null,
      "outputs": []
    },
    {
      "cell_type": "code",
      "source": [
        "Z"
      ],
      "metadata": {
        "colab": {
          "base_uri": "https://localhost:8080/"
        },
        "id": "EfOPM-Hm-hZt",
        "outputId": "475ae411-e9e9-4e0a-9a1f-3fbf262949f4"
      },
      "execution_count": null,
      "outputs": [
        {
          "output_type": "execute_result",
          "data": {
            "text/plain": [
              "array([[4, 2, 4],\n",
              "       [3, 3, 3],\n",
              "       [0, 1, 0],\n",
              "       [2, 3, 2],\n",
              "       [4, 2, 4],\n",
              "       [3, 1, 3],\n",
              "       [4, 3, 4],\n",
              "       [2, 2, 2],\n",
              "       [2, 4, 2],\n",
              "       [2, 2, 2],\n",
              "       [2, 2, 2],\n",
              "       [4, 2, 4],\n",
              "       [3, 1, 3],\n",
              "       [0, 1, 0],\n",
              "       [4, 2, 4],\n",
              "       [3, 1, 3],\n",
              "       [3, 0, 3],\n",
              "       [1, 3, 1],\n",
              "       [4, 2, 4],\n",
              "       [3, 4, 3],\n",
              "       [2, 0, 2],\n",
              "       [0, 4, 0],\n",
              "       [4, 4, 4],\n",
              "       [0, 1, 0],\n",
              "       [4, 2, 4],\n",
              "       [3, 2, 3],\n",
              "       [3, 4, 3],\n",
              "       [3, 1, 3],\n",
              "       [0, 0, 0],\n",
              "       [4, 2, 4],\n",
              "       [2, 1, 2],\n",
              "       [1, 2, 1],\n",
              "       [0, 2, 0],\n",
              "       [4, 2, 4],\n",
              "       [2, 1, 2],\n",
              "       [2, 4, 2],\n",
              "       [3, 4, 3],\n",
              "       [1, 3, 1],\n",
              "       [2, 2, 2],\n",
              "       [1, 2, 1],\n",
              "       [0, 3, 0],\n",
              "       [4, 2, 4],\n",
              "       [0, 0, 0],\n",
              "       [3, 2, 3],\n",
              "       [1, 0, 1],\n",
              "       [0, 0, 0],\n",
              "       [1, 2, 1],\n",
              "       [3, 1, 3],\n",
              "       [3, 2, 3],\n",
              "       [4, 4, 4],\n",
              "       [4, 3, 4],\n",
              "       [3, 2, 3],\n",
              "       [3, 2, 3],\n",
              "       [2, 0, 2],\n",
              "       [1, 4, 1],\n",
              "       [0, 3, 0],\n",
              "       [1, 4, 1],\n",
              "       [4, 2, 4],\n",
              "       [1, 4, 1],\n",
              "       [3, 2, 3],\n",
              "       [1, 2, 1],\n",
              "       [4, 3, 4],\n",
              "       [2, 3, 2],\n",
              "       [2, 4, 2],\n",
              "       [4, 1, 4],\n",
              "       [0, 2, 0],\n",
              "       [0, 0, 0],\n",
              "       [1, 0, 1],\n",
              "       [0, 4, 0],\n",
              "       [1, 3, 1],\n",
              "       [3, 2, 3],\n",
              "       [3, 0, 3],\n",
              "       [2, 1, 2],\n",
              "       [4, 2, 4],\n",
              "       [3, 0, 3],\n",
              "       [1, 3, 1],\n",
              "       [3, 2, 3],\n",
              "       [3, 0, 3],\n",
              "       [2, 4, 2],\n",
              "       [0, 1, 0],\n",
              "       [1, 0, 1],\n",
              "       [3, 4, 3],\n",
              "       [2, 0, 2],\n",
              "       [1, 4, 1],\n",
              "       [2, 4, 2],\n",
              "       [1, 0, 1],\n",
              "       [4, 4, 4],\n",
              "       [3, 3, 3],\n",
              "       [1, 1, 1],\n",
              "       [3, 1, 3],\n",
              "       [1, 2, 1],\n",
              "       [3, 4, 3],\n",
              "       [4, 3, 4],\n",
              "       [2, 4, 2],\n",
              "       [2, 2, 2],\n",
              "       [2, 0, 2],\n",
              "       [4, 3, 4],\n",
              "       [1, 3, 1],\n",
              "       [2, 3, 2],\n",
              "       [0, 1, 0],\n",
              "       [0, 2, 0],\n",
              "       [4, 4, 4],\n",
              "       [1, 2, 1],\n",
              "       [2, 4, 2],\n",
              "       [4, 1, 4],\n",
              "       [0, 1, 0],\n",
              "       [4, 0, 4],\n",
              "       [0, 4, 0],\n",
              "       [2, 2, 2],\n",
              "       [2, 3, 2],\n",
              "       [3, 0, 3],\n",
              "       [3, 2, 3],\n",
              "       [3, 1, 3],\n",
              "       [1, 3, 1],\n",
              "       [2, 2, 2],\n",
              "       [1, 2, 1],\n",
              "       [0, 1, 0],\n",
              "       [2, 1, 2],\n",
              "       [2, 2, 2],\n",
              "       [3, 3, 3],\n",
              "       [4, 2, 4],\n",
              "       [1, 3, 1],\n",
              "       [2, 1, 2],\n",
              "       [0, 4, 0],\n",
              "       [3, 3, 3],\n",
              "       [0, 0, 0],\n",
              "       [4, 0, 4],\n",
              "       [1, 3, 1],\n",
              "       [3, 0, 3],\n",
              "       [0, 3, 0],\n",
              "       [2, 4, 2],\n",
              "       [4, 1, 4],\n",
              "       [4, 2, 4],\n",
              "       [2, 2, 2],\n",
              "       [3, 4, 3],\n",
              "       [3, 1, 3],\n",
              "       [3, 1, 3],\n",
              "       [2, 3, 2],\n",
              "       [1, 4, 1],\n",
              "       [3, 1, 3],\n",
              "       [0, 2, 0],\n",
              "       [3, 4, 3],\n",
              "       [4, 1, 4],\n",
              "       [2, 3, 2],\n",
              "       [4, 4, 4],\n",
              "       [4, 0, 4],\n",
              "       [4, 4, 4],\n",
              "       [2, 3, 2],\n",
              "       [2, 4, 2],\n",
              "       [4, 1, 4],\n",
              "       [0, 3, 0],\n",
              "       [3, 0, 3],\n",
              "       [2, 3, 2],\n",
              "       [2, 3, 2],\n",
              "       [4, 3, 4],\n",
              "       [3, 2, 3],\n",
              "       [3, 1, 3],\n",
              "       [2, 4, 2],\n",
              "       [2, 4, 2],\n",
              "       [1, 2, 1],\n",
              "       [0, 3, 0],\n",
              "       [3, 4, 3],\n",
              "       [4, 0, 4],\n",
              "       [3, 3, 3],\n",
              "       [3, 3, 3],\n",
              "       [1, 2, 1],\n",
              "       [3, 4, 3],\n",
              "       [1, 3, 1],\n",
              "       [2, 3, 2],\n",
              "       [0, 4, 0],\n",
              "       [3, 3, 3],\n",
              "       [4, 0, 4],\n",
              "       [3, 0, 3],\n",
              "       [0, 4, 0],\n",
              "       [0, 3, 0],\n",
              "       [2, 2, 2],\n",
              "       [0, 4, 0],\n",
              "       [4, 1, 4],\n",
              "       [4, 4, 4],\n",
              "       [4, 2, 4],\n",
              "       [1, 3, 1],\n",
              "       [3, 3, 3],\n",
              "       [2, 4, 2],\n",
              "       [1, 1, 1],\n",
              "       [3, 4, 3],\n",
              "       [1, 3, 1],\n",
              "       [1, 2, 1],\n",
              "       [2, 2, 2],\n",
              "       [3, 4, 3],\n",
              "       [0, 0, 0],\n",
              "       [4, 2, 4],\n",
              "       [2, 4, 2],\n",
              "       [0, 0, 0],\n",
              "       [3, 1, 3],\n",
              "       [1, 4, 1],\n",
              "       [1, 1, 1],\n",
              "       [1, 1, 1],\n",
              "       [1, 1, 1],\n",
              "       [3, 4, 3],\n",
              "       [0, 3, 0]])"
            ]
          },
          "metadata": {},
          "execution_count": 6
        }
      ]
    }
  ]
}