{
 "cells": [
  {
   "cell_type": "code",
   "execution_count": null,
   "metadata": {
    "id": "of-dBU2ns1zd"
   },
   "outputs": [],
   "source": [
    "# Inbuilt text handling functions in python"
   ]
  },
  {
   "cell_type": "code",
   "execution_count": null,
   "metadata": {},
   "outputs": [],
   "source": []
  },
  {
   "cell_type": "markdown",
   "metadata": {
    "id": "U7sJQKG5SlyO"
   },
   "source": [
    "Having understood how to play with numerical data, this module focuses on cleaning textual data. For starters, we shall learn how to clean using available string methods in python to sort of clean texts stored in DataFrame columns. We have understood in python that the data in a dataframe is stored in  2 dimensional numpy array and for accessing values in rows and column we can use a loc/iloc operator. In this topic we will focus on text manipulation on array/list like objects which has string type data stored. These concepts can be applied to any dataframe columns as well."
   ]
  },
  {
   "cell_type": "code",
   "execution_count": 66,
   "metadata": {
    "colab": {
     "base_uri": "https://localhost:8080/"
    },
    "id": "5UTF7SOXvO5f",
    "outputId": "c980b0ce-69c6-4edf-dca4-ba996a9d815f"
   },
   "outputs": [
    {
     "name": "stdout",
     "output_type": "stream",
     "text": [
      "Looking in indexes: https://pypi.org/simple, https://us-python.pkg.dev/colab-wheels/public/simple/\n",
      "Collecting essential-generators\n",
      "  Downloading essential_generators-1.0-py3-none-any.whl (9.5 MB)\n",
      "\u001b[K     |████████████████████████████████| 9.5 MB 5.1 MB/s \n",
      "\u001b[?25hInstalling collected packages: essential-generators\n",
      "Successfully installed essential-generators-1.0\n"
     ]
    }
   ],
   "source": [
    "# starting with the random paragraph generator\n",
    "!pip install essential-generators\n",
    "\n"
   ]
  },
  {
   "cell_type": "code",
   "execution_count": 67,
   "metadata": {
    "id": "sPJ1-P2uWNX3"
   },
   "outputs": [],
   "source": [
    "from essential_generators import DocumentGenerator\n",
    "gen= DocumentGenerator()\n",
    "para = gen.paragraph()"
   ]
  },
  {
   "cell_type": "code",
   "execution_count": null,
   "metadata": {
    "colab": {
     "base_uri": "https://localhost:8080/",
     "height": 70
    },
    "id": "zJh-zDf-WRei",
    "outputId": "0b5de179-49d6-4b2c-bb69-21e1dad3b9e0"
   },
   "outputs": [
    {
     "data": {
      "application/vnd.google.colaboratory.intrinsic+json": {
       "type": "string"
      },
      "text/plain": [
       "'Manchester. the declarative reading, and their execution is. University proposed: competitive. in 2008, keiko sakurai estimated that the first alaskan on. 400,171 km, (50% to 80% of the market economy. many of the decade. Or apec). all be inferred. Territories gradually \\n mathematics provides. Range which networking technologies. Seepage or 14%. there are several events organised, the most. Annales school of property ownership also referred to as \"newfoundland currency\" this discovery.'"
      ]
     },
     "execution_count": 3,
     "metadata": {},
     "output_type": "execute_result"
    }
   ],
   "source": [
    "para"
   ]
  },
  {
   "cell_type": "code",
   "execution_count": null,
   "metadata": {
    "colab": {
     "base_uri": "https://localhost:8080/"
    },
    "id": "moDCjXjMWTUz",
    "outputId": "f29ca0d8-5c47-4ada-e1bc-5137cd079699"
   },
   "outputs": [
    {
     "data": {
      "text/plain": [
       "490"
      ]
     },
     "execution_count": 4,
     "metadata": {},
     "output_type": "execute_result"
    }
   ],
   "source": [
    "len(para)"
   ]
  },
  {
   "cell_type": "code",
   "execution_count": null,
   "metadata": {
    "id": "PPg_MQNjWUzG"
   },
   "outputs": [],
   "source": [
    "words = para.split(' ')"
   ]
  },
  {
   "cell_type": "code",
   "execution_count": null,
   "metadata": {
    "colab": {
     "base_uri": "https://localhost:8080/"
    },
    "id": "nd4l0ut8WYHg",
    "outputId": "311aebf0-ccae-452d-b443-08dbb79173fe"
   },
   "outputs": [
    {
     "data": {
      "text/plain": [
       "71"
      ]
     },
     "execution_count": 7,
     "metadata": {},
     "output_type": "execute_result"
    }
   ],
   "source": [
    "# Total words\n",
    "len(words)"
   ]
  },
  {
   "cell_type": "code",
   "execution_count": null,
   "metadata": {
    "colab": {
     "base_uri": "https://localhost:8080/"
    },
    "id": "_6tGyJ_pZDcv",
    "outputId": "8e5cb9ff-9d2e-4c18-88e3-7beaa9a7bc4a"
   },
   "outputs": [
    {
     "data": {
      "text/plain": [
       "['Manchester.',\n",
       " 'the',\n",
       " 'declarative',\n",
       " 'reading,',\n",
       " 'and',\n",
       " 'their',\n",
       " 'execution',\n",
       " 'is.',\n",
       " 'University',\n",
       " 'proposed:',\n",
       " 'competitive.',\n",
       " 'in',\n",
       " '2008,',\n",
       " 'keiko',\n",
       " 'sakurai',\n",
       " 'estimated',\n",
       " 'that',\n",
       " 'the',\n",
       " 'first',\n",
       " 'alaskan',\n",
       " 'on.',\n",
       " '400,171',\n",
       " 'km,',\n",
       " '(50%',\n",
       " 'to',\n",
       " '80%',\n",
       " 'of',\n",
       " 'the',\n",
       " 'market',\n",
       " 'economy.',\n",
       " 'many',\n",
       " 'of',\n",
       " 'the',\n",
       " 'decade.',\n",
       " 'Or',\n",
       " 'apec).',\n",
       " 'all',\n",
       " 'be',\n",
       " 'inferred.',\n",
       " 'Territories',\n",
       " 'gradually',\n",
       " '\\n',\n",
       " 'mathematics',\n",
       " 'provides.',\n",
       " 'Range',\n",
       " 'which',\n",
       " 'networking',\n",
       " 'technologies.',\n",
       " 'Seepage',\n",
       " 'or',\n",
       " '14%.',\n",
       " 'there',\n",
       " 'are',\n",
       " 'several',\n",
       " 'events',\n",
       " 'organised,',\n",
       " 'the',\n",
       " 'most.',\n",
       " 'Annales',\n",
       " 'school',\n",
       " 'of',\n",
       " 'property',\n",
       " 'ownership',\n",
       " 'also',\n",
       " 'referred',\n",
       " 'to',\n",
       " 'as',\n",
       " '\"newfoundland',\n",
       " 'currency\"',\n",
       " 'this',\n",
       " 'discovery.']"
      ]
     },
     "execution_count": 8,
     "metadata": {},
     "output_type": "execute_result"
    }
   ],
   "source": [
    "words"
   ]
  },
  {
   "cell_type": "code",
   "execution_count": null,
   "metadata": {
    "colab": {
     "base_uri": "https://localhost:8080/"
    },
    "id": "PcFmi1CVZEda",
    "outputId": "708f2019-9397-43ba-9f07-bb4154487a8f"
   },
   "outputs": [
    {
     "data": {
      "text/plain": [
       "['Manchester.',\n",
       " 'declarative',\n",
       " 'reading,',\n",
       " 'their',\n",
       " 'execution',\n",
       " 'University',\n",
       " 'proposed:',\n",
       " 'competitive.',\n",
       " '2008,',\n",
       " 'keiko',\n",
       " 'sakurai',\n",
       " 'estimated',\n",
       " 'that',\n",
       " 'first',\n",
       " 'alaskan',\n",
       " '400,171',\n",
       " '(50%',\n",
       " 'market',\n",
       " 'economy.',\n",
       " 'many',\n",
       " 'decade.',\n",
       " 'apec).',\n",
       " 'inferred.',\n",
       " 'Territories',\n",
       " 'gradually',\n",
       " 'mathematics',\n",
       " 'provides.',\n",
       " 'Range',\n",
       " 'which',\n",
       " 'networking',\n",
       " 'technologies.',\n",
       " 'Seepage',\n",
       " '14%.',\n",
       " 'there',\n",
       " 'several',\n",
       " 'events',\n",
       " 'organised,',\n",
       " 'most.',\n",
       " 'Annales',\n",
       " 'school',\n",
       " 'property',\n",
       " 'ownership',\n",
       " 'also',\n",
       " 'referred',\n",
       " '\"newfoundland',\n",
       " 'currency\"',\n",
       " 'this',\n",
       " 'discovery.']"
      ]
     },
     "execution_count": 9,
     "metadata": {},
     "output_type": "execute_result"
    }
   ],
   "source": [
    "# Filter out greater than 3 letter words out of all other using list comprehenson\n",
    "\n",
    "[x for x in words if len(x)>3]"
   ]
  },
  {
   "cell_type": "code",
   "execution_count": null,
   "metadata": {
    "id": "TyctqmIrZSLc"
   },
   "outputs": [],
   "source": [
    "str.istitle??"
   ]
  },
  {
   "cell_type": "code",
   "execution_count": null,
   "metadata": {
    "colab": {
     "base_uri": "https://localhost:8080/"
    },
    "id": "jZK1nPFAaDFK",
    "outputId": "aba4a55a-ebe0-4246-cddf-ea50b458aeba"
   },
   "outputs": [
    {
     "data": {
      "text/plain": [
       "['Manchester.',\n",
       " 'University',\n",
       " 'Or',\n",
       " 'Territories',\n",
       " 'Range',\n",
       " 'Seepage',\n",
       " 'Annales']"
      ]
     },
     "execution_count": 11,
     "metadata": {},
     "output_type": "execute_result"
    }
   ],
   "source": [
    "# The above method when used, returns strings starting with capital letters lets find out words starting with capital letters in our paragraphs\n",
    "\n",
    "[ x for x in words if x.istitle()]"
   ]
  },
  {
   "cell_type": "code",
   "execution_count": null,
   "metadata": {
    "colab": {
     "base_uri": "https://localhost:8080/"
    },
    "id": "y1J658YqaVKM",
    "outputId": "780d27be-e3eb-440d-f51e-1c0a4090c382"
   },
   "outputs": [
    {
     "data": {
      "text/plain": [
       "['and',\n",
       " 'sakurai',\n",
       " 'estimated',\n",
       " 'several',\n",
       " 'school',\n",
       " 'referred',\n",
       " '\"newfoundland']"
      ]
     },
     "execution_count": 14,
     "metadata": {},
     "output_type": "execute_result"
    }
   ],
   "source": [
    "# we can also search/filter for words that starts with or ends with something\n",
    "\n",
    "[ x for x in words if x.startswith('s') or x.endswith('d')]"
   ]
  },
  {
   "cell_type": "code",
   "execution_count": null,
   "metadata": {
    "colab": {
     "base_uri": "https://localhost:8080/",
     "height": 70
    },
    "id": "-KdhztTxal08",
    "outputId": "b7361e43-a4d3-47a9-e39d-cf6ffd88e766"
   },
   "outputs": [
    {
     "data": {
      "application/vnd.google.colaboratory.intrinsic+json": {
       "type": "string"
      },
      "text/plain": [
       "'Manchester.-the-declarative-reading,-and-their-execution-is.-University-proposed:-competitive.-in-2008,-keiko-sakurai-estimated-that-the-first-alaskan-on.-400,171-km,-(50%-to-80%-of-the-market-economy.-many-of-the-decade.-Or-apec).-all-be-inferred.-Territories-gradually-\\n-mathematics-provides.-Range-which-networking-technologies.-Seepage-or-14%.-there-are-several-events-organised,-the-most.-Annales-school-of-property-ownership-also-referred-to-as-\"newfoundland-currency\"-this-discovery.'"
      ]
     },
     "execution_count": 16,
     "metadata": {},
     "output_type": "execute_result"
    }
   ],
   "source": [
    "# Lets learn jow to use join method\n",
    "\n",
    "' '.join(words)\n",
    "\n",
    "# Every word in the list will be connected to each other with a space \n",
    "# You can add string as a connector\n",
    "'-'.join(words)"
   ]
  },
  {
   "cell_type": "code",
   "execution_count": null,
   "metadata": {
    "id": "moxVk2AUdYte"
   },
   "outputs": [],
   "source": [
    "\n",
    "sentences = DocumentGenerator().gen_sentence()"
   ]
  },
  {
   "cell_type": "code",
   "execution_count": null,
   "metadata": {
    "id": "6frkzMd6eUVA"
   },
   "outputs": [],
   "source": [
    "sentences = ' ' + sentences + ' '"
   ]
  },
  {
   "cell_type": "code",
   "execution_count": null,
   "metadata": {
    "colab": {
     "base_uri": "https://localhost:8080/",
     "height": 35
    },
    "id": "iIzsnaE1eaOv",
    "outputId": "756b26df-9f4c-4a71-811f-b3a821710ebb"
   },
   "outputs": [
    {
     "data": {
      "application/vnd.google.colaboratory.intrinsic+json": {
       "type": "string"
      },
      "text/plain": [
       "' Deserts. The space probes, as well as the fifth worst country in terms of gross '"
      ]
     },
     "execution_count": 23,
     "metadata": {},
     "output_type": "execute_result"
    }
   ],
   "source": [
    "sentences"
   ]
  },
  {
   "cell_type": "code",
   "execution_count": null,
   "metadata": {
    "colab": {
     "base_uri": "https://localhost:8080/",
     "height": 35
    },
    "id": "9skb8mdAfv-N",
    "outputId": "6e5b3d79-2407-4ee5-94c1-d8d265e2f901"
   },
   "outputs": [
    {
     "data": {
      "application/vnd.google.colaboratory.intrinsic+json": {
       "type": "string"
      },
      "text/plain": [
       "'Deserts. The space probes, as well as the fifth worst country in terms of gross'"
      ]
     },
     "execution_count": 24,
     "metadata": {},
     "output_type": "execute_result"
    }
   ],
   "source": [
    "sentences.strip(' ')"
   ]
  },
  {
   "cell_type": "code",
   "execution_count": null,
   "metadata": {
    "colab": {
     "base_uri": "https://localhost:8080/"
    },
    "id": "iUv4VKeufy3R",
    "outputId": "60271332-229d-4999-df42-d2263f28be0c"
   },
   "outputs": [
    {
     "data": {
      "text/plain": [
       "9"
      ]
     },
     "execution_count": 27,
     "metadata": {},
     "output_type": "execute_result"
    }
   ],
   "source": [
    "#  To find the index of a character/word(in case of words, it tells u the first character index) in a sentence we use the find method\n",
    "sentences.strip(' ').find('The')"
   ]
  },
  {
   "cell_type": "code",
   "execution_count": null,
   "metadata": {
    "colab": {
     "base_uri": "https://localhost:8080/",
     "height": 35
    },
    "id": "FHw2f2U7gDS4",
    "outputId": "0c5d256c-b601-4e0d-968b-84cae6f3c9b0"
   },
   "outputs": [
    {
     "data": {
      "application/vnd.google.colaboratory.intrinsic+json": {
       "type": "string"
      },
      "text/plain": [
       "'The space probes, as well as the fifth worst country in terms of gross'"
      ]
     },
     "execution_count": 28,
     "metadata": {},
     "output_type": "execute_result"
    }
   ],
   "source": [
    "sentences.strip(' ')[9:]"
   ]
  },
  {
   "cell_type": "code",
   "execution_count": null,
   "metadata": {
    "colab": {
     "base_uri": "https://localhost:8080/",
     "height": 35
    },
    "id": "3bfZgCVxgRNX",
    "outputId": "2ab4a371-7f1d-4ab4-eb0f-c83c59945a72"
   },
   "outputs": [
    {
     "data": {
      "application/vnd.google.colaboratory.intrinsic+json": {
       "type": "string"
      },
      "text/plain": [
       "'Deserts. The space probes, as well as the fourth worst country in terms of gross'"
      ]
     },
     "execution_count": 30,
     "metadata": {},
     "output_type": "execute_result"
    }
   ],
   "source": [
    "# use the replace method to replace characters/words with something in a string\n",
    "\n",
    "sentences.strip(' ').replace('fifth','fourth')"
   ]
  },
  {
   "cell_type": "code",
   "execution_count": null,
   "metadata": {
    "id": "gfuHfDkwgg6O"
   },
   "outputs": [],
   "source": [
    "# I have deliberately not saved the strip method output back to the variable,'sentences' so as to show how to use multiple methods in a single operation\n"
   ]
  },
  {
   "cell_type": "code",
   "execution_count": null,
   "metadata": {
    "id": "VTXgEwv6htoI"
   },
   "outputs": [],
   "source": [
    "import pandas as pd\n",
    "import numpy as np\n",
    "x =pd.DataFrame([ f'{np.random.randint(1,10,3)} - {np.random.randint(1,10,3)} -{np.random.randint(1,10,3)}' for i in range(100)],columns=['Phone_no'])"
   ]
  },
  {
   "cell_type": "code",
   "execution_count": null,
   "metadata": {
    "colab": {
     "base_uri": "https://localhost:8080/",
     "height": 424
    },
    "id": "JNUcb2hUh-pa",
    "outputId": "0bd45755-0b52-49f7-c93f-c1a174469d84"
   },
   "outputs": [
    {
     "data": {
      "text/html": [
       "\n",
       "  <div id=\"df-dc288084-1853-4e6f-98de-542e0862ebb9\">\n",
       "    <div class=\"colab-df-container\">\n",
       "      <div>\n",
       "<style scoped>\n",
       "    .dataframe tbody tr th:only-of-type {\n",
       "        vertical-align: middle;\n",
       "    }\n",
       "\n",
       "    .dataframe tbody tr th {\n",
       "        vertical-align: top;\n",
       "    }\n",
       "\n",
       "    .dataframe thead th {\n",
       "        text-align: right;\n",
       "    }\n",
       "</style>\n",
       "<table border=\"1\" class=\"dataframe\">\n",
       "  <thead>\n",
       "    <tr style=\"text-align: right;\">\n",
       "      <th></th>\n",
       "      <th>Phone_no</th>\n",
       "    </tr>\n",
       "  </thead>\n",
       "  <tbody>\n",
       "    <tr>\n",
       "      <th>0</th>\n",
       "      <td>[2 3 8] - [8 5 4] -[4 8 2]</td>\n",
       "    </tr>\n",
       "    <tr>\n",
       "      <th>1</th>\n",
       "      <td>[9 4 6] - [1 8 6] -[8 5 3]</td>\n",
       "    </tr>\n",
       "    <tr>\n",
       "      <th>2</th>\n",
       "      <td>[1 2 2] - [1 3 5] -[2 7 6]</td>\n",
       "    </tr>\n",
       "    <tr>\n",
       "      <th>3</th>\n",
       "      <td>[4 2 4] - [8 9 4] -[4 5 8]</td>\n",
       "    </tr>\n",
       "    <tr>\n",
       "      <th>4</th>\n",
       "      <td>[3 9 3] - [1 8 9] -[7 1 6]</td>\n",
       "    </tr>\n",
       "    <tr>\n",
       "      <th>...</th>\n",
       "      <td>...</td>\n",
       "    </tr>\n",
       "    <tr>\n",
       "      <th>95</th>\n",
       "      <td>[8 8 7] - [5 6 5] -[9 2 9]</td>\n",
       "    </tr>\n",
       "    <tr>\n",
       "      <th>96</th>\n",
       "      <td>[8 4 6] - [2 3 3] -[1 3 1]</td>\n",
       "    </tr>\n",
       "    <tr>\n",
       "      <th>97</th>\n",
       "      <td>[6 2 7] - [1 9 5] -[1 3 2]</td>\n",
       "    </tr>\n",
       "    <tr>\n",
       "      <th>98</th>\n",
       "      <td>[4 2 6] - [3 7 9] -[4 8 4]</td>\n",
       "    </tr>\n",
       "    <tr>\n",
       "      <th>99</th>\n",
       "      <td>[1 2 7] - [6 9 8] -[5 8 8]</td>\n",
       "    </tr>\n",
       "  </tbody>\n",
       "</table>\n",
       "<p>100 rows × 1 columns</p>\n",
       "</div>\n",
       "      <button class=\"colab-df-convert\" onclick=\"convertToInteractive('df-dc288084-1853-4e6f-98de-542e0862ebb9')\"\n",
       "              title=\"Convert this dataframe to an interactive table.\"\n",
       "              style=\"display:none;\">\n",
       "        \n",
       "  <svg xmlns=\"http://www.w3.org/2000/svg\" height=\"24px\"viewBox=\"0 0 24 24\"\n",
       "       width=\"24px\">\n",
       "    <path d=\"M0 0h24v24H0V0z\" fill=\"none\"/>\n",
       "    <path d=\"M18.56 5.44l.94 2.06.94-2.06 2.06-.94-2.06-.94-.94-2.06-.94 2.06-2.06.94zm-11 1L8.5 8.5l.94-2.06 2.06-.94-2.06-.94L8.5 2.5l-.94 2.06-2.06.94zm10 10l.94 2.06.94-2.06 2.06-.94-2.06-.94-.94-2.06-.94 2.06-2.06.94z\"/><path d=\"M17.41 7.96l-1.37-1.37c-.4-.4-.92-.59-1.43-.59-.52 0-1.04.2-1.43.59L10.3 9.45l-7.72 7.72c-.78.78-.78 2.05 0 2.83L4 21.41c.39.39.9.59 1.41.59.51 0 1.02-.2 1.41-.59l7.78-7.78 2.81-2.81c.8-.78.8-2.07 0-2.86zM5.41 20L4 18.59l7.72-7.72 1.47 1.35L5.41 20z\"/>\n",
       "  </svg>\n",
       "      </button>\n",
       "      \n",
       "  <style>\n",
       "    .colab-df-container {\n",
       "      display:flex;\n",
       "      flex-wrap:wrap;\n",
       "      gap: 12px;\n",
       "    }\n",
       "\n",
       "    .colab-df-convert {\n",
       "      background-color: #E8F0FE;\n",
       "      border: none;\n",
       "      border-radius: 50%;\n",
       "      cursor: pointer;\n",
       "      display: none;\n",
       "      fill: #1967D2;\n",
       "      height: 32px;\n",
       "      padding: 0 0 0 0;\n",
       "      width: 32px;\n",
       "    }\n",
       "\n",
       "    .colab-df-convert:hover {\n",
       "      background-color: #E2EBFA;\n",
       "      box-shadow: 0px 1px 2px rgba(60, 64, 67, 0.3), 0px 1px 3px 1px rgba(60, 64, 67, 0.15);\n",
       "      fill: #174EA6;\n",
       "    }\n",
       "\n",
       "    [theme=dark] .colab-df-convert {\n",
       "      background-color: #3B4455;\n",
       "      fill: #D2E3FC;\n",
       "    }\n",
       "\n",
       "    [theme=dark] .colab-df-convert:hover {\n",
       "      background-color: #434B5C;\n",
       "      box-shadow: 0px 1px 3px 1px rgba(0, 0, 0, 0.15);\n",
       "      filter: drop-shadow(0px 1px 2px rgba(0, 0, 0, 0.3));\n",
       "      fill: #FFFFFF;\n",
       "    }\n",
       "  </style>\n",
       "\n",
       "      <script>\n",
       "        const buttonEl =\n",
       "          document.querySelector('#df-dc288084-1853-4e6f-98de-542e0862ebb9 button.colab-df-convert');\n",
       "        buttonEl.style.display =\n",
       "          google.colab.kernel.accessAllowed ? 'block' : 'none';\n",
       "\n",
       "        async function convertToInteractive(key) {\n",
       "          const element = document.querySelector('#df-dc288084-1853-4e6f-98de-542e0862ebb9');\n",
       "          const dataTable =\n",
       "            await google.colab.kernel.invokeFunction('convertToInteractive',\n",
       "                                                     [key], {});\n",
       "          if (!dataTable) return;\n",
       "\n",
       "          const docLinkHtml = 'Like what you see? Visit the ' +\n",
       "            '<a target=\"_blank\" href=https://colab.research.google.com/notebooks/data_table.ipynb>data table notebook</a>'\n",
       "            + ' to learn more about interactive tables.';\n",
       "          element.innerHTML = '';\n",
       "          dataTable['output_type'] = 'display_data';\n",
       "          await google.colab.output.renderOutput(dataTable, element);\n",
       "          const docLink = document.createElement('div');\n",
       "          docLink.innerHTML = docLinkHtml;\n",
       "          element.appendChild(docLink);\n",
       "        }\n",
       "      </script>\n",
       "    </div>\n",
       "  </div>\n",
       "  "
      ],
      "text/plain": [
       "                      Phone_no\n",
       "0   [2 3 8] - [8 5 4] -[4 8 2]\n",
       "1   [9 4 6] - [1 8 6] -[8 5 3]\n",
       "2   [1 2 2] - [1 3 5] -[2 7 6]\n",
       "3   [4 2 4] - [8 9 4] -[4 5 8]\n",
       "4   [3 9 3] - [1 8 9] -[7 1 6]\n",
       "..                         ...\n",
       "95  [8 8 7] - [5 6 5] -[9 2 9]\n",
       "96  [8 4 6] - [2 3 3] -[1 3 1]\n",
       "97  [6 2 7] - [1 9 5] -[1 3 2]\n",
       "98  [4 2 6] - [3 7 9] -[4 8 4]\n",
       "99  [1 2 7] - [6 9 8] -[5 8 8]\n",
       "\n",
       "[100 rows x 1 columns]"
      ]
     },
     "execution_count": 70,
     "metadata": {},
     "output_type": "execute_result"
    }
   ],
   "source": [
    "x"
   ]
  },
  {
   "cell_type": "code",
   "execution_count": null,
   "metadata": {
    "id": "DILAV0zxi0l0"
   },
   "outputs": [],
   "source": [
    "# from whatever we learned above, lets convert the column of phone number in a format such that there is no - or square brackets\n",
    "\n",
    "x['Phone_no']=x.Phone_no.map(lambda x : '+44 ' + x.replace('[','').replace(']','').replace('-','').replace(' ',''))"
   ]
  },
  {
   "cell_type": "code",
   "execution_count": null,
   "metadata": {
    "colab": {
     "base_uri": "https://localhost:8080/",
     "height": 424
    },
    "id": "oc9kMKmEkcJO",
    "outputId": "91de4cd1-83a7-4b5a-85ca-4098208fa4fe"
   },
   "outputs": [
    {
     "data": {
      "text/html": [
       "\n",
       "  <div id=\"df-2fe03e10-fdde-4efc-9f6d-163e8a241c5f\">\n",
       "    <div class=\"colab-df-container\">\n",
       "      <div>\n",
       "<style scoped>\n",
       "    .dataframe tbody tr th:only-of-type {\n",
       "        vertical-align: middle;\n",
       "    }\n",
       "\n",
       "    .dataframe tbody tr th {\n",
       "        vertical-align: top;\n",
       "    }\n",
       "\n",
       "    .dataframe thead th {\n",
       "        text-align: right;\n",
       "    }\n",
       "</style>\n",
       "<table border=\"1\" class=\"dataframe\">\n",
       "  <thead>\n",
       "    <tr style=\"text-align: right;\">\n",
       "      <th></th>\n",
       "      <th>Phone_no</th>\n",
       "    </tr>\n",
       "  </thead>\n",
       "  <tbody>\n",
       "    <tr>\n",
       "      <th>0</th>\n",
       "      <td>+44 238854482</td>\n",
       "    </tr>\n",
       "    <tr>\n",
       "      <th>1</th>\n",
       "      <td>+44 946186853</td>\n",
       "    </tr>\n",
       "    <tr>\n",
       "      <th>2</th>\n",
       "      <td>+44 122135276</td>\n",
       "    </tr>\n",
       "    <tr>\n",
       "      <th>3</th>\n",
       "      <td>+44 424894458</td>\n",
       "    </tr>\n",
       "    <tr>\n",
       "      <th>4</th>\n",
       "      <td>+44 393189716</td>\n",
       "    </tr>\n",
       "    <tr>\n",
       "      <th>...</th>\n",
       "      <td>...</td>\n",
       "    </tr>\n",
       "    <tr>\n",
       "      <th>95</th>\n",
       "      <td>+44 887565929</td>\n",
       "    </tr>\n",
       "    <tr>\n",
       "      <th>96</th>\n",
       "      <td>+44 846233131</td>\n",
       "    </tr>\n",
       "    <tr>\n",
       "      <th>97</th>\n",
       "      <td>+44 627195132</td>\n",
       "    </tr>\n",
       "    <tr>\n",
       "      <th>98</th>\n",
       "      <td>+44 426379484</td>\n",
       "    </tr>\n",
       "    <tr>\n",
       "      <th>99</th>\n",
       "      <td>+44 127698588</td>\n",
       "    </tr>\n",
       "  </tbody>\n",
       "</table>\n",
       "<p>100 rows × 1 columns</p>\n",
       "</div>\n",
       "      <button class=\"colab-df-convert\" onclick=\"convertToInteractive('df-2fe03e10-fdde-4efc-9f6d-163e8a241c5f')\"\n",
       "              title=\"Convert this dataframe to an interactive table.\"\n",
       "              style=\"display:none;\">\n",
       "        \n",
       "  <svg xmlns=\"http://www.w3.org/2000/svg\" height=\"24px\"viewBox=\"0 0 24 24\"\n",
       "       width=\"24px\">\n",
       "    <path d=\"M0 0h24v24H0V0z\" fill=\"none\"/>\n",
       "    <path d=\"M18.56 5.44l.94 2.06.94-2.06 2.06-.94-2.06-.94-.94-2.06-.94 2.06-2.06.94zm-11 1L8.5 8.5l.94-2.06 2.06-.94-2.06-.94L8.5 2.5l-.94 2.06-2.06.94zm10 10l.94 2.06.94-2.06 2.06-.94-2.06-.94-.94-2.06-.94 2.06-2.06.94z\"/><path d=\"M17.41 7.96l-1.37-1.37c-.4-.4-.92-.59-1.43-.59-.52 0-1.04.2-1.43.59L10.3 9.45l-7.72 7.72c-.78.78-.78 2.05 0 2.83L4 21.41c.39.39.9.59 1.41.59.51 0 1.02-.2 1.41-.59l7.78-7.78 2.81-2.81c.8-.78.8-2.07 0-2.86zM5.41 20L4 18.59l7.72-7.72 1.47 1.35L5.41 20z\"/>\n",
       "  </svg>\n",
       "      </button>\n",
       "      \n",
       "  <style>\n",
       "    .colab-df-container {\n",
       "      display:flex;\n",
       "      flex-wrap:wrap;\n",
       "      gap: 12px;\n",
       "    }\n",
       "\n",
       "    .colab-df-convert {\n",
       "      background-color: #E8F0FE;\n",
       "      border: none;\n",
       "      border-radius: 50%;\n",
       "      cursor: pointer;\n",
       "      display: none;\n",
       "      fill: #1967D2;\n",
       "      height: 32px;\n",
       "      padding: 0 0 0 0;\n",
       "      width: 32px;\n",
       "    }\n",
       "\n",
       "    .colab-df-convert:hover {\n",
       "      background-color: #E2EBFA;\n",
       "      box-shadow: 0px 1px 2px rgba(60, 64, 67, 0.3), 0px 1px 3px 1px rgba(60, 64, 67, 0.15);\n",
       "      fill: #174EA6;\n",
       "    }\n",
       "\n",
       "    [theme=dark] .colab-df-convert {\n",
       "      background-color: #3B4455;\n",
       "      fill: #D2E3FC;\n",
       "    }\n",
       "\n",
       "    [theme=dark] .colab-df-convert:hover {\n",
       "      background-color: #434B5C;\n",
       "      box-shadow: 0px 1px 3px 1px rgba(0, 0, 0, 0.15);\n",
       "      filter: drop-shadow(0px 1px 2px rgba(0, 0, 0, 0.3));\n",
       "      fill: #FFFFFF;\n",
       "    }\n",
       "  </style>\n",
       "\n",
       "      <script>\n",
       "        const buttonEl =\n",
       "          document.querySelector('#df-2fe03e10-fdde-4efc-9f6d-163e8a241c5f button.colab-df-convert');\n",
       "        buttonEl.style.display =\n",
       "          google.colab.kernel.accessAllowed ? 'block' : 'none';\n",
       "\n",
       "        async function convertToInteractive(key) {\n",
       "          const element = document.querySelector('#df-2fe03e10-fdde-4efc-9f6d-163e8a241c5f');\n",
       "          const dataTable =\n",
       "            await google.colab.kernel.invokeFunction('convertToInteractive',\n",
       "                                                     [key], {});\n",
       "          if (!dataTable) return;\n",
       "\n",
       "          const docLinkHtml = 'Like what you see? Visit the ' +\n",
       "            '<a target=\"_blank\" href=https://colab.research.google.com/notebooks/data_table.ipynb>data table notebook</a>'\n",
       "            + ' to learn more about interactive tables.';\n",
       "          element.innerHTML = '';\n",
       "          dataTable['output_type'] = 'display_data';\n",
       "          await google.colab.output.renderOutput(dataTable, element);\n",
       "          const docLink = document.createElement('div');\n",
       "          docLink.innerHTML = docLinkHtml;\n",
       "          element.appendChild(docLink);\n",
       "        }\n",
       "      </script>\n",
       "    </div>\n",
       "  </div>\n",
       "  "
      ],
      "text/plain": [
       "         Phone_no\n",
       "0   +44 238854482\n",
       "1   +44 946186853\n",
       "2   +44 122135276\n",
       "3   +44 424894458\n",
       "4   +44 393189716\n",
       "..            ...\n",
       "95  +44 887565929\n",
       "96  +44 846233131\n",
       "97  +44 627195132\n",
       "98  +44 426379484\n",
       "99  +44 127698588\n",
       "\n",
       "[100 rows x 1 columns]"
      ]
     },
     "execution_count": 72,
     "metadata": {},
     "output_type": "execute_result"
    }
   ],
   "source": [
    "x"
   ]
  },
  {
   "cell_type": "markdown",
   "metadata": {
    "id": "dfR4WXI9k6-b"
   },
   "source": [
    "Now, Lets dive deeper into cleaning by using REGEX. Regex, short for regular expression, is often used in programming languages for matching patterns in strings, find and replace, input validation, and reformatting text. Learning how to properly use Regex can make working with text much easier."
   ]
  },
  {
   "cell_type": "code",
   "execution_count": 2,
   "metadata": {
    "id": "O505AWr7kwFu"
   },
   "outputs": [],
   "source": [
    "# First import re\n",
    "import re"
   ]
  },
  {
   "cell_type": "code",
   "execution_count": 8,
   "metadata": {
    "id": "JjNWUtn3CGSI"
   },
   "outputs": [],
   "source": [
    "sentences = gen.sentence()"
   ]
  },
  {
   "cell_type": "code",
   "execution_count": 9,
   "metadata": {
    "colab": {
     "base_uri": "https://localhost:8080/",
     "height": 36
    },
    "id": "hlj2OCYJImPB",
    "outputId": "01c53938-a7d9-4daf-a4b7-dd8054d68e68"
   },
   "outputs": [
    {
     "data": {
      "application/vnd.google.colaboratory.intrinsic+json": {
       "type": "string"
      },
      "text/plain": [
       "'\"What are homonuclear, that is, two high tides occur during'"
      ]
     },
     "execution_count": 9,
     "metadata": {},
     "output_type": "execute_result"
    }
   ],
   "source": [
    "sentences"
   ]
  },
  {
   "cell_type": "code",
   "execution_count": 10,
   "metadata": {
    "id": "ZxOLsXj3Jk_4"
   },
   "outputs": [],
   "source": [
    "re.compile??"
   ]
  },
  {
   "cell_type": "markdown",
   "metadata": {
    "id": "GW-UOhlOJqga"
   },
   "source": [
    "As per the documentation:\n",
    "\n",
    "re.compile: \"Compile a regular expression pattern, returning a Pattern object.\"\n",
    "\n",
    "REGEX patterns are nothing but rules defined to tell the different REGEX methods on where and how the required patterns are stored within a string.\n",
    "\n",
    "We use the compile method within re module to store those pattern in a pattern object. Think of it as a dye which we try to fit when we itereate over the strings. Whatever fits is returned using the selected methods."
   ]
  },
  {
   "cell_type": "code",
   "execution_count": 14,
   "metadata": {
    "id": "V_nDNi36InH2"
   },
   "outputs": [],
   "source": [
    "ptrn = re.compile(r'homonuclear')"
   ]
  },
  {
   "cell_type": "code",
   "execution_count": 15,
   "metadata": {
    "colab": {
     "base_uri": "https://localhost:8080/"
    },
    "id": "GQV2c2k_JcCm",
    "outputId": "9cffc287-5d65-4c35-b839-513a03219266"
   },
   "outputs": [
    {
     "data": {
      "text/plain": [
       "['homonuclear']"
      ]
     },
     "execution_count": 15,
     "metadata": {},
     "output_type": "execute_result"
    }
   ],
   "source": [
    "ptrn.findall(sentences)"
   ]
  },
  {
   "cell_type": "markdown",
   "metadata": {
    "id": "dBMctciOKhB8"
   },
   "source": [
    "If we look at the input of compile method, it starts with r'' string. It is called a raw string. Lets understand with an example "
   ]
  },
  {
   "cell_type": "code",
   "execution_count": 16,
   "metadata": {
    "colab": {
     "base_uri": "https://localhost:8080/"
    },
    "id": "MnOTFdpgJe3o",
    "outputId": "b0807395-c958-40d7-a980-2b87f041c8ec"
   },
   "outputs": [
    {
     "name": "stdout",
     "output_type": "stream",
     "text": [
      "x =  \thi there\n",
      "y =  \\thithere\n"
     ]
    }
   ],
   "source": [
    "x = '\\thi there'\n",
    "y = r'\\thithere'\n",
    "\n",
    "print('x = ',x)\n",
    "print('y = ',y)"
   ]
  },
  {
   "cell_type": "markdown",
   "metadata": {
    "id": "hh7PbOnMWA7B"
   },
   "source": [
    "To cover REGEX, We shall divide the module is the following categories and dive deeper into it.\n",
    "\n",
    "\n",
    "\n",
    "1.   Different Search methods\n",
    "2.   Different methods of the match objects\n",
    "3.   Special meaning metacharacters\n",
    "4.   Forming sets using [ ] square brackets\n",
    "5.   Quantifiers\n",
    "6.   Logical Conditions\n",
    "7.   Forming groups in pattern match\n",
    "8.   Modification methods\n",
    "\n",
    "\n",
    "\n",
    "\n"
   ]
  },
  {
   "cell_type": "markdown",
   "metadata": {
    "id": "VaVuf9SqW21_"
   },
   "source": [
    "# Search methods"
   ]
  },
  {
   "cell_type": "markdown",
   "metadata": {
    "id": "FHy7v9RGXp6y"
   },
   "source": [
    "Obj.match(): This method will search the pattern in the beginning of the string. Lets understand with examples"
   ]
  },
  {
   "cell_type": "code",
   "execution_count": 17,
   "metadata": {
    "id": "pzpZopvKTriW"
   },
   "outputs": [],
   "source": [
    "# Lets suppose the string is \n",
    "\n",
    "x = 'abcd5678ABC4356abc'\n",
    "\n",
    "# we can use the match method to search 'abc' in the string as follows\n",
    "\n",
    "ptrn = re.compile(r'abc')\n",
    "\n",
    "match_obj = ptrn.match(x)"
   ]
  },
  {
   "cell_type": "code",
   "execution_count": 18,
   "metadata": {
    "colab": {
     "base_uri": "https://localhost:8080/"
    },
    "id": "qnmB1xHyYUsu",
    "outputId": "fa81302f-f639-4131-8d22-5980048b557a"
   },
   "outputs": [
    {
     "data": {
      "text/plain": [
       "<re.Match object; span=(0, 3), match='abc'>"
      ]
     },
     "execution_count": 18,
     "metadata": {},
     "output_type": "execute_result"
    }
   ],
   "source": [
    "match_obj"
   ]
  },
  {
   "cell_type": "markdown",
   "metadata": {
    "id": "brAonFa_Ybzx"
   },
   "source": [
    "As we can see above, the objects has 2 attributes span and match. span gives the index where the substring starts and ends. match gives the output of the string we are looking for\n",
    "\n",
    "This is a very simple use of match method to understand the usecase and we shall increase the complexity gradually"
   ]
  },
  {
   "cell_type": "code",
   "execution_count": 19,
   "metadata": {
    "colab": {
     "base_uri": "https://localhost:8080/"
    },
    "id": "WksFN9cuYWIZ",
    "outputId": "fb46bf66-1b43-4838-87af-e8eb61ece71f"
   },
   "outputs": [
    {
     "name": "stdout",
     "output_type": "stream",
     "text": [
      "<re.Match object; span=(0, 3), match='768'>\n"
     ]
    }
   ],
   "source": [
    "# Lets try to search if numbers are present at the start of the string\n",
    "\n",
    "x = '768KapilDS'\n",
    "\n",
    "ptrn = re.compile(r'768')\n",
    "\n",
    "match_obj = ptrn.match(x)\n",
    "\n",
    "print(match_obj)"
   ]
  },
  {
   "cell_type": "markdown",
   "metadata": {
    "id": "Pk6YaLr5ZUxh"
   },
   "source": [
    "## Methods accociated with the match object"
   ]
  },
  {
   "cell_type": "code",
   "execution_count": 20,
   "metadata": {
    "colab": {
     "base_uri": "https://localhost:8080/"
    },
    "id": "n7UGGfgxZNBl",
    "outputId": "ca95e9cc-9bd8-4080-f1bd-edcb9f4cdc3d"
   },
   "outputs": [
    {
     "name": "stdout",
     "output_type": "stream",
     "text": [
      "(0, 3)\n"
     ]
    }
   ],
   "source": [
    "x = '768KapilDS'\n",
    "\n",
    "ptrn = re.compile(r'768')\n",
    "\n",
    "match_obj = ptrn.match(x)\n",
    "\n",
    "print(match_obj.span())"
   ]
  },
  {
   "cell_type": "code",
   "execution_count": 21,
   "metadata": {
    "colab": {
     "base_uri": "https://localhost:8080/"
    },
    "id": "3TChn-gqZe7i",
    "outputId": "8dc6c179-b1da-4037-aa6b-5a2b36b8099d"
   },
   "outputs": [
    {
     "name": "stdout",
     "output_type": "stream",
     "text": [
      "768\n"
     ]
    }
   ],
   "source": [
    "x = '768JosephDS'\n",
    "\n",
    "ptrn = re.compile(r'768')\n",
    "\n",
    "match_obj = ptrn.match(x)\n",
    "\n",
    "print(match_obj.group())"
   ]
  },
  {
   "cell_type": "markdown",
   "metadata": {
    "id": "AQt4jNqHZy3H"
   },
   "source": [
    "To get the mattched string as an output we use the group method within the match object"
   ]
  },
  {
   "cell_type": "markdown",
   "metadata": {
    "id": "KpRVxaWjaHXs"
   },
   "source": [
    "If you want the start and end index as a part of the span attribute, we can use start and end method"
   ]
  },
  {
   "cell_type": "code",
   "execution_count": 22,
   "metadata": {
    "colab": {
     "base_uri": "https://localhost:8080/"
    },
    "id": "ymgPiPO8ZhE1",
    "outputId": "336a98cb-6047-42d1-8245-204501de5738"
   },
   "outputs": [
    {
     "data": {
      "text/plain": [
       "0"
      ]
     },
     "execution_count": 22,
     "metadata": {},
     "output_type": "execute_result"
    }
   ],
   "source": [
    "match_obj.start()"
   ]
  },
  {
   "cell_type": "code",
   "execution_count": 23,
   "metadata": {
    "colab": {
     "base_uri": "https://localhost:8080/"
    },
    "id": "khS5wHwYaDFJ",
    "outputId": "29a1467c-7b70-49f5-aa2a-7345721a68a4"
   },
   "outputs": [
    {
     "data": {
      "text/plain": [
       "3"
      ]
     },
     "execution_count": 23,
     "metadata": {},
     "output_type": "execute_result"
    }
   ],
   "source": [
    "match_obj.end()"
   ]
  },
  {
   "cell_type": "markdown",
   "metadata": {
    "id": "RB77leSTaUVN"
   },
   "source": [
    "obj.search(): by using this method, we can find the match within any location of the string."
   ]
  },
  {
   "cell_type": "code",
   "execution_count": 24,
   "metadata": {
    "colab": {
     "base_uri": "https://localhost:8080/"
    },
    "id": "B8Qcwn6daFsT",
    "outputId": "45ee8137-5a47-414d-de6e-47c17a5685f3"
   },
   "outputs": [
    {
     "name": "stdout",
     "output_type": "stream",
     "text": [
      "<re.Match object; span=(3, 9), match='Joseph'>\n"
     ]
    }
   ],
   "source": [
    "x = '768JosephDS'\n",
    "\n",
    "ptrn = re.compile(r'Joseph')\n",
    "\n",
    "match_obj = ptrn.search(x)\n",
    "\n",
    "print(match_obj)"
   ]
  },
  {
   "cell_type": "code",
   "execution_count": 25,
   "metadata": {
    "colab": {
     "base_uri": "https://localhost:8080/"
    },
    "id": "iMaVbO-halt6",
    "outputId": "0c9ae538-20c9-46de-98c0-daecd4b6d033"
   },
   "outputs": [
    {
     "name": "stdout",
     "output_type": "stream",
     "text": [
      "<re.Match object; span=(0, 3), match='768'>\n"
     ]
    }
   ],
   "source": [
    "x = '768JosephDS'\n",
    "\n",
    "ptrn = re.compile(r'768')\n",
    "\n",
    "match_obj = ptrn.search(x)\n",
    "\n",
    "print(match_obj)"
   ]
  },
  {
   "cell_type": "code",
   "execution_count": 26,
   "metadata": {
    "colab": {
     "base_uri": "https://localhost:8080/"
    },
    "id": "1kFQSkfua5f3",
    "outputId": "24a5c1d4-4065-4e9b-a9e0-f55581da5949"
   },
   "outputs": [
    {
     "data": {
      "text/plain": [
       "(0, 3)"
      ]
     },
     "execution_count": 26,
     "metadata": {},
     "output_type": "execute_result"
    }
   ],
   "source": [
    "match_obj.span()"
   ]
  },
  {
   "cell_type": "code",
   "execution_count": 27,
   "metadata": {
    "colab": {
     "base_uri": "https://localhost:8080/",
     "height": 36
    },
    "id": "6LZZLVTu8QVj",
    "outputId": "78744950-e100-4987-fd10-a61247b02703"
   },
   "outputs": [
    {
     "data": {
      "application/vnd.google.colaboratory.intrinsic+json": {
       "type": "string"
      },
      "text/plain": [
       "'768'"
      ]
     },
     "execution_count": 27,
     "metadata": {},
     "output_type": "execute_result"
    }
   ],
   "source": [
    "match_obj.group()"
   ]
  },
  {
   "cell_type": "code",
   "execution_count": 28,
   "metadata": {
    "colab": {
     "base_uri": "https://localhost:8080/"
    },
    "id": "uUlpJRrC8SQd",
    "outputId": "3106faf3-8b96-4bed-d3d6-5abba4ccb840"
   },
   "outputs": [
    {
     "data": {
      "text/plain": [
       "0"
      ]
     },
     "execution_count": 28,
     "metadata": {},
     "output_type": "execute_result"
    }
   ],
   "source": [
    "match_obj.start()"
   ]
  },
  {
   "cell_type": "code",
   "execution_count": 29,
   "metadata": {
    "colab": {
     "base_uri": "https://localhost:8080/"
    },
    "id": "0x08fZDJ8YR5",
    "outputId": "f8fb5abd-6bf6-4832-d141-3a57fec815b9"
   },
   "outputs": [
    {
     "data": {
      "text/plain": [
       "3"
      ]
     },
     "execution_count": 29,
     "metadata": {},
     "output_type": "execute_result"
    }
   ],
   "source": [
    "match_obj.end()"
   ]
  },
  {
   "cell_type": "markdown",
   "metadata": {
    "id": "c61l7Yrh84NC"
   },
   "source": [
    "obj.finditer(): Find all substrings where the pattern matches the string. The object returned is an iterator and we can use loops to operate on each substrings. For more lets have a look at the examples given below."
   ]
  },
  {
   "cell_type": "code",
   "execution_count": 52,
   "metadata": {
    "id": "G5gh0UX78Zvo"
   },
   "outputs": [],
   "source": [
    "x = 'Hi my name is Aladeen, and I am a friend of Jerry from Aladeen\\'s kingdom'\n",
    "\n",
    "ptrn = re.compile('Aladeen')\n",
    "substrings = ptrn.finditer(x)"
   ]
  },
  {
   "cell_type": "code",
   "execution_count": 41,
   "metadata": {
    "colab": {
     "base_uri": "https://localhost:8080/"
    },
    "id": "ra_RZzh78z1u",
    "outputId": "f6e6cef8-4959-4251-8bcd-c8e913b659b5"
   },
   "outputs": [
    {
     "name": "stdout",
     "output_type": "stream",
     "text": [
      "<re.Match object; span=(14, 21), match='Aladeen'>\n",
      "<re.Match object; span=(55, 62), match='Aladeen'>\n"
     ]
    }
   ],
   "source": [
    "for substring in substrings:\n",
    "  print(substring)\n",
    "  # print(substring.span(), substring.start(), substring.end())\n",
    "  # print(substring.group)"
   ]
  },
  {
   "cell_type": "code",
   "execution_count": 47,
   "metadata": {
    "colab": {
     "base_uri": "https://localhost:8080/"
    },
    "id": "SPGnSP-U-L4B",
    "outputId": "01dea4ad-0d93-4157-a15a-84402ee3aede"
   },
   "outputs": [
    {
     "name": "stdout",
     "output_type": "stream",
     "text": [
      "(14, 21) 14 21\n",
      "(55, 62) 55 62\n"
     ]
    }
   ],
   "source": [
    "for substring in substrings:\n",
    "  # print(substring)\n",
    "  print(substring.span(), substring.start(), substring.end())\n",
    "  # print(substring.group)"
   ]
  },
  {
   "cell_type": "code",
   "execution_count": 53,
   "metadata": {
    "colab": {
     "base_uri": "https://localhost:8080/"
    },
    "id": "SlAbPVCFAtx5",
    "outputId": "cc1add9b-ad81-4a1b-a5eb-3fdb1d46253d"
   },
   "outputs": [
    {
     "name": "stdout",
     "output_type": "stream",
     "text": [
      "Aladeen\n",
      "Aladeen\n"
     ]
    }
   ],
   "source": [
    "for substring in substrings:\n",
    "  # print(substring)\n",
    "  # print(substring.span(), substring.start(), substring.end())\n",
    "  print(substring.group())"
   ]
  },
  {
   "cell_type": "markdown",
   "metadata": {
    "id": "YxdlHR7tBQTv"
   },
   "source": [
    "obj.findall(): Find all substrings where the pattern matches the string. The returned part is a List and we can use loops to operate on each substrings. For more lets have a look at the examples given below."
   ]
  },
  {
   "cell_type": "code",
   "execution_count": 54,
   "metadata": {
    "id": "BBfcDAM1A_iX"
   },
   "outputs": [],
   "source": [
    "x = 'Hi my name is Aladeen, and I am a friend of Jerry from Aladeen\\'s kingdom'\n",
    "\n",
    "ptrn = re.compile('Aladeen')\n",
    "substrings = ptrn.findall(x)"
   ]
  },
  {
   "cell_type": "code",
   "execution_count": 58,
   "metadata": {
    "colab": {
     "base_uri": "https://localhost:8080/"
    },
    "id": "YO5CT0KHBjaD",
    "outputId": "cb83bfc1-ff8e-4f01-bd29-3eafdf98b97d"
   },
   "outputs": [
    {
     "data": {
      "text/plain": [
       "['Aladeen', 'Aladeen']"
      ]
     },
     "execution_count": 58,
     "metadata": {},
     "output_type": "execute_result"
    }
   ],
   "source": [
    "substrings"
   ]
  },
  {
   "cell_type": "markdown",
   "metadata": {
    "id": "HY4rs1_cBvg8"
   },
   "source": [
    "Since the returned part is a list we don't have access to span method\n"
   ]
  },
  {
   "cell_type": "code",
   "execution_count": 61,
   "metadata": {
    "id": "g6WiEQ-0Bkpm"
   },
   "outputs": [],
   "source": [
    "ptrn.findall??"
   ]
  },
  {
   "cell_type": "markdown",
   "metadata": {
    "id": "wdd_i2mKCQIs"
   },
   "source": [
    "#Meta characters"
   ]
  },
  {
   "cell_type": "markdown",
   "metadata": {
    "id": "6Zl0X3X9Gq0e"
   },
   "source": [
    "A metacharacter is a character that has a special meaning during pattern processing. You use metacharacters in regular expressions to define the search criteria and any text manipulations."
   ]
  },
  {
   "cell_type": "markdown",
   "metadata": {
    "id": "N0FU2IheCVbK"
   },
   "source": [
    "Please have a look at the cheat sheet to understand more\n",
    "\n",
    "\n",
    "\n",
    "```\n",
    "\n",
    ".       - Any Character Except New Line\n",
    "\\d      - Digit (0-9)\n",
    "\\D      - Not a Digit (0-9)\n",
    "\\w      - Word Character (a-z, A-Z, 0-9, _)\n",
    "\\W      - Not a Word Character\n",
    "\\s      - Whitespace (space, tab, newline)\n",
    "\\S      - Not Whitespace (space, tab, newline)\n",
    "\n",
    "\\b      - Word Boundary\n",
    "\\B      - Not a Word Boundary\n",
    "^       - Beginning of a String\n",
    "$       - End of a String\n",
    "\n",
    "[]      - Matches Characters in brackets\n",
    "[^ ]    - Matches Characters NOT in brackets\n",
    "|       - Either Or\n",
    "( )     - Group\n",
    "\n",
    "Quantifiers:\n",
    "*       - 0 or More\n",
    "+       - 1 or More\n",
    "?       - 0 or One\n",
    "{3}     - Exact Number\n",
    "{3,4}   - Range of Numbers (Minimum, Maximum)\n",
    "\n",
    "\n",
    "#### Sample Regexs ####\n",
    "\n",
    "[a-zA-Z0-9_.+-]+@[a-zA-Z0-9-]+\\.[a-zA-Z0-9-.]+\n",
    "\n",
    "\n",
    "\n",
    "\n",
    "\n",
    "```\n",
    "\n"
   ]
  },
  {
   "cell_type": "code",
   "execution_count": 1,
   "metadata": {
    "id": "PtuZDVEiHxE0"
   },
   "outputs": [],
   "source": [
    "import numpy as np"
   ]
  },
  {
   "cell_type": "code",
   "execution_count": 3,
   "metadata": {
    "colab": {
     "base_uri": "https://localhost:8080/"
    },
    "id": "ur4-zNf0B6Ru",
    "outputId": "5a0b5c5f-8982-41bc-dacb-fdcdfefb9474"
   },
   "outputs": [
    {
     "name": "stdout",
     "output_type": "stream",
     "text": [
      "We shall append this paragrph below to the end of the file:\n",
      "Hi my name is Miracle and my Employee SSN number is 188Ad\n",
      "\n",
      "Hi my name is Flavio and my Employee SSN number is 173Ad\n",
      "\n",
      "Hi my name is Joseph and my Employee SSN number is 125MKT\n",
      "\n",
      "Hi my name is Joseph and my Employee SSN number is 179MKT\n",
      "\n",
      "Hi my name is Flavio and my Employee SSN number is 108Ad\n",
      "\n",
      "Hi my name is Tish and my Employee SSN number is 136Ad\n",
      "\n",
      "Hi my name is Flavio and my Employee SSN number is 144Sls\n",
      "\n",
      "Hi my name is Joseph and my Employee SSN number is 163IT\n",
      "\n",
      "Hi my name is Danielle and my Employee SSN number is 180Ad\n",
      "\n",
      "Hi my name is Tish and my Employee SSN number is 147Ad\n",
      "\n"
     ]
    }
   ],
   "source": [
    "# Lets generate some texts and understand some usecases of these metacharacters in regex\n",
    "from random import randrange\n",
    "Subjects = ['Kaps','Miracle','Flavio','Joseph','Criston','Tish','Said','John','Danielle','Dimple','Sneha','Tanisha']\n",
    "Departments = ['IT','Ad','MKT','Sls','Op']\n",
    "\n",
    "text_example = f'Hi my name is {Subjects[randrange(0,len(Subjects)-1)]} and my Employee SSN number is {np.random.randint(100,200)}{Departments[randrange(0,len(Departments)-1)]}'\n",
    "with open('Test.txt','a') as f:\n",
    "  print('We shall append this paragrph below to the end of the file:')\n",
    "  for i in range(10):\n",
    "    store = f'Hi my name is {Subjects[randrange(0,len(Subjects)-1)]} and my Employee SSN number is {np.random.randint(100,200)}{Departments[randrange(0,len(Departments)-1)]}' + '\\n'\n",
    "    print(store)\n",
    "    f.write(store)\n"
   ]
  },
  {
   "cell_type": "markdown",
   "metadata": {
    "id": "nc1nL3A8ewtz"
   },
   "source": [
    "We shall store it in sentences array/ txt file for later use"
   ]
  },
  {
   "cell_type": "code",
   "execution_count": 4,
   "metadata": {
    "id": "w9lI6D38Lxgy"
   },
   "outputs": [],
   "source": [
    "# sentences = []\n",
    "with open('Test.txt','r') as f:\n",
    "  sentences = f.readlines()"
   ]
  },
  {
   "cell_type": "code",
   "execution_count": 5,
   "metadata": {
    "colab": {
     "base_uri": "https://localhost:8080/"
    },
    "id": "qrkOtSNtL94h",
    "outputId": "86ef3015-3099-44f1-b207-9be46c528977"
   },
   "outputs": [
    {
     "data": {
      "text/plain": [
       "['Hi my name is Miracle and my Employee SSN number is 188Ad\\n',\n",
       " 'Hi my name is Flavio and my Employee SSN number is 173Ad\\n',\n",
       " 'Hi my name is Joseph and my Employee SSN number is 125MKT\\n',\n",
       " 'Hi my name is Joseph and my Employee SSN number is 179MKT\\n',\n",
       " 'Hi my name is Flavio and my Employee SSN number is 108Ad\\n',\n",
       " 'Hi my name is Tish and my Employee SSN number is 136Ad\\n',\n",
       " 'Hi my name is Flavio and my Employee SSN number is 144Sls\\n',\n",
       " 'Hi my name is Joseph and my Employee SSN number is 163IT\\n',\n",
       " 'Hi my name is Danielle and my Employee SSN number is 180Ad\\n',\n",
       " 'Hi my name is Tish and my Employee SSN number is 147Ad\\n']"
      ]
     },
     "execution_count": 5,
     "metadata": {},
     "output_type": "execute_result"
    }
   ],
   "source": [
    "sentences"
   ]
  },
  {
   "cell_type": "code",
   "execution_count": 83,
   "metadata": {
    "colab": {
     "base_uri": "https://localhost:8080/",
     "height": 36
    },
    "id": "zzwpK2MWIXyr",
    "outputId": "1fa5a01d-ea80-4aa8-d62e-8346aa6c0be3"
   },
   "outputs": [
    {
     "data": {
      "application/vnd.google.colaboratory.intrinsic+json": {
       "type": "string"
      },
      "text/plain": [
       "'Hi my name is John and my Employee SSN number is 155IT'"
      ]
     },
     "execution_count": 83,
     "metadata": {},
     "output_type": "execute_result"
    }
   ],
   "source": [
    "text_example\n"
   ]
  },
  {
   "cell_type": "markdown",
   "metadata": {
    "id": "0ZliJaM1QOoJ"
   },
   "source": [
    "\\d searches for digits between 0-9"
   ]
  },
  {
   "cell_type": "code",
   "execution_count": 81,
   "metadata": {
    "id": "5gPReQ3ELklg"
   },
   "outputs": [],
   "source": [
    "ptrn = re.compile(r'\\d')\n",
    "match_obj = ptrn.finditer(text_example)"
   ]
  },
  {
   "cell_type": "code",
   "execution_count": 82,
   "metadata": {
    "colab": {
     "base_uri": "https://localhost:8080/"
    },
    "id": "JWQITYUGP4FB",
    "outputId": "0be7c54a-59f3-423d-f0ce-18d495d94281"
   },
   "outputs": [
    {
     "name": "stdout",
     "output_type": "stream",
     "text": [
      "<re.Match object; span=(49, 50), match='1'>\n",
      "<re.Match object; span=(50, 51), match='5'>\n",
      "<re.Match object; span=(51, 52), match='5'>\n"
     ]
    }
   ],
   "source": [
    "for i in match_obj:\n",
    "  print(i)"
   ]
  },
  {
   "cell_type": "markdown",
   "metadata": {
    "id": "JYFvJxkfQkii"
   },
   "source": [
    "\\s searches for White spaces like a tab or a space"
   ]
  },
  {
   "cell_type": "code",
   "execution_count": 84,
   "metadata": {
    "colab": {
     "base_uri": "https://localhost:8080/"
    },
    "id": "c_pNKXPPQEbH",
    "outputId": "a65163c4-0f68-475b-9b1d-f89bf651622f"
   },
   "outputs": [
    {
     "name": "stdout",
     "output_type": "stream",
     "text": [
      "<re.Match object; span=(2, 3), match=' '>\n",
      "<re.Match object; span=(5, 6), match=' '>\n",
      "<re.Match object; span=(10, 11), match=' '>\n",
      "<re.Match object; span=(13, 14), match=' '>\n",
      "<re.Match object; span=(18, 19), match=' '>\n",
      "<re.Match object; span=(22, 23), match=' '>\n",
      "<re.Match object; span=(25, 26), match=' '>\n",
      "<re.Match object; span=(34, 35), match=' '>\n",
      "<re.Match object; span=(38, 39), match=' '>\n",
      "<re.Match object; span=(45, 46), match=' '>\n",
      "<re.Match object; span=(48, 49), match=' '>\n"
     ]
    }
   ],
   "source": [
    "ptrn = re.compile(r'\\s')\n",
    "match_obj = ptrn.finditer(text_example)\n",
    "for i in match_obj:\n",
    "  print(i)"
   ]
  },
  {
   "cell_type": "markdown",
   "metadata": {
    "id": "IRNbpTJPQ3HS"
   },
   "source": [
    "\\S note that here the S is capital which means not a white space"
   ]
  },
  {
   "cell_type": "code",
   "execution_count": 85,
   "metadata": {
    "colab": {
     "base_uri": "https://localhost:8080/"
    },
    "id": "Kv9EvulVQiqy",
    "outputId": "51f28088-bfab-4506-e877-d0559d6f3254"
   },
   "outputs": [
    {
     "name": "stdout",
     "output_type": "stream",
     "text": [
      "<re.Match object; span=(0, 1), match='H'>\n",
      "<re.Match object; span=(1, 2), match='i'>\n",
      "<re.Match object; span=(3, 4), match='m'>\n",
      "<re.Match object; span=(4, 5), match='y'>\n",
      "<re.Match object; span=(6, 7), match='n'>\n",
      "<re.Match object; span=(7, 8), match='a'>\n",
      "<re.Match object; span=(8, 9), match='m'>\n",
      "<re.Match object; span=(9, 10), match='e'>\n",
      "<re.Match object; span=(11, 12), match='i'>\n",
      "<re.Match object; span=(12, 13), match='s'>\n",
      "<re.Match object; span=(14, 15), match='J'>\n",
      "<re.Match object; span=(15, 16), match='o'>\n",
      "<re.Match object; span=(16, 17), match='h'>\n",
      "<re.Match object; span=(17, 18), match='n'>\n",
      "<re.Match object; span=(19, 20), match='a'>\n",
      "<re.Match object; span=(20, 21), match='n'>\n",
      "<re.Match object; span=(21, 22), match='d'>\n",
      "<re.Match object; span=(23, 24), match='m'>\n",
      "<re.Match object; span=(24, 25), match='y'>\n",
      "<re.Match object; span=(26, 27), match='E'>\n",
      "<re.Match object; span=(27, 28), match='m'>\n",
      "<re.Match object; span=(28, 29), match='p'>\n",
      "<re.Match object; span=(29, 30), match='l'>\n",
      "<re.Match object; span=(30, 31), match='o'>\n",
      "<re.Match object; span=(31, 32), match='y'>\n",
      "<re.Match object; span=(32, 33), match='e'>\n",
      "<re.Match object; span=(33, 34), match='e'>\n",
      "<re.Match object; span=(35, 36), match='S'>\n",
      "<re.Match object; span=(36, 37), match='S'>\n",
      "<re.Match object; span=(37, 38), match='N'>\n",
      "<re.Match object; span=(39, 40), match='n'>\n",
      "<re.Match object; span=(40, 41), match='u'>\n",
      "<re.Match object; span=(41, 42), match='m'>\n",
      "<re.Match object; span=(42, 43), match='b'>\n",
      "<re.Match object; span=(43, 44), match='e'>\n",
      "<re.Match object; span=(44, 45), match='r'>\n",
      "<re.Match object; span=(46, 47), match='i'>\n",
      "<re.Match object; span=(47, 48), match='s'>\n",
      "<re.Match object; span=(49, 50), match='1'>\n",
      "<re.Match object; span=(50, 51), match='5'>\n",
      "<re.Match object; span=(51, 52), match='5'>\n",
      "<re.Match object; span=(52, 53), match='I'>\n",
      "<re.Match object; span=(53, 54), match='T'>\n"
     ]
    }
   ],
   "source": [
    "ptrn = re.compile(r'\\S')\n",
    "match_obj = ptrn.finditer(text_example)\n",
    "for i in match_obj:\n",
    "  print(i)"
   ]
  },
  {
   "cell_type": "markdown",
   "metadata": {
    "id": "XXNycYwAQ89K"
   },
   "source": [
    "\\D searches for anything except a digit from 0-9"
   ]
  },
  {
   "cell_type": "code",
   "execution_count": 86,
   "metadata": {
    "colab": {
     "base_uri": "https://localhost:8080/"
    },
    "id": "9apv_zyYQ7o-",
    "outputId": "568273f1-87b0-4036-9b8f-706c474037ec"
   },
   "outputs": [
    {
     "name": "stdout",
     "output_type": "stream",
     "text": [
      "<re.Match object; span=(0, 1), match='H'>\n",
      "<re.Match object; span=(1, 2), match='i'>\n",
      "<re.Match object; span=(2, 3), match=' '>\n",
      "<re.Match object; span=(3, 4), match='m'>\n",
      "<re.Match object; span=(4, 5), match='y'>\n",
      "<re.Match object; span=(5, 6), match=' '>\n",
      "<re.Match object; span=(6, 7), match='n'>\n",
      "<re.Match object; span=(7, 8), match='a'>\n",
      "<re.Match object; span=(8, 9), match='m'>\n",
      "<re.Match object; span=(9, 10), match='e'>\n",
      "<re.Match object; span=(10, 11), match=' '>\n",
      "<re.Match object; span=(11, 12), match='i'>\n",
      "<re.Match object; span=(12, 13), match='s'>\n",
      "<re.Match object; span=(13, 14), match=' '>\n",
      "<re.Match object; span=(14, 15), match='J'>\n",
      "<re.Match object; span=(15, 16), match='o'>\n",
      "<re.Match object; span=(16, 17), match='h'>\n",
      "<re.Match object; span=(17, 18), match='n'>\n",
      "<re.Match object; span=(18, 19), match=' '>\n",
      "<re.Match object; span=(19, 20), match='a'>\n",
      "<re.Match object; span=(20, 21), match='n'>\n",
      "<re.Match object; span=(21, 22), match='d'>\n",
      "<re.Match object; span=(22, 23), match=' '>\n",
      "<re.Match object; span=(23, 24), match='m'>\n",
      "<re.Match object; span=(24, 25), match='y'>\n",
      "<re.Match object; span=(25, 26), match=' '>\n",
      "<re.Match object; span=(26, 27), match='E'>\n",
      "<re.Match object; span=(27, 28), match='m'>\n",
      "<re.Match object; span=(28, 29), match='p'>\n",
      "<re.Match object; span=(29, 30), match='l'>\n",
      "<re.Match object; span=(30, 31), match='o'>\n",
      "<re.Match object; span=(31, 32), match='y'>\n",
      "<re.Match object; span=(32, 33), match='e'>\n",
      "<re.Match object; span=(33, 34), match='e'>\n",
      "<re.Match object; span=(34, 35), match=' '>\n",
      "<re.Match object; span=(35, 36), match='S'>\n",
      "<re.Match object; span=(36, 37), match='S'>\n",
      "<re.Match object; span=(37, 38), match='N'>\n",
      "<re.Match object; span=(38, 39), match=' '>\n",
      "<re.Match object; span=(39, 40), match='n'>\n",
      "<re.Match object; span=(40, 41), match='u'>\n",
      "<re.Match object; span=(41, 42), match='m'>\n",
      "<re.Match object; span=(42, 43), match='b'>\n",
      "<re.Match object; span=(43, 44), match='e'>\n",
      "<re.Match object; span=(44, 45), match='r'>\n",
      "<re.Match object; span=(45, 46), match=' '>\n",
      "<re.Match object; span=(46, 47), match='i'>\n",
      "<re.Match object; span=(47, 48), match='s'>\n",
      "<re.Match object; span=(48, 49), match=' '>\n",
      "<re.Match object; span=(52, 53), match='I'>\n",
      "<re.Match object; span=(53, 54), match='T'>\n"
     ]
    }
   ],
   "source": [
    "ptrn = re.compile(r'\\D')\n",
    "match_obj = ptrn.finditer(text_example)\n",
    "for i in match_obj:\n",
    "  print(i)"
   ]
  },
  {
   "cell_type": "markdown",
   "metadata": {
    "id": "rh5I2WrRRMnt"
   },
   "source": [
    "\\b is an interesting one, it points to the beginning of each word in a sentence. These words in a sentence are called as blocks. If the desired sequence is in the beginning of each block. then it is returned. "
   ]
  },
  {
   "cell_type": "code",
   "execution_count": 88,
   "metadata": {
    "colab": {
     "base_uri": "https://localhost:8080/"
    },
    "id": "yT3V1yE0RC31",
    "outputId": "b474fa4e-c158-461c-a58a-0c0e307cdea5"
   },
   "outputs": [
    {
     "name": "stdout",
     "output_type": "stream",
     "text": [
      "<re.Match object; span=(14, 19), match='hello'>\n"
     ]
    }
   ],
   "source": [
    "exmple = 'hehihahahello hellohihihaha'\n",
    "\n",
    "ptrn = re.compile(r'\\bhello')\n",
    "match_obj = ptrn.finditer(exmple)\n",
    "for i in match_obj:\n",
    "  print(i)"
   ]
  },
  {
   "cell_type": "markdown",
   "metadata": {
    "id": "TfbeyBwXTI01"
   },
   "source": [
    "\\B is opposite of \\b where a match is returned if its not at the beginning of the block"
   ]
  },
  {
   "cell_type": "code",
   "execution_count": 89,
   "metadata": {
    "colab": {
     "base_uri": "https://localhost:8080/"
    },
    "id": "WU9Ze9cbRQDS",
    "outputId": "0d1d05b4-a422-4a73-850c-b74eae630fc4"
   },
   "outputs": [
    {
     "name": "stdout",
     "output_type": "stream",
     "text": [
      "<re.Match object; span=(8, 13), match='hello'>\n"
     ]
    }
   ],
   "source": [
    "ptrn = re.compile(r'\\Bhello')\n",
    "match_obj = ptrn.finditer(exmple)\n",
    "for i in match_obj:\n",
    "  print(i)"
   ]
  },
  {
   "cell_type": "markdown",
   "metadata": {
    "id": "mJzm90i4TWwD"
   },
   "source": [
    "if we compare the span of each returned parts we can understand it in more detail"
   ]
  },
  {
   "cell_type": "code",
   "execution_count": 93,
   "metadata": {
    "id": "cFeSk-AwTVZr"
   },
   "outputs": [],
   "source": [
    "x = 'Hi my name is rick'\n",
    "y = 'Rick here, Hi'\n",
    "\n",
    "ptrn = re.compile(r'^Hi')\n",
    "\n",
    "match_obj1 = ptrn.findall(x)\n",
    "match_obj2 = ptrn.findall(y)\n",
    "\n",
    "\n"
   ]
  },
  {
   "cell_type": "code",
   "execution_count": 94,
   "metadata": {
    "colab": {
     "base_uri": "https://localhost:8080/"
    },
    "id": "fEKgMfBTZ6T7",
    "outputId": "acac605a-273d-4f2d-b2f5-46faffab50ed"
   },
   "outputs": [
    {
     "name": "stdout",
     "output_type": "stream",
     "text": [
      "match1 =  ['Hi'] match2 =  []\n"
     ]
    }
   ],
   "source": [
    "print('match1 = ',match_obj1,'match2 = ',match_obj2)"
   ]
  },
  {
   "cell_type": "markdown",
   "metadata": {
    "id": "eYEA26PoaJyG"
   },
   "source": [
    "Even though findall searches for matches through out the string, the '^' character searches for the substring mentioned at the beginning of the string."
   ]
  },
  {
   "cell_type": "code",
   "execution_count": 97,
   "metadata": {
    "id": "9VKuM_EpaGch"
   },
   "outputs": [],
   "source": [
    "x = 'Hi my name is rick'\n",
    "y = 'Rick here, Hi'\n",
    "\n",
    "ptrn = re.compile(r'Hi$')\n",
    "\n",
    "match_obj1 = ptrn.findall(x)\n",
    "match_obj2 = ptrn.findall(y)\n",
    "\n",
    "\n"
   ]
  },
  {
   "cell_type": "code",
   "execution_count": 98,
   "metadata": {
    "colab": {
     "base_uri": "https://localhost:8080/"
    },
    "id": "W5882uT6ajtv",
    "outputId": "ff17368c-a8f7-4d5c-ac91-19ca6ca03f0f"
   },
   "outputs": [
    {
     "name": "stdout",
     "output_type": "stream",
     "text": [
      "match1 =  [] match2 =  ['Hi']\n"
     ]
    }
   ],
   "source": [
    "print('match1 = ',match_obj1,'match2 = ',match_obj2)"
   ]
  },
  {
   "cell_type": "markdown",
   "metadata": {
    "id": "7ry9j-luapQu"
   },
   "source": [
    "the dollar sign when written a the end of substring, it will look for the substring from in the end of the string."
   ]
  },
  {
   "cell_type": "markdown",
   "metadata": {
    "id": "Q__FnUv6a6Uk"
   },
   "source": [
    "#SETS"
   ]
  },
  {
   "cell_type": "markdown",
   "metadata": {
    "id": "4cBOjSdoeA9i"
   },
   "source": [
    "A set is a group of characters with a particular meaning that are enclosed in a pair of square brackets, []. Add many conditions in a row, as [aA-Z].\n",
    "The expression is negated by a (caret) inside a set.\n",
    "If a dash occurs between two values in a set, it specifies a range; otherwise, it is the dash itself.\n",
    "\n",
    "Examples:\n",
    "\n",
    "1. [ASN] will return a match where either A or S or N are present\n",
    "2. [a-n] will form a range as mentioned above and will only return a match if there exist a lower case character between a to n alphabetically\n",
    "3. [^asn] will return a match for any character except a, r and n\n",
    "4. [0123] works similar as [ASN] will return a match if the character is either 0,1 ,2 or 3\n",
    "similarly, [a-zA-Z] will return a match for any character alphabetically between a and z lowercase OR A and Z UPPERCASE\n"
   ]
  },
  {
   "cell_type": "code",
   "execution_count": 99,
   "metadata": {
    "colab": {
     "base_uri": "https://localhost:8080/",
     "height": 36
    },
    "id": "OGPndJBcalcr",
    "outputId": "d703d401-8d0d-4520-b788-5b1a4a306aad"
   },
   "outputs": [
    {
     "data": {
      "application/vnd.google.colaboratory.intrinsic+json": {
       "type": "string"
      },
      "text/plain": [
       "'Hi my name is John and my Employee SSN number is 155IT'"
      ]
     },
     "execution_count": 99,
     "metadata": {},
     "output_type": "execute_result"
    }
   ],
   "source": [
    "text_example"
   ]
  },
  {
   "cell_type": "code",
   "execution_count": 101,
   "metadata": {
    "colab": {
     "base_uri": "https://localhost:8080/"
    },
    "id": "zxbskEIRov5F",
    "outputId": "f2b89052-c82d-4023-f0b1-e37eacd5b2c1"
   },
   "outputs": [
    {
     "name": "stdout",
     "output_type": "stream",
     "text": [
      "<re.Match object; span=(1, 2), match='i'>\n",
      "<re.Match object; span=(3, 4), match='m'>\n",
      "<re.Match object; span=(4, 5), match='y'>\n",
      "<re.Match object; span=(6, 7), match='n'>\n",
      "<re.Match object; span=(7, 8), match='a'>\n",
      "<re.Match object; span=(8, 9), match='m'>\n",
      "<re.Match object; span=(9, 10), match='e'>\n",
      "<re.Match object; span=(11, 12), match='i'>\n",
      "<re.Match object; span=(12, 13), match='s'>\n",
      "<re.Match object; span=(15, 16), match='o'>\n",
      "<re.Match object; span=(16, 17), match='h'>\n",
      "<re.Match object; span=(17, 18), match='n'>\n",
      "<re.Match object; span=(19, 20), match='a'>\n",
      "<re.Match object; span=(20, 21), match='n'>\n",
      "<re.Match object; span=(21, 22), match='d'>\n",
      "<re.Match object; span=(23, 24), match='m'>\n",
      "<re.Match object; span=(24, 25), match='y'>\n",
      "<re.Match object; span=(27, 28), match='m'>\n",
      "<re.Match object; span=(28, 29), match='p'>\n",
      "<re.Match object; span=(29, 30), match='l'>\n",
      "<re.Match object; span=(30, 31), match='o'>\n",
      "<re.Match object; span=(31, 32), match='y'>\n",
      "<re.Match object; span=(32, 33), match='e'>\n",
      "<re.Match object; span=(33, 34), match='e'>\n",
      "<re.Match object; span=(39, 40), match='n'>\n",
      "<re.Match object; span=(40, 41), match='u'>\n",
      "<re.Match object; span=(41, 42), match='m'>\n",
      "<re.Match object; span=(42, 43), match='b'>\n",
      "<re.Match object; span=(43, 44), match='e'>\n",
      "<re.Match object; span=(44, 45), match='r'>\n",
      "<re.Match object; span=(46, 47), match='i'>\n",
      "<re.Match object; span=(47, 48), match='s'>\n"
     ]
    }
   ],
   "source": [
    "ptrn = re.compile(r'[a-z]')\n",
    "\n",
    "for i in ptrn.finditer(text_example):\n",
    "  print(i)"
   ]
  },
  {
   "cell_type": "code",
   "execution_count": 19,
   "metadata": {
    "id": "uwg3l93Wo80g"
   },
   "outputs": [],
   "source": [
    "dates = '''\n",
    "02.03.2020\n",
    "\n",
    "\n",
    "2021-05-07\n",
    "2020-05-30\n",
    "\n",
    "2020.06.22\n",
    "\n",
    "2020-06-23\n",
    "2020-06-14\n",
    "2020-03-15\n",
    "2020 03 04\n",
    "2020/09/30\n",
    "\n",
    "2022_04_24\n",
    "2021_02_24\n",
    "'''\n",
    "\n"
   ]
  },
  {
   "cell_type": "markdown",
   "metadata": {
    "id": "Vw3PEvIqvn1P"
   },
   "source": [
    "See any pattern with the dates above? All of them follow some sort of a format  \n",
    "```\n",
    "[YYYY mm dd, YYYY.mm.dd, YYYY-mm-dd, YYYY/mm/dd, YYYY_mm_dd] \n",
    "\n",
    "```\n",
    "\n",
    "the dot('.') operator is used to pass any character except new line.\n",
    "Lets see how we can use them in this example"
   ]
  },
  {
   "cell_type": "code",
   "execution_count": 7,
   "metadata": {
    "colab": {
     "base_uri": "https://localhost:8080/"
    },
    "id": "Ykcaf814vnDo",
    "outputId": "88b25566-fb56-4906-e16f-974da3309336"
   },
   "outputs": [
    {
     "name": "stdout",
     "output_type": "stream",
     "text": [
      "<re.Match object; span=(14, 24), match='2021-05-07'>\n",
      "<re.Match object; span=(25, 35), match='2020-05-30'>\n",
      "<re.Match object; span=(37, 47), match='2020.06.22'>\n",
      "<re.Match object; span=(49, 59), match='2020-06-23'>\n",
      "<re.Match object; span=(60, 70), match='2020-06-14'>\n",
      "<re.Match object; span=(71, 81), match='2020-03-15'>\n",
      "<re.Match object; span=(83, 93), match='2020/09/30'>\n",
      "<re.Match object; span=(95, 105), match='2022_04_24'>\n",
      "<re.Match object; span=(106, 116), match='2021_02_24'>\n"
     ]
    }
   ],
   "source": [
    "ptrn = re.compile(r'\\d\\d\\d\\d.\\d\\d.\\d\\d')\n",
    "match_obj = ptrn.finditer(dates)\n",
    "\n",
    "for i in match_obj:\n",
    "  print(i)"
   ]
  },
  {
   "cell_type": "markdown",
   "metadata": {
    "id": "_kfwhzVdx_y4"
   },
   "source": [
    "Here the dates with spaces in between isn't included. We cannot use sets in this situation to only include either all the character or spaces in between years, month and date. The reason being, when we try to implement something like [.\\s] it would treat . like a character and not a metacharacter"
   ]
  },
  {
   "cell_type": "code",
   "execution_count": null,
   "metadata": {
    "id": "17s1XeXYopPU"
   },
   "outputs": [],
   "source": [
    "ptrn = re.compile(f'\\d\\d\\d\\d[.\\s]\\d\\d[.\\s)\\d\\d')\n",
    "match_obj = ptrn.finditer(dates)\n",
    "\n",
    "for i in match_obj:\n",
    "  print(i)"
   ]
  },
  {
   "cell_type": "markdown",
   "metadata": {
    "id": "mrnBQZ7Fq4Oi"
   },
   "source": [
    "The correct way to do it is below but we shall dive into grouping and the | operator in a bit."
   ]
  },
  {
   "cell_type": "code",
   "execution_count": 20,
   "metadata": {
    "colab": {
     "base_uri": "https://localhost:8080/"
    },
    "id": "5xF49YraxvdX",
    "outputId": "b10077d3-8092-4ac6-e270-2c8db420d913"
   },
   "outputs": [
    {
     "name": "stdout",
     "output_type": "stream",
     "text": [
      "<re.Match object; span=(14, 24), match='2021-05-07'>\n",
      "<re.Match object; span=(25, 35), match='2020-05-30'>\n",
      "<re.Match object; span=(37, 47), match='2020.06.22'>\n",
      "<re.Match object; span=(49, 59), match='2020-06-23'>\n",
      "<re.Match object; span=(60, 70), match='2020-06-14'>\n",
      "<re.Match object; span=(71, 81), match='2020-03-15'>\n",
      "<re.Match object; span=(82, 92), match='2020 03 04'>\n",
      "<re.Match object; span=(93, 103), match='2020/09/30'>\n",
      "<re.Match object; span=(105, 115), match='2022_04_24'>\n",
      "<re.Match object; span=(116, 126), match='2021_02_24'>\n"
     ]
    }
   ],
   "source": [
    "ptrn = re.compile(f'\\d\\d\\d\\d(.|\\s)\\d\\d(.|\\s)\\d\\d')\n",
    "match_obj = ptrn.finditer(dates)\n",
    "\n",
    "for i in match_obj:\n",
    "  print(i)"
   ]
  },
  {
   "cell_type": "markdown",
   "metadata": {
    "id": "swQWubharTqX"
   },
   "source": [
    "Only dates with month year etc seperated by - or ."
   ]
  },
  {
   "cell_type": "code",
   "execution_count": 22,
   "metadata": {
    "colab": {
     "base_uri": "https://localhost:8080/"
    },
    "id": "S3w4kfDiyqxW",
    "outputId": "ba22b34c-9538-4be9-8fea-8de8fbea29d3"
   },
   "outputs": [
    {
     "name": "stdout",
     "output_type": "stream",
     "text": [
      "<re.Match object; span=(14, 24), match='2021-05-07'>\n",
      "<re.Match object; span=(25, 35), match='2020-05-30'>\n",
      "<re.Match object; span=(37, 47), match='2020.06.22'>\n",
      "<re.Match object; span=(49, 59), match='2020-06-23'>\n",
      "<re.Match object; span=(60, 70), match='2020-06-14'>\n",
      "<re.Match object; span=(71, 81), match='2020-03-15'>\n"
     ]
    }
   ],
   "source": [
    "ptrn = re.compile(r'\\d\\d\\d\\d[-.]\\d\\d[-.]\\d\\d') \n",
    "match_obj = ptrn.finditer(dates)\n",
    "for i in match_obj:\n",
    "    print(i)"
   ]
  },
  {
   "cell_type": "markdown",
   "metadata": {
    "id": "nqaJM1ujrg3u"
   },
   "source": [
    "Dates in between month [3-5]"
   ]
  },
  {
   "cell_type": "code",
   "execution_count": 23,
   "metadata": {
    "colab": {
     "base_uri": "https://localhost:8080/"
    },
    "id": "omwHBKojm2Ag",
    "outputId": "58aacacd-aaf8-45ba-cb37-4e6fe75dc424"
   },
   "outputs": [
    {
     "name": "stdout",
     "output_type": "stream",
     "text": [
      "<re.Match object; span=(14, 24), match='2021-05-07'>\n",
      "<re.Match object; span=(25, 35), match='2020-05-30'>\n",
      "<re.Match object; span=(71, 81), match='2020-03-15'>\n",
      "<re.Match object; span=(82, 92), match='2020 03 04'>\n",
      "<re.Match object; span=(105, 115), match='2022_04_24'>\n"
     ]
    }
   ],
   "source": [
    "ptrn = re.compile(r'\\d\\d\\d\\d.0[3-5].\\d\\d') \n",
    "match_obj = ptrn.finditer(dates)\n",
    "for i in match_obj:\n",
    "    print(i)"
   ]
  },
  {
   "cell_type": "markdown",
   "metadata": {
    "id": "XKxRDBpSr6bB"
   },
   "source": [
    "Dates between [3-5] but only with seperation by - and ."
   ]
  },
  {
   "cell_type": "code",
   "execution_count": 24,
   "metadata": {
    "colab": {
     "base_uri": "https://localhost:8080/"
    },
    "id": "D4yG9XWhr3V4",
    "outputId": "aa33c9cf-27e9-456b-e674-e293c1e89333"
   },
   "outputs": [
    {
     "name": "stdout",
     "output_type": "stream",
     "text": [
      "<re.Match object; span=(14, 24), match='2021-05-07'>\n",
      "<re.Match object; span=(25, 35), match='2020-05-30'>\n",
      "<re.Match object; span=(71, 81), match='2020-03-15'>\n"
     ]
    }
   ],
   "source": [
    "ptrn = re.compile(r'\\d\\d\\d\\d[-.]0[3-5][.-]\\d\\d') \n",
    "match_obj = ptrn.finditer(dates)\n",
    "for i in match_obj:\n",
    "    print(i)"
   ]
  },
  {
   "cell_type": "markdown",
   "metadata": {
    "id": "BX6OyleWsIFS"
   },
   "source": [
    "if you observe the above code closely, you can understand the sequence of characters written inside a set doesn't matter since it is either . or -"
   ]
  },
  {
   "cell_type": "markdown",
   "metadata": {
    "id": "cXt0G_aJsUpB"
   },
   "source": [
    "# Quantifiers"
   ]
  },
  {
   "cell_type": "markdown",
   "metadata": {
    "id": "ZVyrCoo7slCw"
   },
   "source": [
    "Writing a Regular expression with repeated meta characters or characters in general looks a bit rough. That is why we have quantifiers. Quantifiers specify how many instances of a character, group, or character class must be present in the input for a match to be found. If we have a look at the cheatsheet, each of these quantifiers are defined in terms of their operations. Lets list them down here\n",
    "\n",
    "```\n",
    "*       - 0 or More\n",
    "\n",
    "+       - 1 or More\n",
    "\n",
    "?       - 0 or One\n",
    "\n",
    "{3}     - Exact Number\n",
    "\n",
    "{3,4}   - Range of Numbers (Minimum, Maximum)\n",
    "\n",
    "```\n"
   ]
  },
  {
   "cell_type": "code",
   "execution_count": 25,
   "metadata": {
    "colab": {
     "base_uri": "https://localhost:8080/",
     "height": 36
    },
    "id": "wWRu_sH1sGd4",
    "outputId": "49ca1142-976c-4629-98c3-cb511d8b103b"
   },
   "outputs": [
    {
     "data": {
      "application/vnd.google.colaboratory.intrinsic+json": {
       "type": "string"
      },
      "text/plain": [
       "'Hi my name is Criston and my Employee SSN number is 127Sls'"
      ]
     },
     "execution_count": 25,
     "metadata": {},
     "output_type": "execute_result"
    }
   ],
   "source": [
    "text_example"
   ]
  },
  {
   "cell_type": "code",
   "execution_count": 26,
   "metadata": {
    "colab": {
     "base_uri": "https://localhost:8080/"
    },
    "id": "xPSG2LYpu8Af",
    "outputId": "9f275a08-9b4b-407a-f638-ca77ba292c77"
   },
   "outputs": [
    {
     "name": "stdout",
     "output_type": "stream",
     "text": [
      "<re.Match object; span=(0, 0), match=''>\n",
      "<re.Match object; span=(1, 1), match=''>\n",
      "<re.Match object; span=(2, 2), match=''>\n",
      "<re.Match object; span=(3, 3), match=''>\n",
      "<re.Match object; span=(4, 4), match=''>\n",
      "<re.Match object; span=(5, 5), match=''>\n",
      "<re.Match object; span=(6, 6), match=''>\n",
      "<re.Match object; span=(7, 7), match=''>\n",
      "<re.Match object; span=(8, 8), match=''>\n",
      "<re.Match object; span=(9, 9), match=''>\n",
      "<re.Match object; span=(10, 10), match=''>\n",
      "<re.Match object; span=(11, 11), match=''>\n",
      "<re.Match object; span=(12, 12), match=''>\n",
      "<re.Match object; span=(13, 13), match=''>\n",
      "<re.Match object; span=(14, 14), match=''>\n",
      "<re.Match object; span=(15, 15), match=''>\n",
      "<re.Match object; span=(16, 16), match=''>\n",
      "<re.Match object; span=(17, 17), match=''>\n",
      "<re.Match object; span=(18, 18), match=''>\n",
      "<re.Match object; span=(19, 19), match=''>\n",
      "<re.Match object; span=(20, 20), match=''>\n",
      "<re.Match object; span=(21, 21), match=''>\n",
      "<re.Match object; span=(22, 22), match=''>\n",
      "<re.Match object; span=(23, 23), match=''>\n",
      "<re.Match object; span=(24, 24), match=''>\n",
      "<re.Match object; span=(25, 25), match=''>\n",
      "<re.Match object; span=(26, 26), match=''>\n",
      "<re.Match object; span=(27, 27), match=''>\n",
      "<re.Match object; span=(28, 28), match=''>\n",
      "<re.Match object; span=(29, 29), match=''>\n",
      "<re.Match object; span=(30, 30), match=''>\n",
      "<re.Match object; span=(31, 31), match=''>\n",
      "<re.Match object; span=(32, 32), match=''>\n",
      "<re.Match object; span=(33, 33), match=''>\n",
      "<re.Match object; span=(34, 34), match=''>\n",
      "<re.Match object; span=(35, 35), match=''>\n",
      "<re.Match object; span=(36, 36), match=''>\n",
      "<re.Match object; span=(37, 37), match=''>\n",
      "<re.Match object; span=(38, 38), match=''>\n",
      "<re.Match object; span=(39, 39), match=''>\n",
      "<re.Match object; span=(40, 40), match=''>\n",
      "<re.Match object; span=(41, 41), match=''>\n",
      "<re.Match object; span=(42, 42), match=''>\n",
      "<re.Match object; span=(43, 43), match=''>\n",
      "<re.Match object; span=(44, 44), match=''>\n",
      "<re.Match object; span=(45, 45), match=''>\n",
      "<re.Match object; span=(46, 46), match=''>\n",
      "<re.Match object; span=(47, 47), match=''>\n",
      "<re.Match object; span=(48, 48), match=''>\n",
      "<re.Match object; span=(49, 49), match=''>\n",
      "<re.Match object; span=(50, 50), match=''>\n",
      "<re.Match object; span=(51, 51), match=''>\n",
      "<re.Match object; span=(52, 55), match='127'>\n",
      "<re.Match object; span=(55, 55), match=''>\n",
      "<re.Match object; span=(56, 56), match=''>\n",
      "<re.Match object; span=(57, 57), match=''>\n",
      "<re.Match object; span=(58, 58), match=''>\n"
     ]
    }
   ],
   "source": [
    "# lets try and extract the numbers out of this string\n",
    "\n",
    "ptrn = re.compile(r'\\d*')\n",
    "\n",
    "for i in ptrn.finditer(text_example):\n",
    "  print(i)"
   ]
  },
  {
   "cell_type": "markdown",
   "metadata": {
    "id": "JdaK8sTevXvg"
   },
   "source": [
    "If we look at the output above this is what the * quantifier will do. it will look for 0 or more digits in the string. even though alphabetical characters won't be returned in the output but empty string will be returned to fix it, we shall use + instead of *"
   ]
  },
  {
   "cell_type": "code",
   "execution_count": 27,
   "metadata": {
    "colab": {
     "base_uri": "https://localhost:8080/"
    },
    "id": "15SX5gUpvT27",
    "outputId": "10986883-8917-4d60-b7a1-04a535836dd5"
   },
   "outputs": [
    {
     "name": "stdout",
     "output_type": "stream",
     "text": [
      "<re.Match object; span=(52, 55), match='127'>\n"
     ]
    }
   ],
   "source": [
    "ptrn = re.compile(r'\\d+')\n",
    "\n",
    "for i in ptrn.finditer(text_example):\n",
    "  print(i)"
   ]
  },
  {
   "cell_type": "markdown",
   "metadata": {
    "id": "OA8RuTBuwglR"
   },
   "source": [
    "+ is a one or more quantifier hence only one or more digits will be returned if you want to use the match as an output use the group method"
   ]
  },
  {
   "cell_type": "code",
   "execution_count": 28,
   "metadata": {
    "colab": {
     "base_uri": "https://localhost:8080/"
    },
    "id": "4fm2Ff0Owe0i",
    "outputId": "bf745fa5-5be5-49cd-a59f-a1162334632c"
   },
   "outputs": [
    {
     "name": "stdout",
     "output_type": "stream",
     "text": [
      "127\n"
     ]
    }
   ],
   "source": [
    "ptrn = re.compile(r'\\d+')\n",
    "\n",
    "for i in ptrn.finditer(text_example):\n",
    "  print(i.group())"
   ]
  },
  {
   "cell_type": "code",
   "execution_count": 32,
   "metadata": {
    "colab": {
     "base_uri": "https://localhost:8080/"
    },
    "id": "P9OzXWRxygXs",
    "outputId": "02bbdca8-c869-41a6-f1c5-4f6cb63ed7b4"
   },
   "outputs": [
    {
     "name": "stdout",
     "output_type": "stream",
     "text": [
      "1\n",
      "22\n",
      "333\n",
      "4444\n",
      "5555\n",
      "5\n",
      "6666\n",
      "66\n"
     ]
    }
   ],
   "source": [
    "string = '1 22 333 4444 55555 666666'\n",
    "\n",
    "# If we want to only fetch those numbers which are in between 1,4 digits we can use range quantifiers\n",
    "\n",
    "ptrn = re.compile(r'\\d{1,4}')\n",
    "\n",
    "for i in ptrn.finditer(string):\n",
    "  print(i.group())"
   ]
  },
  {
   "cell_type": "markdown",
   "metadata": {
    "id": "jHzhDCoqzYyr"
   },
   "source": [
    "in this we can see that only 4 digits from 55555 are selected and the remaining digit is outputted seperately. we can restrict only 4 digit number by adding a \\s to search for those number which are at max 4 digits and followed by a space/tab"
   ]
  },
  {
   "cell_type": "code",
   "execution_count": 42,
   "metadata": {
    "colab": {
     "base_uri": "https://localhost:8080/"
    },
    "id": "uTxl0J3ezr4P",
    "outputId": "f50329f2-5468-4a37-b0d1-808ab4cee396"
   },
   "outputs": [
    {
     "name": "stdout",
     "output_type": "stream",
     "text": [
      "<re.Match object; span=(0, 2), match='1 '>\n",
      "<re.Match object; span=(2, 5), match='22 '>\n",
      "<re.Match object; span=(5, 9), match='333 '>\n",
      "<re.Match object; span=(9, 14), match='4444 '>\n",
      "<re.Match object; span=(15, 20), match='5555 '>\n"
     ]
    }
   ],
   "source": [
    "string = '1 22 333 4444 55555 666666'\n",
    "\n",
    "# If we want to only fetch those numbers which are in between 1,4 digits we can use range quantifiers\n",
    "\n",
    "ptrn = re.compile(r'\\d{1,4}\\s+')\n",
    "\n",
    "for i in ptrn.finditer(string):\n",
    "  print(i)"
   ]
  },
  {
   "cell_type": "markdown",
   "metadata": {
    "id": "LStZcxhJ0-pJ"
   },
   "source": [
    "Even now our problem isn't solved. it is returning a 4 digit 5555 from 5 digit 55555 by bypassing one 5 inside the string. To fix it we need to search at the beginning of the word boundary so we begin the patter seach with \\b"
   ]
  },
  {
   "cell_type": "code",
   "execution_count": 43,
   "metadata": {
    "colab": {
     "base_uri": "https://localhost:8080/"
    },
    "id": "EeToixMb1S1T",
    "outputId": "ee83b0dc-0d07-4685-f1ab-1d1925c45e5d"
   },
   "outputs": [
    {
     "name": "stdout",
     "output_type": "stream",
     "text": [
      "<re.Match object; span=(0, 2), match='1 '>\n",
      "<re.Match object; span=(2, 5), match='22 '>\n",
      "<re.Match object; span=(5, 9), match='333 '>\n",
      "<re.Match object; span=(9, 14), match='4444 '>\n"
     ]
    }
   ],
   "source": [
    "string = '1 22 333 4444 55555 666666'\n",
    "\n",
    "# If we want to only fetch those numbers which are in between 1,4 digits we can use range quantifiers\n",
    "\n",
    "ptrn = re.compile(r'\\b\\d{1,4}\\s+')\n",
    "\n",
    "for i in ptrn.finditer(string):\n",
    "  print(i)"
   ]
  },
  {
   "cell_type": "markdown",
   "metadata": {
    "id": "qFqGKA3O1VkP"
   },
   "source": [
    "Fixedit!"
   ]
  },
  {
   "cell_type": "markdown",
   "metadata": {
    "id": "2anI_4RrAzzW"
   },
   "source": [
    "Before going into shortening the REGEX used for extracting dates from the string, we shall understand the ? quantifier.\n",
    "\n",
    "It is used alongside a metacharacter/characters to fetch 0 or 1 match. Refer below cell for more explanation"
   ]
  },
  {
   "cell_type": "code",
   "execution_count": 44,
   "metadata": {
    "colab": {
     "base_uri": "https://localhost:8080/"
    },
    "id": "n8A2HCcJBY2r",
    "outputId": "07d1e493-7b04-4b30-e2d9-3d7b71873bbf"
   },
   "outputs": [
    {
     "name": "stdout",
     "output_type": "stream",
     "text": [
      "<re.Match object; span=(21, 22), match='1'>\n",
      "<re.Match object; span=(22, 23), match='2'>\n",
      "<re.Match object; span=(24, 25), match='3'>\n"
     ]
    }
   ],
   "source": [
    "string = 'Steam login kapslock_12_3'\n",
    "\n",
    "pattern = re.compile('\\d')\n",
    "match_obj = pattern.finditer(string)\n",
    "for i in match_obj:\n",
    "  print(i)"
   ]
  },
  {
   "cell_type": "markdown",
   "metadata": {
    "id": "EqPFpWLQB5TR"
   },
   "source": [
    "if we want to fetch the part after kapslock, we can use the ? quantifier to keep _ if it exist in the string or bypass it if it doesn't exist."
   ]
  },
  {
   "cell_type": "code",
   "execution_count": 45,
   "metadata": {
    "colab": {
     "base_uri": "https://localhost:8080/"
    },
    "id": "XDlkJIynCF7r",
    "outputId": "164e156d-6c36-4be6-faf6-cd0ed91d1b59"
   },
   "outputs": [
    {
     "name": "stdout",
     "output_type": "stream",
     "text": [
      "<re.Match object; span=(20, 25), match='_12_3'>\n"
     ]
    }
   ],
   "source": [
    "\n",
    "pattern = re.compile('[_?\\d]+')\n",
    "match_obj = pattern.finditer(string)\n",
    "for i in match_obj:\n",
    "  print(i)"
   ]
  },
  {
   "cell_type": "markdown",
   "metadata": {
    "id": "3ODV9S71CNPg"
   },
   "source": [
    "we can understand from this that if _ is present we include if not then we look for digit directly. putting it inside a set to fix the pattern we are looking for and using + as a quantifier to give one or more match of the pattern as a part of a single returned substring"
   ]
  },
  {
   "cell_type": "markdown",
   "metadata": {
    "id": "-xTCHbCzCjGY"
   },
   "source": [
    "Lets fix the dates now!"
   ]
  },
  {
   "cell_type": "code",
   "execution_count": 30,
   "metadata": {
    "colab": {
     "base_uri": "https://localhost:8080/"
    },
    "id": "GHNNxDnEwtgA",
    "outputId": "1a130eaa-cccf-4fef-e6ee-9e6a77ea7b37"
   },
   "outputs": [
    {
     "name": "stdout",
     "output_type": "stream",
     "text": [
      "\n",
      "02.03.2020\n",
      "\n",
      "\n",
      "2021-05-07\n",
      "2020-05-30\n",
      "\n",
      "2020.06.22\n",
      "\n",
      "2020-06-23\n",
      "2020-06-14\n",
      "2020-03-15\n",
      "2020 03 04\n",
      "2020/09/30\n",
      "\n",
      "2022_04_24\n",
      "2021_02_24\n",
      "\n"
     ]
    }
   ],
   "source": [
    "print(dates)"
   ]
  },
  {
   "cell_type": "code",
   "execution_count": 46,
   "metadata": {
    "colab": {
     "base_uri": "https://localhost:8080/"
    },
    "id": "sfrqJ88Jw_xk",
    "outputId": "82a65fde-e8ee-44fb-9ff9-147a65f2933e"
   },
   "outputs": [
    {
     "name": "stdout",
     "output_type": "stream",
     "text": [
      "<re.Match object; span=(14, 24), match='2021-05-07'>\n",
      "<re.Match object; span=(25, 35), match='2020-05-30'>\n",
      "<re.Match object; span=(37, 47), match='2020.06.22'>\n",
      "<re.Match object; span=(49, 59), match='2020-06-23'>\n",
      "<re.Match object; span=(60, 70), match='2020-06-14'>\n",
      "<re.Match object; span=(71, 81), match='2020-03-15'>\n",
      "<re.Match object; span=(82, 92), match='2020 03 04'>\n",
      "<re.Match object; span=(93, 103), match='2020/09/30'>\n",
      "<re.Match object; span=(105, 115), match='2022_04_24'>\n",
      "<re.Match object; span=(116, 126), match='2021_02_24'>\n"
     ]
    }
   ],
   "source": [
    "# lets work again with dates and make the regex cleaner\n",
    "\n",
    "ptrn = re.compile(r'\\d{4}.\\d{2}.\\d{2}')\n",
    "match_obj = ptrn.finditer(dates)\n",
    "for i in match_obj:\n",
    "  print(i)"
   ]
  },
  {
   "cell_type": "markdown",
   "metadata": {
    "id": "ugoPGDfZDACS"
   },
   "source": [
    "We can do it another way with the + quantifier as follows"
   ]
  },
  {
   "cell_type": "code",
   "execution_count": 47,
   "metadata": {
    "colab": {
     "base_uri": "https://localhost:8080/"
    },
    "id": "dpAHmUYvC5Ns",
    "outputId": "1d402aa5-8a21-4528-a150-077e469be3da"
   },
   "outputs": [
    {
     "name": "stdout",
     "output_type": "stream",
     "text": [
      "<re.Match object; span=(1, 11), match='02.03.2020'>\n",
      "<re.Match object; span=(14, 24), match='2021-05-07'>\n",
      "<re.Match object; span=(25, 35), match='2020-05-30'>\n",
      "<re.Match object; span=(37, 47), match='2020.06.22'>\n",
      "<re.Match object; span=(49, 59), match='2020-06-23'>\n",
      "<re.Match object; span=(60, 70), match='2020-06-14'>\n",
      "<re.Match object; span=(71, 81), match='2020-03-15'>\n",
      "<re.Match object; span=(82, 92), match='2020 03 04'>\n",
      "<re.Match object; span=(93, 103), match='2020/09/30'>\n",
      "<re.Match object; span=(105, 115), match='2022_04_24'>\n",
      "<re.Match object; span=(116, 126), match='2021_02_24'>\n"
     ]
    }
   ],
   "source": [
    "ptrn = re.compile(r'\\d+.\\d+.\\d+')\n",
    "match_obj = ptrn.finditer(dates)\n",
    "for i in match_obj:\n",
    "  print(i)"
   ]
  },
  {
   "cell_type": "markdown",
   "metadata": {
    "id": "27iv6CXGDM-P"
   },
   "source": [
    "with this we have also included the mm dd yyyy format of date"
   ]
  },
  {
   "cell_type": "markdown",
   "metadata": {
    "id": "5Y7sWGwEDqnK"
   },
   "source": [
    "# Logical conditions"
   ]
  },
  {
   "cell_type": "code",
   "execution_count": 48,
   "metadata": {
    "id": "ZAfSGvKzDMDq"
   },
   "outputs": [],
   "source": [
    "string = '''\n",
    "Mr said ali\n",
    "Mrs tina mukherjee\n",
    "Mr. bennet \n",
    "\n",
    "Mr. P\n",
    "\n",
    "\n",
    "\n",
    "'''"
   ]
  },
  {
   "cell_type": "code",
   "execution_count": 49,
   "metadata": {
    "colab": {
     "base_uri": "https://localhost:8080/"
    },
    "id": "v_CfM1PpMATO",
    "outputId": "7925aad4-a7ac-4de2-989b-7796c98037ed"
   },
   "outputs": [
    {
     "name": "stdout",
     "output_type": "stream",
     "text": [
      "<re.Match object; span=(1, 8), match='Mr said'>\n",
      "<re.Match object; span=(32, 42), match='Mr. bennet'>\n",
      "<re.Match object; span=(45, 50), match='Mr. P'>\n"
     ]
    }
   ],
   "source": [
    "ptrn = re.compile(r'Mr\\.?\\s\\w+')\n",
    "match_obj = ptrn.finditer(string)\n",
    "for i in match_obj:\n",
    "  print(i)"
   ]
  },
  {
   "cell_type": "markdown",
   "metadata": {
    "id": "b8UksMrnJJdb"
   },
   "source": [
    "In the above string, we can suggest a pattern to look for either Mr or Mrs followed with or without a \".\". So for this we shall use Logical conditions.\n",
    "\n",
    "To implement it we shall use the | sign."
   ]
  },
  {
   "cell_type": "code",
   "execution_count": 51,
   "metadata": {
    "colab": {
     "base_uri": "https://localhost:8080/"
    },
    "id": "t4i7_jsDJHVL",
    "outputId": "9bcd854f-88c9-4554-8117-f6324bee1ba4"
   },
   "outputs": [
    {
     "name": "stdout",
     "output_type": "stream",
     "text": [
      "<re.Match object; span=(1, 8), match='Mr said'>\n",
      "<re.Match object; span=(13, 21), match='Mrs tina'>\n",
      "<re.Match object; span=(32, 42), match='Mr. bennet'>\n",
      "<re.Match object; span=(45, 50), match='Mr. P'>\n"
     ]
    }
   ],
   "source": [
    "ptrn = re.compile(r'(Mr|Mrs)\\.?\\s\\w+')\n",
    "match_obj = ptrn.finditer(string)\n",
    "for i in match_obj:\n",
    "  print(i)"
   ]
  },
  {
   "cell_type": "markdown",
   "metadata": {
    "id": "2IWHX06lNqVd"
   },
   "source": [
    "if we look closesly, there is a \\ before using '.'. This means that we are not referring to . as a meta character but as a dot itself"
   ]
  },
  {
   "cell_type": "markdown",
   "metadata": {
    "id": "TVjX-ZltM2rO"
   },
   "source": [
    "Exercise:\n",
    "\n",
    "Explain the output below"
   ]
  },
  {
   "cell_type": "code",
   "execution_count": 52,
   "metadata": {
    "colab": {
     "base_uri": "https://localhost:8080/"
    },
    "id": "TNBaCs_CMqz_",
    "outputId": "d8cc8f24-66d7-4e55-97e6-26592b5d3bfb"
   },
   "outputs": [
    {
     "name": "stdout",
     "output_type": "stream",
     "text": [
      "<re.Match object; span=(0, 3), match='\\nMr'>\n",
      "<re.Match object; span=(3, 8), match=' said'>\n",
      "<re.Match object; span=(8, 12), match=' ali'>\n",
      "<re.Match object; span=(12, 16), match='\\nMrs'>\n",
      "<re.Match object; span=(16, 21), match=' tina'>\n",
      "<re.Match object; span=(21, 31), match=' mukherjee'>\n",
      "<re.Match object; span=(31, 34), match='\\nMr'>\n",
      "<re.Match object; span=(34, 42), match='. bennet'>\n",
      "<re.Match object; span=(44, 47), match='\\nMr'>\n",
      "<re.Match object; span=(47, 50), match='. P'>\n"
     ]
    }
   ],
   "source": [
    "ptrn = re.compile(r'(Mr|Mrs|)\\.?\\s\\w+')\n",
    "match_obj = ptrn.finditer(string)\n",
    "for i in match_obj:\n",
    "  print(i)"
   ]
  },
  {
   "cell_type": "code",
   "execution_count": 56,
   "metadata": {
    "id": "RmSSYpPOM8pZ"
   },
   "outputs": [],
   "source": [
    "courses = '''\n",
    "MSc. Big Data Science\n",
    "Masters in cs\n",
    "BA. Arts\n",
    "'''"
   ]
  },
  {
   "cell_type": "code",
   "execution_count": 65,
   "metadata": {
    "colab": {
     "base_uri": "https://localhost:8080/"
    },
    "id": "-VRZn6ZSQLWj",
    "outputId": "79f407b0-c867-4003-b480-157bea4aef17"
   },
   "outputs": [
    {
     "name": "stdout",
     "output_type": "stream",
     "text": [
      "<re.Match object; span=(1, 9), match='MSc. Big'>\n",
      "<re.Match object; span=(23, 33), match='Masters in'>\n",
      "<re.Match object; span=(37, 45), match='BA. Arts'>\n"
     ]
    }
   ],
   "source": [
    "ptrn = re.compile(r'(MSc|Masters|BA)\\.?\\s?\\s?\\w+')\n",
    "match_obj = ptrn.finditer(courses)\n",
    "for i in match_obj:\n",
    "  print(i)"
   ]
  },
  {
   "cell_type": "markdown",
   "metadata": {
    "id": "dkTvSwN7QZln"
   },
   "source": [
    "From the courses string example, we are not able to find the substring which has a connector like 'in' in the course name"
   ]
  },
  {
   "cell_type": "markdown",
   "metadata": {
    "id": "VXvocFcwQm2j"
   },
   "source": [
    "if we put in in round brackets, we can then find the match we are looking for this is called grouping. more on this in next section."
   ]
  },
  {
   "cell_type": "code",
   "execution_count": 62,
   "metadata": {
    "colab": {
     "base_uri": "https://localhost:8080/"
    },
    "id": "RWg8NSZINWMd",
    "outputId": "c352ebf7-083a-46ee-f5a6-666425969eda"
   },
   "outputs": [
    {
     "name": "stdout",
     "output_type": "stream",
     "text": [
      "<re.Match object; span=(1, 9), match='MSc. Big'>\n",
      "<re.Match object; span=(23, 36), match='Masters in cs'>\n",
      "<re.Match object; span=(37, 45), match='BA. Arts'>\n"
     ]
    }
   ],
   "source": [
    "ptrn = re.compile(r'(MSc|Masters|BA)\\.?\\s(in)?\\s?\\w+')\n",
    "match_obj = ptrn.finditer(courses)\n",
    "for i in match_obj:\n",
    "  print(i)"
   ]
  },
  {
   "cell_type": "markdown",
   "metadata": {
    "id": "7SdN_BLpQ2xk"
   },
   "source": [
    "# Grouping"
   ]
  },
  {
   "cell_type": "markdown",
   "metadata": {
    "id": "jJXVag3FRBMm"
   },
   "source": [
    "A group is a part of a regex pattern enclosed in parentheses () metacharacter. We create a group by placing the regex pattern inside the set of parentheses "
   ]
  },
  {
   "cell_type": "markdown",
   "metadata": {
    "id": "Fd8NcJwIR1-I"
   },
   "source": [
    "Lets generate some random emails and understand grouping with it."
   ]
  },
  {
   "cell_type": "code",
   "execution_count": 72,
   "metadata": {
    "id": "_WElfKF3Ngf4"
   },
   "outputs": [],
   "source": [
    "emails = []\n",
    "for i in range(10):\n",
    "  emails.append(gen.email())"
   ]
  },
  {
   "cell_type": "code",
   "execution_count": 73,
   "metadata": {
    "id": "K4ujhOoOR-7o"
   },
   "outputs": [],
   "source": [
    "string = '\\n'.join(emails)"
   ]
  },
  {
   "cell_type": "code",
   "execution_count": 75,
   "metadata": {
    "colab": {
     "base_uri": "https://localhost:8080/"
    },
    "id": "_RclznCSSNFm",
    "outputId": "373456d6-cf41-4de2-e7d7-801100b253e0"
   },
   "outputs": [
    {
     "name": "stdout",
     "output_type": "stream",
     "text": [
      "Indest@plogri.com\n",
      "of@Atly.us\n",
      "hyps@Nor.com\n",
      "Asicti.a@scallu.com\n",
      "ces@the.edu\n",
      "as@Fory.gov\n",
      "Dembe@ition645.co.uk\n",
      "slater@tortio.com\n",
      "cuivik@Mohe.ru\n",
      "postel@coment.us\n"
     ]
    }
   ],
   "source": [
    "print(string)"
   ]
  },
  {
   "cell_type": "markdown",
   "metadata": {
    "id": "XlrZ7SkRSimR"
   },
   "source": [
    "We can split the email into 3 parts. The first part which is the user_name, second part is the mail_server and finally the 3rd part contains the domain name like .com, .us etc"
   ]
  },
  {
   "cell_type": "markdown",
   "metadata": {
    "id": "rp-66YjOS5ho"
   },
   "source": [
    "for now, lets concentrate on user_name"
   ]
  },
  {
   "cell_type": "code",
   "execution_count": 77,
   "metadata": {
    "colab": {
     "base_uri": "https://localhost:8080/"
    },
    "id": "77traLATSN3l",
    "outputId": "8582debb-18be-4678-b1f0-64a01de02302"
   },
   "outputs": [
    {
     "name": "stdout",
     "output_type": "stream",
     "text": [
      "<re.Match object; span=(0, 7), match='Indest@'>\n",
      "<re.Match object; span=(18, 21), match='of@'>\n",
      "<re.Match object; span=(29, 34), match='hyps@'>\n",
      "<re.Match object; span=(49, 51), match='a@'>\n",
      "<re.Match object; span=(62, 66), match='ces@'>\n",
      "<re.Match object; span=(74, 77), match='as@'>\n",
      "<re.Match object; span=(86, 92), match='Dembe@'>\n",
      "<re.Match object; span=(107, 114), match='slater@'>\n",
      "<re.Match object; span=(125, 132), match='cuivik@'>\n",
      "<re.Match object; span=(140, 147), match='postel@'>\n"
     ]
    }
   ],
   "source": [
    "ptrn = re.compile(r'[a-zA-Z1-9]+@')\n",
    "\n",
    "match_obj = ptrn.finditer(string)\n",
    "\n",
    "for i in match_obj:\n",
    "  print(i)"
   ]
  },
  {
   "cell_type": "markdown",
   "metadata": {
    "id": "srE_e1bcTW3C"
   },
   "source": [
    "if we are only interested in the user_name, we have to exclude the @ in finding the matches. we can achieve this by grouping.\n",
    "\n",
    "every part inside a paranthesis is a part of the group. if there are multiple paranthesis we can use the group method to return the grouped data. the indexing of group starts with 1. if there are 2 groups and we want to find matches from group 1, we use group method with 1 as input."
   ]
  },
  {
   "cell_type": "markdown",
   "metadata": {
    "id": "aTUxr2u2UMrz"
   },
   "source": [
    "I have used '.' as a character in the set as shown below."
   ]
  },
  {
   "cell_type": "code",
   "execution_count": 81,
   "metadata": {
    "colab": {
     "base_uri": "https://localhost:8080/"
    },
    "id": "dmsg-lXyTQVF",
    "outputId": "31a8b841-ae6c-482b-c235-0e8f792229c3"
   },
   "outputs": [
    {
     "name": "stdout",
     "output_type": "stream",
     "text": [
      "Indest\n",
      "of\n",
      "hyps\n",
      "Asicti.a\n",
      "ces\n",
      "as\n",
      "Dembe\n",
      "slater\n",
      "cuivik\n",
      "postel\n"
     ]
    }
   ],
   "source": [
    "ptrn = re.compile(r'([a-zA-Z1-9.]+)@')\n",
    "\n",
    "match_obj = ptrn.finditer(string)\n",
    "\n",
    "for i in match_obj:\n",
    "  print(i.group(1))"
   ]
  },
  {
   "cell_type": "markdown",
   "metadata": {
    "id": "tOcjKwtOUqYY"
   },
   "source": [
    "splitting the server name and the domain name is a 2 step process. First step we find the whole match as an aggregation of servername and domain name and store it in a list."
   ]
  },
  {
   "cell_type": "code",
   "execution_count": 83,
   "metadata": {
    "colab": {
     "base_uri": "https://localhost:8080/"
    },
    "id": "xMEGBqpXTkmB",
    "outputId": "eb75e03f-f3f7-4761-9777-cd9231140245"
   },
   "outputs": [
    {
     "name": "stdout",
     "output_type": "stream",
     "text": [
      "plogri.com\n",
      "Atly.us\n",
      "Nor.com\n",
      "scallu.com\n",
      "the.edu\n",
      "Fory.gov\n",
      "ition645.co.uk\n",
      "tortio.com\n",
      "Mohe.ru\n",
      "coment.us\n"
     ]
    }
   ],
   "source": [
    "ptrn = re.compile(r'([a-zA-Z1-9.]+)@([a-zA-Z1-9.]+)')\n",
    "\n",
    "match_obj = ptrn.finditer(string)\n",
    "\n",
    "for i in match_obj:\n",
    "  print(i.group(2))"
   ]
  },
  {
   "cell_type": "code",
   "execution_count": 84,
   "metadata": {
    "id": "gyi7fIi2Umf8"
   },
   "outputs": [],
   "source": [
    "agg_list =[]\n",
    "\n",
    "ptrn = re.compile(r'([a-zA-Z1-9.]+)@([a-zA-Z1-9.]+)')\n",
    "\n",
    "match_obj = ptrn.finditer(string)\n",
    "\n",
    "for i in match_obj:\n",
    "  agg_list.append(i.group(2))"
   ]
  },
  {
   "cell_type": "code",
   "execution_count": 85,
   "metadata": {
    "colab": {
     "base_uri": "https://localhost:8080/"
    },
    "id": "DbAQbBDYVA4w",
    "outputId": "1d0fdf31-802b-4589-ecfb-d71b528223ca"
   },
   "outputs": [
    {
     "data": {
      "text/plain": [
       "['plogri.com',\n",
       " 'Atly.us',\n",
       " 'Nor.com',\n",
       " 'scallu.com',\n",
       " 'the.edu',\n",
       " 'Fory.gov',\n",
       " 'ition645.co.uk',\n",
       " 'tortio.com',\n",
       " 'Mohe.ru',\n",
       " 'coment.us']"
      ]
     },
     "execution_count": 85,
     "metadata": {},
     "output_type": "execute_result"
    }
   ],
   "source": [
    "\n",
    "agg_list"
   ]
  },
  {
   "cell_type": "markdown",
   "metadata": {
    "id": "MmhlvPFVdHJx"
   },
   "source": [
    "If we observe carefully, we can see some of the domain name contains 2 '. ' characters we can group the server name until we find 1 dot character after which the substring is a domain name"
   ]
  },
  {
   "cell_type": "markdown",
   "metadata": {
    "id": "PMCC75iLegfu"
   },
   "source": [
    "but in group 2 we need to delete the dot character, otherwise it would include the first dot out of the 2 dots.\n",
    "\n",
    "Observe example 1 and 2 to know more"
   ]
  },
  {
   "cell_type": "code",
   "execution_count": 93,
   "metadata": {
    "colab": {
     "base_uri": "https://localhost:8080/"
    },
    "id": "QwfxDxTwdE7W",
    "outputId": "791dc03a-993d-4669-a750-5967ea71ffa3"
   },
   "outputs": [
    {
     "name": "stdout",
     "output_type": "stream",
     "text": [
      "com\n",
      "us\n",
      "com\n",
      "com\n",
      "edu\n",
      "gov\n",
      "uk\n",
      "com\n",
      "ru\n",
      "us\n"
     ]
    }
   ],
   "source": [
    "# with dot in group 2\n",
    "\n",
    "agg_list =[]\n",
    "\n",
    "ptrn = re.compile(r'([a-zA-Z1-9.]+)@([a-zA-Z1-9.]+)\\.([a-zA-Z1-9.]+)')\n",
    "\n",
    "match_obj = ptrn.finditer(string)\n",
    "\n",
    "for i in match_obj:\n",
    "  # agg_list.append(i.group(2))\n",
    "  print(i.group(3))"
   ]
  },
  {
   "cell_type": "code",
   "execution_count": 96,
   "metadata": {
    "colab": {
     "base_uri": "https://localhost:8080/"
    },
    "id": "jE7eu7vldziM",
    "outputId": "31581dc8-52da-42ce-9615-3b3b6dcc43e6"
   },
   "outputs": [
    {
     "name": "stdout",
     "output_type": "stream",
     "text": [
      "com\n",
      "us\n",
      "com\n",
      "com\n",
      "edu\n",
      "gov\n",
      "co.uk\n",
      "com\n",
      "ru\n",
      "us\n"
     ]
    }
   ],
   "source": [
    "# without dot in group 2\n",
    "\n",
    "agg_list =[]\n",
    "\n",
    "ptrn = re.compile(r'([a-zA-Z1-9.]+)@([a-zA-Z1-9]+)\\.([a-zA-Z1-9.]+)')\n",
    "\n",
    "match_obj = ptrn.finditer(string)\n",
    "\n",
    "for i in match_obj:\n",
    "  # agg_list.append(i.group(2))\n",
    "  print(i.group(3))"
   ]
  },
  {
   "cell_type": "code",
   "execution_count": 98,
   "metadata": {
    "colab": {
     "base_uri": "https://localhost:8080/",
     "height": 363
    },
    "id": "BNbNGje8ezGb",
    "outputId": "3a0c1e15-8703-4425-826f-474d277e3bdd"
   },
   "outputs": [
    {
     "data": {
      "text/html": [
       "\n",
       "  <div id=\"df-fbb836a5-fbd1-40b2-bcfa-569260e88335\">\n",
       "    <div class=\"colab-df-container\">\n",
       "      <div>\n",
       "<style scoped>\n",
       "    .dataframe tbody tr th:only-of-type {\n",
       "        vertical-align: middle;\n",
       "    }\n",
       "\n",
       "    .dataframe tbody tr th {\n",
       "        vertical-align: top;\n",
       "    }\n",
       "\n",
       "    .dataframe thead th {\n",
       "        text-align: right;\n",
       "    }\n",
       "</style>\n",
       "<table border=\"1\" class=\"dataframe\">\n",
       "  <thead>\n",
       "    <tr style=\"text-align: right;\">\n",
       "      <th></th>\n",
       "      <th>User_name</th>\n",
       "      <th>Server_name</th>\n",
       "      <th>domain_name</th>\n",
       "    </tr>\n",
       "  </thead>\n",
       "  <tbody>\n",
       "    <tr>\n",
       "      <th>0</th>\n",
       "      <td>Indest</td>\n",
       "      <td>plogri</td>\n",
       "      <td>com</td>\n",
       "    </tr>\n",
       "    <tr>\n",
       "      <th>1</th>\n",
       "      <td>of</td>\n",
       "      <td>Atly</td>\n",
       "      <td>us</td>\n",
       "    </tr>\n",
       "    <tr>\n",
       "      <th>2</th>\n",
       "      <td>hyps</td>\n",
       "      <td>Nor</td>\n",
       "      <td>com</td>\n",
       "    </tr>\n",
       "    <tr>\n",
       "      <th>3</th>\n",
       "      <td>Asicti.a</td>\n",
       "      <td>scallu</td>\n",
       "      <td>com</td>\n",
       "    </tr>\n",
       "    <tr>\n",
       "      <th>4</th>\n",
       "      <td>ces</td>\n",
       "      <td>the</td>\n",
       "      <td>edu</td>\n",
       "    </tr>\n",
       "    <tr>\n",
       "      <th>5</th>\n",
       "      <td>as</td>\n",
       "      <td>Fory</td>\n",
       "      <td>gov</td>\n",
       "    </tr>\n",
       "    <tr>\n",
       "      <th>6</th>\n",
       "      <td>Dembe</td>\n",
       "      <td>ition645</td>\n",
       "      <td>co.uk</td>\n",
       "    </tr>\n",
       "    <tr>\n",
       "      <th>7</th>\n",
       "      <td>slater</td>\n",
       "      <td>tortio</td>\n",
       "      <td>com</td>\n",
       "    </tr>\n",
       "    <tr>\n",
       "      <th>8</th>\n",
       "      <td>cuivik</td>\n",
       "      <td>Mohe</td>\n",
       "      <td>ru</td>\n",
       "    </tr>\n",
       "    <tr>\n",
       "      <th>9</th>\n",
       "      <td>postel</td>\n",
       "      <td>coment</td>\n",
       "      <td>us</td>\n",
       "    </tr>\n",
       "  </tbody>\n",
       "</table>\n",
       "</div>\n",
       "      <button class=\"colab-df-convert\" onclick=\"convertToInteractive('df-fbb836a5-fbd1-40b2-bcfa-569260e88335')\"\n",
       "              title=\"Convert this dataframe to an interactive table.\"\n",
       "              style=\"display:none;\">\n",
       "        \n",
       "  <svg xmlns=\"http://www.w3.org/2000/svg\" height=\"24px\"viewBox=\"0 0 24 24\"\n",
       "       width=\"24px\">\n",
       "    <path d=\"M0 0h24v24H0V0z\" fill=\"none\"/>\n",
       "    <path d=\"M18.56 5.44l.94 2.06.94-2.06 2.06-.94-2.06-.94-.94-2.06-.94 2.06-2.06.94zm-11 1L8.5 8.5l.94-2.06 2.06-.94-2.06-.94L8.5 2.5l-.94 2.06-2.06.94zm10 10l.94 2.06.94-2.06 2.06-.94-2.06-.94-.94-2.06-.94 2.06-2.06.94z\"/><path d=\"M17.41 7.96l-1.37-1.37c-.4-.4-.92-.59-1.43-.59-.52 0-1.04.2-1.43.59L10.3 9.45l-7.72 7.72c-.78.78-.78 2.05 0 2.83L4 21.41c.39.39.9.59 1.41.59.51 0 1.02-.2 1.41-.59l7.78-7.78 2.81-2.81c.8-.78.8-2.07 0-2.86zM5.41 20L4 18.59l7.72-7.72 1.47 1.35L5.41 20z\"/>\n",
       "  </svg>\n",
       "      </button>\n",
       "      \n",
       "  <style>\n",
       "    .colab-df-container {\n",
       "      display:flex;\n",
       "      flex-wrap:wrap;\n",
       "      gap: 12px;\n",
       "    }\n",
       "\n",
       "    .colab-df-convert {\n",
       "      background-color: #E8F0FE;\n",
       "      border: none;\n",
       "      border-radius: 50%;\n",
       "      cursor: pointer;\n",
       "      display: none;\n",
       "      fill: #1967D2;\n",
       "      height: 32px;\n",
       "      padding: 0 0 0 0;\n",
       "      width: 32px;\n",
       "    }\n",
       "\n",
       "    .colab-df-convert:hover {\n",
       "      background-color: #E2EBFA;\n",
       "      box-shadow: 0px 1px 2px rgba(60, 64, 67, 0.3), 0px 1px 3px 1px rgba(60, 64, 67, 0.15);\n",
       "      fill: #174EA6;\n",
       "    }\n",
       "\n",
       "    [theme=dark] .colab-df-convert {\n",
       "      background-color: #3B4455;\n",
       "      fill: #D2E3FC;\n",
       "    }\n",
       "\n",
       "    [theme=dark] .colab-df-convert:hover {\n",
       "      background-color: #434B5C;\n",
       "      box-shadow: 0px 1px 3px 1px rgba(0, 0, 0, 0.15);\n",
       "      filter: drop-shadow(0px 1px 2px rgba(0, 0, 0, 0.3));\n",
       "      fill: #FFFFFF;\n",
       "    }\n",
       "  </style>\n",
       "\n",
       "      <script>\n",
       "        const buttonEl =\n",
       "          document.querySelector('#df-fbb836a5-fbd1-40b2-bcfa-569260e88335 button.colab-df-convert');\n",
       "        buttonEl.style.display =\n",
       "          google.colab.kernel.accessAllowed ? 'block' : 'none';\n",
       "\n",
       "        async function convertToInteractive(key) {\n",
       "          const element = document.querySelector('#df-fbb836a5-fbd1-40b2-bcfa-569260e88335');\n",
       "          const dataTable =\n",
       "            await google.colab.kernel.invokeFunction('convertToInteractive',\n",
       "                                                     [key], {});\n",
       "          if (!dataTable) return;\n",
       "\n",
       "          const docLinkHtml = 'Like what you see? Visit the ' +\n",
       "            '<a target=\"_blank\" href=https://colab.research.google.com/notebooks/data_table.ipynb>data table notebook</a>'\n",
       "            + ' to learn more about interactive tables.';\n",
       "          element.innerHTML = '';\n",
       "          dataTable['output_type'] = 'display_data';\n",
       "          await google.colab.output.renderOutput(dataTable, element);\n",
       "          const docLink = document.createElement('div');\n",
       "          docLink.innerHTML = docLinkHtml;\n",
       "          element.appendChild(docLink);\n",
       "        }\n",
       "      </script>\n",
       "    </div>\n",
       "  </div>\n",
       "  "
      ],
      "text/plain": [
       "  User_name Server_name domain_name\n",
       "0    Indest      plogri         com\n",
       "1        of        Atly          us\n",
       "2      hyps         Nor         com\n",
       "3  Asicti.a      scallu         com\n",
       "4       ces         the         edu\n",
       "5        as        Fory         gov\n",
       "6     Dembe    ition645       co.uk\n",
       "7    slater      tortio         com\n",
       "8    cuivik        Mohe          ru\n",
       "9    postel      coment          us"
      ]
     },
     "execution_count": 98,
     "metadata": {},
     "output_type": "execute_result"
    }
   ],
   "source": [
    "# without dot in group 2\n",
    "import pandas as pd\n",
    "user_name =[]\n",
    "server_name =[]\n",
    "domain_name =[]\n",
    "\n",
    "ptrn = re.compile(r'([a-zA-Z1-9.]+)@([a-zA-Z1-9]+)\\.([a-zA-Z1-9.]+)')\n",
    "\n",
    "match_obj = ptrn.finditer(string)\n",
    "\n",
    "for i in match_obj:\n",
    "  # agg_list.append(i.group(2))\n",
    "  user_name.append(i.group(1))\n",
    "  server_name.append(i.group(2))\n",
    "  domain_name.append(i.group(3))\n",
    "\n",
    "\n",
    "pd.DataFrame({'User_name':user_name,'Server_name':server_name,'domain_name':domain_name})"
   ]
  },
  {
   "cell_type": "markdown",
   "metadata": {
    "id": "RqEM3QsmhWWE"
   },
   "source": [
    "# Modifying strings"
   ]
  },
  {
   "cell_type": "code",
   "execution_count": 99,
   "metadata": {
    "id": "8NgFWu5kuoHZ"
   },
   "outputs": [],
   "source": [
    "import re\n",
    "import pandas as pd\n",
    "import numpy as np"
   ]
  },
  {
   "cell_type": "markdown",
   "metadata": {
    "id": "KJx3DtVQhh6i"
   },
   "source": [
    "1. split(): This is similar to the split function in python but instead of a delimiter like ',' or ' ' or '.' we use REGEX"
   ]
  },
  {
   "cell_type": "code",
   "execution_count": 100,
   "metadata": {
    "colab": {
     "base_uri": "https://localhost:8080/"
    },
    "id": "xN-9jRTIhhV0",
    "outputId": "bef6238e-f616-4860-e312-cffca6a66c92"
   },
   "outputs": [
    {
     "name": "stdout",
     "output_type": "stream",
     "text": [
      "['one', 'two', 'three', 'four']\n"
     ]
    }
   ],
   "source": [
    "string = 'one.two_three#four'\n",
    "\n",
    "print(re.split('[._#]', string))\n",
    "# ['one', 'two', 'three', 'four']"
   ]
  },
  {
   "cell_type": "code",
   "execution_count": 102,
   "metadata": {
    "colab": {
     "base_uri": "https://localhost:8080/"
    },
    "id": "TggwYxgs5FIe",
    "outputId": "66e89e6c-8fe5-4a96-ed5a-74cd22966c9b"
   },
   "outputs": [
    {
     "name": "stdout",
     "output_type": "stream",
     "text": [
      "['http://thing.com/seregi.html', 'http://a.jp/In/in.of-try-cons-Meclis', 'http://Johaph.edu/Nighe/nol.html', 'http://the.gov/Sch/overm/come/trin.larthe-of-thosts-clople-shey', 'http://Mexpro.org/widema/Ye/sych/to.asp', 'https://a.com/nuages.jpg', 'https://ing.co.uk/anteni/ps.lion45-Ang-fortio5859', 'https://lartia.com/Depope.asp', 'http://thers.ways.us/thes.php', 'http://ean.tv.by4781-isse-bution-Nation']\n"
     ]
    }
   ],
   "source": [
    "url = []\n",
    "\n",
    "for i in range(10):\n",
    "  url.append(gen.url())\n",
    "\n",
    "print(url)"
   ]
  },
  {
   "cell_type": "code",
   "execution_count": 103,
   "metadata": {
    "id": "_lTxUtlQ5Vc3"
   },
   "outputs": [],
   "source": [
    "string = ' \\n'.join(url)"
   ]
  },
  {
   "cell_type": "code",
   "execution_count": 105,
   "metadata": {
    "colab": {
     "base_uri": "https://localhost:8080/"
    },
    "id": "AjxhwEPt5jxo",
    "outputId": "38ac8c92-098c-4e07-a726-07978ebf86cc"
   },
   "outputs": [
    {
     "name": "stdout",
     "output_type": "stream",
     "text": [
      "http://thing.com/seregi.html \n",
      "http://a.jp/In/in.of-try-cons-Meclis \n",
      "http://Johaph.edu/Nighe/nol.html \n",
      "http://the.gov/Sch/overm/come/trin.larthe-of-thosts-clople-shey \n",
      "http://Mexpro.org/widema/Ye/sych/to.asp \n",
      "https://a.com/nuages.jpg \n",
      "https://ing.co.uk/anteni/ps.lion45-Ang-fortio5859 \n",
      "https://lartia.com/Depope.asp \n",
      "http://thers.ways.us/thes.php \n",
      "http://ean.tv.by4781-isse-bution-Nation\n"
     ]
    }
   ],
   "source": [
    "print(string)"
   ]
  },
  {
   "cell_type": "code",
   "execution_count": 119,
   "metadata": {
    "id": "Ck3RQVKoExEn"
   },
   "outputs": [],
   "source": [
    "# as we can see from the links above, it is missing www. Lets look at a way to use split method available via match object\n",
    "\n",
    "ptrn = re.compile(r'(http://|https://)')\n",
    "\n"
   ]
  },
  {
   "cell_type": "code",
   "execution_count": 144,
   "metadata": {
    "id": "hF_7zwknHpyx"
   },
   "outputs": [],
   "source": [
    "x= list(map(lambda x: 'www.'+ x ,ptrn.split(string)[1:][1::2]))"
   ]
  },
  {
   "cell_type": "code",
   "execution_count": 148,
   "metadata": {
    "id": "oh-v5XujF-N9"
   },
   "outputs": [],
   "source": [
    "string=''.join([a+b for a,b in zip(ptrn.split(string)[1:][::2],x)])"
   ]
  },
  {
   "cell_type": "code",
   "execution_count": 149,
   "metadata": {
    "colab": {
     "base_uri": "https://localhost:8080/"
    },
    "id": "-JTq26OrHR1u",
    "outputId": "74e90c27-c01c-4538-a26a-62d058d0a281"
   },
   "outputs": [
    {
     "name": "stdout",
     "output_type": "stream",
     "text": [
      "http://www.thing.com/seregi.html \n",
      "http://www.a.jp/In/in.of-try-cons-Meclis \n",
      "http://www.Johaph.edu/Nighe/nol.html \n",
      "http://www.the.gov/Sch/overm/come/trin.larthe-of-thosts-clople-shey \n",
      "http://www.Mexpro.org/widema/Ye/sych/to.asp \n",
      "https://www.a.com/nuages.jpg \n",
      "https://www.ing.co.uk/anteni/ps.lion45-Ang-fortio5859 \n",
      "https://www.lartia.com/Depope.asp \n",
      "http://www.thers.ways.us/thes.php \n",
      "http://www.ean.tv.by4781-isse-bution-Nation\n"
     ]
    }
   ],
   "source": [
    "print(string)"
   ]
  },
  {
   "cell_type": "markdown",
   "metadata": {
    "id": "oO8JLE2lLqsJ"
   },
   "source": [
    "Now we shall learn about one more essential method called as sub():\n",
    "Find all substrings where the RE matches, and replace them with a different string"
   ]
  },
  {
   "cell_type": "code",
   "execution_count": 156,
   "metadata": {
    "colab": {
     "base_uri": "https://localhost:8080/"
    },
    "id": "xl-OG-4WM4eK",
    "outputId": "9b216a6e-7585-4dd1-9376-205874cd0225"
   },
   "outputs": [
    {
     "name": "stdout",
     "output_type": "stream",
     "text": [
      "['http://bed.co.uk/us.up-is-a86-to-sheope', 'http://a.net/cal.Seas-procei-or-foreas-of-aillea-land', 'http://wity.edu/of/conts/rempli.A-havin-imaten-Bels-Humate-alarra-thersi', 'http://ome.co.uk/Cousin/Djorio/war/ths.asives-rentio2633-in', 'https://felink.fr/inguar/coper/ducies.the-an-post-vatabl', 'https://Fort.tv/of/the/intrat/fritab.aces,-med-porge', 'http://a.laste.co.uk/vicult/pronom.png', 'http://somour.us/led/Jactur.png', 'http://Rwas.edu/are.oplic-Terain-it437313', 'http://thon.60.org/ch/only/vot/Depenj.palt-lies8051-mesed-sounit']\n"
     ]
    }
   ],
   "source": [
    "url = []\n",
    "\n",
    "for i in range(10):\n",
    "  url.append(gen.url())\n",
    "\n",
    "print(url)\n",
    "\n",
    "string = ' \\n'.join(url)"
   ]
  },
  {
   "cell_type": "code",
   "execution_count": 158,
   "metadata": {
    "colab": {
     "base_uri": "https://localhost:8080/"
    },
    "id": "EofdfN-sNAU3",
    "outputId": "5c2f0a1c-f955-47ee-f971-ffb62e57ec4d"
   },
   "outputs": [
    {
     "name": "stdout",
     "output_type": "stream",
     "text": [
      "http://bed.co.uk/us.up-is-a86-to-sheope \n",
      "http://a.net/cal.Seas-procei-or-foreas-of-aillea-land \n",
      "http://wity.edu/of/conts/rempli.A-havin-imaten-Bels-Humate-alarra-thersi \n",
      "http://ome.co.uk/Cousin/Djorio/war/ths.asives-rentio2633-in \n",
      "https://felink.fr/inguar/coper/ducies.the-an-post-vatabl \n",
      "https://Fort.tv/of/the/intrat/fritab.aces,-med-porge \n",
      "http://a.laste.co.uk/vicult/pronom.png \n",
      "http://somour.us/led/Jactur.png \n",
      "http://Rwas.edu/are.oplic-Terain-it437313 \n",
      "http://thon.60.org/ch/only/vot/Depenj.palt-lies8051-mesed-sounit\n"
     ]
    }
   ],
   "source": [
    "# Before implementing the actual bit, we need to understand what is backreference. \n",
    "# When we group expressions with paranthesis, we can use the mathes by these groups using backreference\n",
    "print(string)"
   ]
  },
  {
   "cell_type": "code",
   "execution_count": 161,
   "metadata": {
    "colab": {
     "base_uri": "https://localhost:8080/"
    },
    "id": "sBRTyQpdNqWW",
    "outputId": "54ca0624-8838-43b5-b109-5d3d01fea694"
   },
   "outputs": [
    {
     "name": "stdout",
     "output_type": "stream",
     "text": [
      "bed.co.uk/us.up-is-a86-to-sheope \n",
      "a.net/cal.Seas-procei-or-foreas-of-aillea-land \n",
      "wity.edu/of/conts/rempli.A-havin-imaten-Bels-Humate-alarra-thersi \n",
      "ome.co.uk/Cousin/Djorio/war/ths.asives-rentio2633-in \n",
      "felink.fr/inguar/coper/ducies.the-an-post-vatabl \n",
      "Fort.tv/of/the/intrat/fritab.aces,-med-porge \n",
      "a.laste.co.uk/vicult/pronom.png \n",
      "somour.us/led/Jactur.png \n",
      "Rwas.edu/are.oplic-Terain-it437313 \n",
      "thon.60.org/ch/only/vot/Depenj.palt-lies8051-mesed-sounit\n"
     ]
    }
   ],
   "source": [
    "ptrn = re.compile(r'(http://|https://)(.+)')\n",
    "\n",
    "#                        group 1     group 2\n",
    "\n",
    "match_obj = ptrn.finditer(string)\n",
    "for i in match_obj:\n",
    "  print(i.group(2))"
   ]
  },
  {
   "cell_type": "code",
   "execution_count": 163,
   "metadata": {
    "colab": {
     "base_uri": "https://localhost:8080/"
    },
    "id": "Mwkr2w-8OFbY",
    "outputId": "c503e3d4-eb37-45f7-fa72-603a307bbce2"
   },
   "outputs": [
    {
     "name": "stdout",
     "output_type": "stream",
     "text": [
      "http://www.bed.co.uk/us.up-is-a86-to-sheope \n",
      "http://www.a.net/cal.Seas-procei-or-foreas-of-aillea-land \n",
      "http://www.wity.edu/of/conts/rempli.A-havin-imaten-Bels-Humate-alarra-thersi \n",
      "http://www.ome.co.uk/Cousin/Djorio/war/ths.asives-rentio2633-in \n",
      "https://www.felink.fr/inguar/coper/ducies.the-an-post-vatabl \n",
      "https://www.Fort.tv/of/the/intrat/fritab.aces,-med-porge \n",
      "http://www.a.laste.co.uk/vicult/pronom.png \n",
      "http://www.somour.us/led/Jactur.png \n",
      "http://www.Rwas.edu/are.oplic-Terain-it437313 \n",
      "http://www.thon.60.org/ch/only/vot/Depenj.palt-lies8051-mesed-sounit\n"
     ]
    }
   ],
   "source": [
    "print(ptrn.sub(r'\\1www.\\2',string))"
   ]
  },
  {
   "cell_type": "markdown",
   "metadata": {
    "id": "D0uMMmhdOX9c"
   },
   "source": [
    "#Using the sentences generated and stored in the txt file"
   ]
  },
  {
   "cell_type": "code",
   "execution_count": 164,
   "metadata": {
    "id": "hgUyWC83OehI"
   },
   "outputs": [],
   "source": [
    "\n",
    "with open('Test.txt','r') as f:\n",
    "  sentences = f.readlines()"
   ]
  },
  {
   "cell_type": "code",
   "execution_count": 165,
   "metadata": {
    "colab": {
     "base_uri": "https://localhost:8080/"
    },
    "id": "LJoI3Wr9Oo0F",
    "outputId": "a7264240-91bd-4fd9-b857-41d002c77fa5"
   },
   "outputs": [
    {
     "data": {
      "text/plain": [
       "['Hi my name is Miracle and my Employee SSN number is 188Ad\\n',\n",
       " 'Hi my name is Flavio and my Employee SSN number is 173Ad\\n',\n",
       " 'Hi my name is Joseph and my Employee SSN number is 125MKT\\n',\n",
       " 'Hi my name is Joseph and my Employee SSN number is 179MKT\\n',\n",
       " 'Hi my name is Flavio and my Employee SSN number is 108Ad\\n',\n",
       " 'Hi my name is Tish and my Employee SSN number is 136Ad\\n',\n",
       " 'Hi my name is Flavio and my Employee SSN number is 144Sls\\n',\n",
       " 'Hi my name is Joseph and my Employee SSN number is 163IT\\n',\n",
       " 'Hi my name is Danielle and my Employee SSN number is 180Ad\\n',\n",
       " 'Hi my name is Tish and my Employee SSN number is 147Ad\\n']"
      ]
     },
     "execution_count": 165,
     "metadata": {},
     "output_type": "execute_result"
    }
   ],
   "source": [
    "sentences"
   ]
  },
  {
   "cell_type": "code",
   "execution_count": 166,
   "metadata": {
    "id": "6BhoRtJ2OplC"
   },
   "outputs": [],
   "source": [
    "string = ''.join(sentences)"
   ]
  },
  {
   "cell_type": "code",
   "execution_count": 179,
   "metadata": {
    "id": "pmNwyoJePPLr"
   },
   "outputs": [],
   "source": [
    "ptrn = re.compile(r'Hi my name is (\\w+) and my Employee SSN number is (\\d+)(\\w+)')\n",
    "match_obj = ptrn.finditer(string)\n",
    "name =[]\n",
    "id = []\n",
    "department = []\n",
    "for i in match_obj:\n",
    "  name.append(i.group(1))\n",
    "  id.append(i.group(2))\n",
    "  department.append(i.group(3))\n",
    "\n",
    "df = pd.DataFrame({'Name':name,'Identity_NO':id,'Department':department})\n",
    "\n",
    "\n",
    "df['Department'] = df['Department'].map({'Ad':'Admin', 'MKT':'Marketing','Sls':'Sales', 'IT' : 'Information Technology'})"
   ]
  },
  {
   "cell_type": "code",
   "execution_count": 180,
   "metadata": {
    "colab": {
     "base_uri": "https://localhost:8080/",
     "height": 363
    },
    "id": "StgfnfLfQXtb",
    "outputId": "f4907424-1eda-4634-dfb9-d501dd554cce"
   },
   "outputs": [
    {
     "data": {
      "text/html": [
       "\n",
       "  <div id=\"df-9b5178db-27ce-441a-8350-bb2b38826b25\">\n",
       "    <div class=\"colab-df-container\">\n",
       "      <div>\n",
       "<style scoped>\n",
       "    .dataframe tbody tr th:only-of-type {\n",
       "        vertical-align: middle;\n",
       "    }\n",
       "\n",
       "    .dataframe tbody tr th {\n",
       "        vertical-align: top;\n",
       "    }\n",
       "\n",
       "    .dataframe thead th {\n",
       "        text-align: right;\n",
       "    }\n",
       "</style>\n",
       "<table border=\"1\" class=\"dataframe\">\n",
       "  <thead>\n",
       "    <tr style=\"text-align: right;\">\n",
       "      <th></th>\n",
       "      <th>Name</th>\n",
       "      <th>Identity_NO</th>\n",
       "      <th>Department</th>\n",
       "    </tr>\n",
       "  </thead>\n",
       "  <tbody>\n",
       "    <tr>\n",
       "      <th>0</th>\n",
       "      <td>Miracle</td>\n",
       "      <td>188</td>\n",
       "      <td>Admin</td>\n",
       "    </tr>\n",
       "    <tr>\n",
       "      <th>1</th>\n",
       "      <td>Flavio</td>\n",
       "      <td>173</td>\n",
       "      <td>Admin</td>\n",
       "    </tr>\n",
       "    <tr>\n",
       "      <th>2</th>\n",
       "      <td>Joseph</td>\n",
       "      <td>125</td>\n",
       "      <td>Marketing</td>\n",
       "    </tr>\n",
       "    <tr>\n",
       "      <th>3</th>\n",
       "      <td>Joseph</td>\n",
       "      <td>179</td>\n",
       "      <td>Marketing</td>\n",
       "    </tr>\n",
       "    <tr>\n",
       "      <th>4</th>\n",
       "      <td>Flavio</td>\n",
       "      <td>108</td>\n",
       "      <td>Admin</td>\n",
       "    </tr>\n",
       "    <tr>\n",
       "      <th>5</th>\n",
       "      <td>Tish</td>\n",
       "      <td>136</td>\n",
       "      <td>Admin</td>\n",
       "    </tr>\n",
       "    <tr>\n",
       "      <th>6</th>\n",
       "      <td>Flavio</td>\n",
       "      <td>144</td>\n",
       "      <td>Sales</td>\n",
       "    </tr>\n",
       "    <tr>\n",
       "      <th>7</th>\n",
       "      <td>Joseph</td>\n",
       "      <td>163</td>\n",
       "      <td>Information Technology</td>\n",
       "    </tr>\n",
       "    <tr>\n",
       "      <th>8</th>\n",
       "      <td>Danielle</td>\n",
       "      <td>180</td>\n",
       "      <td>Admin</td>\n",
       "    </tr>\n",
       "    <tr>\n",
       "      <th>9</th>\n",
       "      <td>Tish</td>\n",
       "      <td>147</td>\n",
       "      <td>Admin</td>\n",
       "    </tr>\n",
       "  </tbody>\n",
       "</table>\n",
       "</div>\n",
       "      <button class=\"colab-df-convert\" onclick=\"convertToInteractive('df-9b5178db-27ce-441a-8350-bb2b38826b25')\"\n",
       "              title=\"Convert this dataframe to an interactive table.\"\n",
       "              style=\"display:none;\">\n",
       "        \n",
       "  <svg xmlns=\"http://www.w3.org/2000/svg\" height=\"24px\"viewBox=\"0 0 24 24\"\n",
       "       width=\"24px\">\n",
       "    <path d=\"M0 0h24v24H0V0z\" fill=\"none\"/>\n",
       "    <path d=\"M18.56 5.44l.94 2.06.94-2.06 2.06-.94-2.06-.94-.94-2.06-.94 2.06-2.06.94zm-11 1L8.5 8.5l.94-2.06 2.06-.94-2.06-.94L8.5 2.5l-.94 2.06-2.06.94zm10 10l.94 2.06.94-2.06 2.06-.94-2.06-.94-.94-2.06-.94 2.06-2.06.94z\"/><path d=\"M17.41 7.96l-1.37-1.37c-.4-.4-.92-.59-1.43-.59-.52 0-1.04.2-1.43.59L10.3 9.45l-7.72 7.72c-.78.78-.78 2.05 0 2.83L4 21.41c.39.39.9.59 1.41.59.51 0 1.02-.2 1.41-.59l7.78-7.78 2.81-2.81c.8-.78.8-2.07 0-2.86zM5.41 20L4 18.59l7.72-7.72 1.47 1.35L5.41 20z\"/>\n",
       "  </svg>\n",
       "      </button>\n",
       "      \n",
       "  <style>\n",
       "    .colab-df-container {\n",
       "      display:flex;\n",
       "      flex-wrap:wrap;\n",
       "      gap: 12px;\n",
       "    }\n",
       "\n",
       "    .colab-df-convert {\n",
       "      background-color: #E8F0FE;\n",
       "      border: none;\n",
       "      border-radius: 50%;\n",
       "      cursor: pointer;\n",
       "      display: none;\n",
       "      fill: #1967D2;\n",
       "      height: 32px;\n",
       "      padding: 0 0 0 0;\n",
       "      width: 32px;\n",
       "    }\n",
       "\n",
       "    .colab-df-convert:hover {\n",
       "      background-color: #E2EBFA;\n",
       "      box-shadow: 0px 1px 2px rgba(60, 64, 67, 0.3), 0px 1px 3px 1px rgba(60, 64, 67, 0.15);\n",
       "      fill: #174EA6;\n",
       "    }\n",
       "\n",
       "    [theme=dark] .colab-df-convert {\n",
       "      background-color: #3B4455;\n",
       "      fill: #D2E3FC;\n",
       "    }\n",
       "\n",
       "    [theme=dark] .colab-df-convert:hover {\n",
       "      background-color: #434B5C;\n",
       "      box-shadow: 0px 1px 3px 1px rgba(0, 0, 0, 0.15);\n",
       "      filter: drop-shadow(0px 1px 2px rgba(0, 0, 0, 0.3));\n",
       "      fill: #FFFFFF;\n",
       "    }\n",
       "  </style>\n",
       "\n",
       "      <script>\n",
       "        const buttonEl =\n",
       "          document.querySelector('#df-9b5178db-27ce-441a-8350-bb2b38826b25 button.colab-df-convert');\n",
       "        buttonEl.style.display =\n",
       "          google.colab.kernel.accessAllowed ? 'block' : 'none';\n",
       "\n",
       "        async function convertToInteractive(key) {\n",
       "          const element = document.querySelector('#df-9b5178db-27ce-441a-8350-bb2b38826b25');\n",
       "          const dataTable =\n",
       "            await google.colab.kernel.invokeFunction('convertToInteractive',\n",
       "                                                     [key], {});\n",
       "          if (!dataTable) return;\n",
       "\n",
       "          const docLinkHtml = 'Like what you see? Visit the ' +\n",
       "            '<a target=\"_blank\" href=https://colab.research.google.com/notebooks/data_table.ipynb>data table notebook</a>'\n",
       "            + ' to learn more about interactive tables.';\n",
       "          element.innerHTML = '';\n",
       "          dataTable['output_type'] = 'display_data';\n",
       "          await google.colab.output.renderOutput(dataTable, element);\n",
       "          const docLink = document.createElement('div');\n",
       "          docLink.innerHTML = docLinkHtml;\n",
       "          element.appendChild(docLink);\n",
       "        }\n",
       "      </script>\n",
       "    </div>\n",
       "  </div>\n",
       "  "
      ],
      "text/plain": [
       "       Name Identity_NO              Department\n",
       "0   Miracle         188                   Admin\n",
       "1    Flavio         173                   Admin\n",
       "2    Joseph         125               Marketing\n",
       "3    Joseph         179               Marketing\n",
       "4    Flavio         108                   Admin\n",
       "5      Tish         136                   Admin\n",
       "6    Flavio         144                   Sales\n",
       "7    Joseph         163  Information Technology\n",
       "8  Danielle         180                   Admin\n",
       "9      Tish         147                   Admin"
      ]
     },
     "execution_count": 180,
     "metadata": {},
     "output_type": "execute_result"
    }
   ],
   "source": [
    "df"
   ]
  },
  {
   "cell_type": "code",
   "execution_count": null,
   "metadata": {
    "id": "ReQrhMh-RopJ"
   },
   "outputs": [],
   "source": []
  }
 ],
 "metadata": {
  "colab": {
   "collapsed_sections": [],
   "provenance": []
  },
  "kernelspec": {
   "display_name": "Python 3 (ipykernel)",
   "language": "python",
   "name": "python3"
  },
  "language_info": {
   "codemirror_mode": {
    "name": "ipython",
    "version": 3
   },
   "file_extension": ".py",
   "mimetype": "text/x-python",
   "name": "python",
   "nbconvert_exporter": "python",
   "pygments_lexer": "ipython3",
   "version": "3.11.3"
  }
 },
 "nbformat": 4,
 "nbformat_minor": 1
}
