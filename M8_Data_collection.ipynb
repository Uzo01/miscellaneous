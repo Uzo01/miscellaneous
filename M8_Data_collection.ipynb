{
 "cells": [
  {
   "cell_type": "markdown",
   "metadata": {
    "id": "1YWEM9Z9X8hf"
   },
   "source": [
    "# What is an API?\n",
    "\n",
    "Application Programming Interface, or API, is a software bridge that enables communication between two applications. You utilise an API every time you use a mobile app like Facebook, send an instant message, or check the weather."
   ]
  },
  {
   "cell_type": "markdown",
   "metadata": {
    "id": "neyw6TIUYZjC"
   },
   "source": [
    "1. Facebook API\n",
    "An interface to a substantial amount of data generated every day is provided via Facebook API. Massive amounts of data are produced by the countless posts, comments, and shares in different groups and sites. Additionally, the vast amount of publicly available data offers numerous chances for studying the crowd.\n",
    "\n",
    "    Additionally, it is exceedingly straightforward to extract data using R and Python with the Facebook Graph API.\n",
    "\n",
    "2. Google Map API\n",
    "\n",
    "    One of the often utilised APIs is the Google Map API. Its uses range from inclusion in a cab service application to the well-known Pokemon Go.\n",
    "\n",
    "    You can get access to all the data, including route information, route distances, and geographical coordinates. The best thing is that you can incorporate the distance feature into your datasets by using this API as well.\n",
    "\n"
   ]
  },
  {
   "cell_type": "markdown",
   "metadata": {
    "id": "A_JU45IHY9S2"
   },
   "source": [
    "# Python Requests module"
   ]
  },
  {
   "cell_type": "code",
   "execution_count": null,
   "metadata": {
    "id": "yIirf3Ah1FgJ"
   },
   "outputs": [],
   "source": [
    "import time\n",
    "from random import uniform"
   ]
  },
  {
   "cell_type": "markdown",
   "metadata": {
    "id": "x9tKyEUvZAog"
   },
   "source": [
    "Requests is a HTTP library for the Python programming language. The goal of the project is to make HTTP requests simpler and more human-friendly.\n",
    "\n"
   ]
  },
  {
   "cell_type": "markdown",
   "metadata": {
    "id": "tTNgcTH0pMUG"
   },
   "source": [
    "## Important Features of request module\n",
    "\n",
    "1. Request\n",
    "\n",
    "    Http request handling is made simple with the help of the Python requests package. It is simple to pass parameters and handle different request types, such as GET, POST, PUT, DELETE, etc.\n",
    "2. Response\n",
    "   \n",
    "   after sending a request we receive a response which can be parsed as text format, binary, json, raw response\n",
    "3. Headers\n",
    "\n",
    "    Update, send or read headers as per requirement\n",
    "4. Authentication\n",
    "\n",
    "    When a client requests a URL, the server requires certain authentication information such as a username and password. This adds another layer of protection to the request and answer being communicated between the client and the server."
   ]
  },
  {
   "cell_type": "code",
   "execution_count": 1,
   "metadata": {
    "colab": {
     "base_uri": "https://localhost:8080/"
    },
    "id": "3pWApKOeXLKh",
    "outputId": "226b0773-85c6-4aec-bdd1-c7f6288dd7f2"
   },
   "outputs": [
    {
     "name": "stdout",
     "output_type": "stream",
     "text": [
      "Requirement already satisfied: requests in c:\\users\\emmanuel\\anaconda3\\lib\\site-packages (2.29.0)\n",
      "Requirement already satisfied: charset-normalizer<4,>=2 in c:\\users\\emmanuel\\anaconda3\\lib\\site-packages (from requests) (2.0.4)\n",
      "Requirement already satisfied: idna<4,>=2.5 in c:\\users\\emmanuel\\anaconda3\\lib\\site-packages (from requests) (3.4)\n",
      "Requirement already satisfied: urllib3<1.27,>=1.21.1 in c:\\users\\emmanuel\\anaconda3\\lib\\site-packages (from requests) (1.26.16)\n",
      "Requirement already satisfied: certifi>=2017.4.17 in c:\\users\\emmanuel\\anaconda3\\lib\\site-packages (from requests) (2023.5.7)\n"
     ]
    }
   ],
   "source": [
    "!pip install requests"
   ]
  },
  {
   "cell_type": "markdown",
   "metadata": {
    "id": "fJGrvNRHvU0g"
   },
   "source": [
    "We shall understand http requests with jsonplaceholder:\n",
    "\n",
    "JSONPlaceholder is a free online REST API that you can use whenever you need some fake data. It can be in a README on GitHub, for a demo on CodeSandbox, in code examples on Stack Overflow, ...or simply to test things locally."
   ]
  },
  {
   "cell_type": "markdown",
   "metadata": {
    "id": "b-HYin6Iv3Mu"
   },
   "source": [
    "Different types of HTTP requests\n",
    "\n",
    "1. GET\n",
    "\n",
    "    GET is used to retrieve and request data from a specified resource in a server. GET is one of the most popular HTTP request techniques. In simple words, the GET method is used to retrieve whatever information is identified by the Request-URL.\n",
    "\n",
    "2. POST\n",
    "\n",
    "    Another popular HTTP request method is POST. In web communication, POST requests are utilized to send data to a server to create or update a resource.  The information submitted to the server with POST request method is archived in the request body of the HTTP request. The HTTP POST method is often used to send user-generated data to a server. One example is when a user uploads a profile photo.\n",
    "\n",
    "3. PUT\n",
    "\n",
    "    PUT is similar to POST as it is used to send data to the server to create or update a resource. The difference between the two is that PUT requests are idempotent. This means that if you call the same PUT requests multiple times, the results will always be the same.\n",
    "\n",
    "4. DELETE\n",
    "\n",
    "    Just as it sounds, the DELETE request method is used to delete resources indicated by a specific URL. Making a DELETE request will remove the targeted resource.\n",
    "\n",
    "5. PATCH\n",
    "\n",
    "    A PATCH request is similar to POST and PUT. However, its primary purpose is to apply partial modifications to the resource. And just like a POST request, the PATCH request is also non-idempotent. Additionally, unlike POST and PUT which require a full user entity, with PATCH requests, you may only send the updated username.\n",
    "\n",
    "Go to this website to learn more:\n",
    "\n",
    "https://rapidapi.com/blog/api-glossary/http-request-methods/\n"
   ]
  },
  {
   "cell_type": "markdown",
   "metadata": {
    "id": "wXpsMP2nCaxg"
   },
   "source": [
    "Lets dive into how to use the requests module in python"
   ]
  },
  {
   "cell_type": "markdown",
   "metadata": {
    "id": "kCYxSue3Ce2E"
   },
   "source": [
    "#REQUESTS"
   ]
  },
  {
   "cell_type": "code",
   "execution_count": null,
   "metadata": {
    "id": "Mp0nG0GhvMu_"
   },
   "outputs": [],
   "source": [
    "import requests"
   ]
  },
  {
   "cell_type": "markdown",
   "metadata": {
    "id": "OJfkRZK6NA8P"
   },
   "source": [
    "Lets fetch some user information from the /users endpoint available at jsonplaceholder url."
   ]
  },
  {
   "cell_type": "markdown",
   "metadata": {
    "id": "1hs7tpu7M9bc"
   },
   "source": [
    "https://jsonplaceholder.typicode.com/users\n",
    "\n"
   ]
  },
  {
   "cell_type": "markdown",
   "metadata": {
    "id": "x_QyLgbYNMHX"
   },
   "source": [
    "The get requests needs payload passed to the params argument. payload is nothing but unique identifiers to filter the results. Remember payload is just a variable name you can always rename it to data or some other variable name."
   ]
  },
  {
   "cell_type": "markdown",
   "metadata": {
    "id": "3MsS5uzlQu4d"
   },
   "source": [
    "#GET"
   ]
  },
  {
   "cell_type": "markdown",
   "metadata": {
    "id": "NdONAu7NzAjy"
   },
   "source": [
    "### Using `requests.get()` with JSONPlaceholder\n",
    "\n",
    "When working with [JSONPlaceholder](https://jsonplaceholder.typicode.com/), a free fake online REST API, we commonly use the `requests.get()` function in Python's `requests` library to fetch data. Here's how you can utilize some of its parameters:\n",
    "\n",
    "1. **`url` (mandatory)**:\n",
    "    - The endpoint URL for JSONPlaceholder.\n",
    "    - Example: To fetch a single post:\n",
    "    ```python\n",
    "    url = \"https://jsonplaceholder.typicode.com/posts/1\"\n",
    "    response = requests.get(url)\n",
    "    ```\n",
    "\n",
    "2. **`params`**:\n",
    "    - Dictionary for query string parameters.\n",
    "    - Example: To fetch comments for a specific post:\n",
    "    ```python\n",
    "    params = {'postId': 1}\n",
    "    response = requests.get(\"https://jsonplaceholder.typicode.com/comments\", params=params)\n",
    "    ```\n",
    "\n",
    "3. **`headers`**:\n",
    "    - Dictionary of HTTP headers. JSONPlaceholder doesn't require custom headers for basic operations, but it's useful to know for other APIs.\n",
    "    - Example: To set a custom `User-Agent` header:\n",
    "    ```python\n",
    "    headers = {'User-Agent': 'MyApp/1.0'}\n",
    "    response = requests.get(\"https://jsonplaceholder.typicode.com/posts\", headers=headers)\n",
    "    ```\n",
    "\n",
    "4. **`timeout`**:\n",
    "    - How long (in seconds) to wait for a response. Useful if you don't want to wait indefinitely for a server that might not respond.\n",
    "    - Example:\n",
    "    ```python\n",
    "    response = requests.get(\"https://jsonplaceholder.typicode.com/posts\", timeout=5)\n",
    "    ```\n",
    "\n",
    "Use the above methods to easily fetch and work with data from JSONPlaceholder in your projects.\n"
   ]
  },
  {
   "cell_type": "code",
   "execution_count": 1,
   "metadata": {
    "id": "ZSzMgA2vCpDo"
   },
   "outputs": [
    {
     "ename": "NameError",
     "evalue": "name 'requests' is not defined",
     "output_type": "error",
     "traceback": [
      "\u001b[1;31m---------------------------------------------------------------------------\u001b[0m",
      "\u001b[1;31mNameError\u001b[0m                                 Traceback (most recent call last)",
      "Cell \u001b[1;32mIn[1], line 3\u001b[0m\n\u001b[0;32m      1\u001b[0m payload \u001b[38;5;241m=\u001b[39m {}\n\u001b[0;32m      2\u001b[0m base \u001b[38;5;241m=\u001b[39m \u001b[38;5;124m'\u001b[39m\u001b[38;5;124mhttps://jsonplaceholder.typicode.com\u001b[39m\u001b[38;5;124m'\u001b[39m\n\u001b[1;32m----> 3\u001b[0m response \u001b[38;5;241m=\u001b[39m requests\u001b[38;5;241m.\u001b[39mget(base \u001b[38;5;241m+\u001b[39m \u001b[38;5;124m'\u001b[39m\u001b[38;5;124m/users\u001b[39m\u001b[38;5;124m'\u001b[39m,params \u001b[38;5;241m=\u001b[39m payload)\n",
      "\u001b[1;31mNameError\u001b[0m: name 'requests' is not defined"
     ]
    }
   ],
   "source": [
    "payload = {}\n",
    "base = 'https://jsonplaceholder.typicode.com'\n",
    "response = requests.get(base + '/users',params = payload)"
   ]
  },
  {
   "cell_type": "code",
   "execution_count": null,
   "metadata": {
    "colab": {
     "base_uri": "https://localhost:8080/"
    },
    "id": "-0g_etpTEWu4",
    "outputId": "c0360e70-af4d-4e70-cc79-c7adc3492f68"
   },
   "outputs": [
    {
     "data": {
      "text/plain": [
       "[{'id': 1,\n",
       "  'name': 'Leanne Graham',\n",
       "  'username': 'Bret',\n",
       "  'email': 'Sincere@april.biz',\n",
       "  'address': {'street': 'Kulas Light',\n",
       "   'suite': 'Apt. 556',\n",
       "   'city': 'Gwenborough',\n",
       "   'zipcode': '92998-3874',\n",
       "   'geo': {'lat': '-37.3159', 'lng': '81.1496'}},\n",
       "  'phone': '1-770-736-8031 x56442',\n",
       "  'website': 'hildegard.org',\n",
       "  'company': {'name': 'Romaguera-Crona',\n",
       "   'catchPhrase': 'Multi-layered client-server neural-net',\n",
       "   'bs': 'harness real-time e-markets'}},\n",
       " {'id': 2,\n",
       "  'name': 'Ervin Howell',\n",
       "  'username': 'Antonette',\n",
       "  'email': 'Shanna@melissa.tv',\n",
       "  'address': {'street': 'Victor Plains',\n",
       "   'suite': 'Suite 879',\n",
       "   'city': 'Wisokyburgh',\n",
       "   'zipcode': '90566-7771',\n",
       "   'geo': {'lat': '-43.9509', 'lng': '-34.4618'}},\n",
       "  'phone': '010-692-6593 x09125',\n",
       "  'website': 'anastasia.net',\n",
       "  'company': {'name': 'Deckow-Crist',\n",
       "   'catchPhrase': 'Proactive didactic contingency',\n",
       "   'bs': 'synergize scalable supply-chains'}},\n",
       " {'id': 3,\n",
       "  'name': 'Clementine Bauch',\n",
       "  'username': 'Samantha',\n",
       "  'email': 'Nathan@yesenia.net',\n",
       "  'address': {'street': 'Douglas Extension',\n",
       "   'suite': 'Suite 847',\n",
       "   'city': 'McKenziehaven',\n",
       "   'zipcode': '59590-4157',\n",
       "   'geo': {'lat': '-68.6102', 'lng': '-47.0653'}},\n",
       "  'phone': '1-463-123-4447',\n",
       "  'website': 'ramiro.info',\n",
       "  'company': {'name': 'Romaguera-Jacobson',\n",
       "   'catchPhrase': 'Face to face bifurcated interface',\n",
       "   'bs': 'e-enable strategic applications'}},\n",
       " {'id': 4,\n",
       "  'name': 'Patricia Lebsack',\n",
       "  'username': 'Karianne',\n",
       "  'email': 'Julianne.OConner@kory.org',\n",
       "  'address': {'street': 'Hoeger Mall',\n",
       "   'suite': 'Apt. 692',\n",
       "   'city': 'South Elvis',\n",
       "   'zipcode': '53919-4257',\n",
       "   'geo': {'lat': '29.4572', 'lng': '-164.2990'}},\n",
       "  'phone': '493-170-9623 x156',\n",
       "  'website': 'kale.biz',\n",
       "  'company': {'name': 'Robel-Corkery',\n",
       "   'catchPhrase': 'Multi-tiered zero tolerance productivity',\n",
       "   'bs': 'transition cutting-edge web services'}},\n",
       " {'id': 5,\n",
       "  'name': 'Chelsey Dietrich',\n",
       "  'username': 'Kamren',\n",
       "  'email': 'Lucio_Hettinger@annie.ca',\n",
       "  'address': {'street': 'Skiles Walks',\n",
       "   'suite': 'Suite 351',\n",
       "   'city': 'Roscoeview',\n",
       "   'zipcode': '33263',\n",
       "   'geo': {'lat': '-31.8129', 'lng': '62.5342'}},\n",
       "  'phone': '(254)954-1289',\n",
       "  'website': 'demarco.info',\n",
       "  'company': {'name': 'Keebler LLC',\n",
       "   'catchPhrase': 'User-centric fault-tolerant solution',\n",
       "   'bs': 'revolutionize end-to-end systems'}},\n",
       " {'id': 6,\n",
       "  'name': 'Mrs. Dennis Schulist',\n",
       "  'username': 'Leopoldo_Corkery',\n",
       "  'email': 'Karley_Dach@jasper.info',\n",
       "  'address': {'street': 'Norberto Crossing',\n",
       "   'suite': 'Apt. 950',\n",
       "   'city': 'South Christy',\n",
       "   'zipcode': '23505-1337',\n",
       "   'geo': {'lat': '-71.4197', 'lng': '71.7478'}},\n",
       "  'phone': '1-477-935-8478 x6430',\n",
       "  'website': 'ola.org',\n",
       "  'company': {'name': 'Considine-Lockman',\n",
       "   'catchPhrase': 'Synchronised bottom-line interface',\n",
       "   'bs': 'e-enable innovative applications'}},\n",
       " {'id': 7,\n",
       "  'name': 'Kurtis Weissnat',\n",
       "  'username': 'Elwyn.Skiles',\n",
       "  'email': 'Telly.Hoeger@billy.biz',\n",
       "  'address': {'street': 'Rex Trail',\n",
       "   'suite': 'Suite 280',\n",
       "   'city': 'Howemouth',\n",
       "   'zipcode': '58804-1099',\n",
       "   'geo': {'lat': '24.8918', 'lng': '21.8984'}},\n",
       "  'phone': '210.067.6132',\n",
       "  'website': 'elvis.io',\n",
       "  'company': {'name': 'Johns Group',\n",
       "   'catchPhrase': 'Configurable multimedia task-force',\n",
       "   'bs': 'generate enterprise e-tailers'}},\n",
       " {'id': 8,\n",
       "  'name': 'Nicholas Runolfsdottir V',\n",
       "  'username': 'Maxime_Nienow',\n",
       "  'email': 'Sherwood@rosamond.me',\n",
       "  'address': {'street': 'Ellsworth Summit',\n",
       "   'suite': 'Suite 729',\n",
       "   'city': 'Aliyaview',\n",
       "   'zipcode': '45169',\n",
       "   'geo': {'lat': '-14.3990', 'lng': '-120.7677'}},\n",
       "  'phone': '586.493.6943 x140',\n",
       "  'website': 'jacynthe.com',\n",
       "  'company': {'name': 'Abernathy Group',\n",
       "   'catchPhrase': 'Implemented secondary concept',\n",
       "   'bs': 'e-enable extensible e-tailers'}},\n",
       " {'id': 9,\n",
       "  'name': 'Glenna Reichert',\n",
       "  'username': 'Delphine',\n",
       "  'email': 'Chaim_McDermott@dana.io',\n",
       "  'address': {'street': 'Dayna Park',\n",
       "   'suite': 'Suite 449',\n",
       "   'city': 'Bartholomebury',\n",
       "   'zipcode': '76495-3109',\n",
       "   'geo': {'lat': '24.6463', 'lng': '-168.8889'}},\n",
       "  'phone': '(775)976-6794 x41206',\n",
       "  'website': 'conrad.com',\n",
       "  'company': {'name': 'Yost and Sons',\n",
       "   'catchPhrase': 'Switchable contextually-based project',\n",
       "   'bs': 'aggregate real-time technologies'}},\n",
       " {'id': 10,\n",
       "  'name': 'Clementina DuBuque',\n",
       "  'username': 'Moriah.Stanton',\n",
       "  'email': 'Rey.Padberg@karina.biz',\n",
       "  'address': {'street': 'Kattie Turnpike',\n",
       "   'suite': 'Suite 198',\n",
       "   'city': 'Lebsackbury',\n",
       "   'zipcode': '31428-2261',\n",
       "   'geo': {'lat': '-38.2386', 'lng': '57.2232'}},\n",
       "  'phone': '024-648-3804',\n",
       "  'website': 'ambrose.net',\n",
       "  'company': {'name': 'Hoeger LLC',\n",
       "   'catchPhrase': 'Centralized empowering task-force',\n",
       "   'bs': 'target end-to-end models'}}]"
      ]
     },
     "execution_count": 18,
     "metadata": {},
     "output_type": "execute_result"
    }
   ],
   "source": [
    "response.json()"
   ]
  },
  {
   "cell_type": "code",
   "execution_count": null,
   "metadata": {
    "colab": {
     "base_uri": "https://localhost:8080/",
     "height": 394
    },
    "id": "peSGCGHCEYNS",
    "outputId": "38d501cb-9a49-4d89-f6cd-3117e92af70b"
   },
   "outputs": [
    {
     "data": {
      "text/html": [
       "\n",
       "  <div id=\"df-7976c488-a16d-4bf1-a8de-a53ec4bc9cd8\" class=\"colab-df-container\">\n",
       "    <div>\n",
       "<style scoped>\n",
       "    .dataframe tbody tr th:only-of-type {\n",
       "        vertical-align: middle;\n",
       "    }\n",
       "\n",
       "    .dataframe tbody tr th {\n",
       "        vertical-align: top;\n",
       "    }\n",
       "\n",
       "    .dataframe thead th {\n",
       "        text-align: right;\n",
       "    }\n",
       "</style>\n",
       "<table border=\"1\" class=\"dataframe\">\n",
       "  <thead>\n",
       "    <tr style=\"text-align: right;\">\n",
       "      <th></th>\n",
       "      <th>name</th>\n",
       "      <th>username</th>\n",
       "      <th>email</th>\n",
       "      <th>address</th>\n",
       "      <th>phone</th>\n",
       "      <th>website</th>\n",
       "      <th>company</th>\n",
       "    </tr>\n",
       "    <tr>\n",
       "      <th>id</th>\n",
       "      <th></th>\n",
       "      <th></th>\n",
       "      <th></th>\n",
       "      <th></th>\n",
       "      <th></th>\n",
       "      <th></th>\n",
       "      <th></th>\n",
       "    </tr>\n",
       "  </thead>\n",
       "  <tbody>\n",
       "    <tr>\n",
       "      <th>1</th>\n",
       "      <td>Leanne Graham</td>\n",
       "      <td>Bret</td>\n",
       "      <td>Sincere@april.biz</td>\n",
       "      <td>{'street': 'Kulas Light', 'suite': 'Apt. 556',...</td>\n",
       "      <td>1-770-736-8031 x56442</td>\n",
       "      <td>hildegard.org</td>\n",
       "      <td>{'name': 'Romaguera-Crona', 'catchPhrase': 'Mu...</td>\n",
       "    </tr>\n",
       "    <tr>\n",
       "      <th>2</th>\n",
       "      <td>Ervin Howell</td>\n",
       "      <td>Antonette</td>\n",
       "      <td>Shanna@melissa.tv</td>\n",
       "      <td>{'street': 'Victor Plains', 'suite': 'Suite 87...</td>\n",
       "      <td>010-692-6593 x09125</td>\n",
       "      <td>anastasia.net</td>\n",
       "      <td>{'name': 'Deckow-Crist', 'catchPhrase': 'Proac...</td>\n",
       "    </tr>\n",
       "    <tr>\n",
       "      <th>3</th>\n",
       "      <td>Clementine Bauch</td>\n",
       "      <td>Samantha</td>\n",
       "      <td>Nathan@yesenia.net</td>\n",
       "      <td>{'street': 'Douglas Extension', 'suite': 'Suit...</td>\n",
       "      <td>1-463-123-4447</td>\n",
       "      <td>ramiro.info</td>\n",
       "      <td>{'name': 'Romaguera-Jacobson', 'catchPhrase': ...</td>\n",
       "    </tr>\n",
       "    <tr>\n",
       "      <th>4</th>\n",
       "      <td>Patricia Lebsack</td>\n",
       "      <td>Karianne</td>\n",
       "      <td>Julianne.OConner@kory.org</td>\n",
       "      <td>{'street': 'Hoeger Mall', 'suite': 'Apt. 692',...</td>\n",
       "      <td>493-170-9623 x156</td>\n",
       "      <td>kale.biz</td>\n",
       "      <td>{'name': 'Robel-Corkery', 'catchPhrase': 'Mult...</td>\n",
       "    </tr>\n",
       "    <tr>\n",
       "      <th>5</th>\n",
       "      <td>Chelsey Dietrich</td>\n",
       "      <td>Kamren</td>\n",
       "      <td>Lucio_Hettinger@annie.ca</td>\n",
       "      <td>{'street': 'Skiles Walks', 'suite': 'Suite 351...</td>\n",
       "      <td>(254)954-1289</td>\n",
       "      <td>demarco.info</td>\n",
       "      <td>{'name': 'Keebler LLC', 'catchPhrase': 'User-c...</td>\n",
       "    </tr>\n",
       "    <tr>\n",
       "      <th>6</th>\n",
       "      <td>Mrs. Dennis Schulist</td>\n",
       "      <td>Leopoldo_Corkery</td>\n",
       "      <td>Karley_Dach@jasper.info</td>\n",
       "      <td>{'street': 'Norberto Crossing', 'suite': 'Apt....</td>\n",
       "      <td>1-477-935-8478 x6430</td>\n",
       "      <td>ola.org</td>\n",
       "      <td>{'name': 'Considine-Lockman', 'catchPhrase': '...</td>\n",
       "    </tr>\n",
       "    <tr>\n",
       "      <th>7</th>\n",
       "      <td>Kurtis Weissnat</td>\n",
       "      <td>Elwyn.Skiles</td>\n",
       "      <td>Telly.Hoeger@billy.biz</td>\n",
       "      <td>{'street': 'Rex Trail', 'suite': 'Suite 280', ...</td>\n",
       "      <td>210.067.6132</td>\n",
       "      <td>elvis.io</td>\n",
       "      <td>{'name': 'Johns Group', 'catchPhrase': 'Config...</td>\n",
       "    </tr>\n",
       "    <tr>\n",
       "      <th>8</th>\n",
       "      <td>Nicholas Runolfsdottir V</td>\n",
       "      <td>Maxime_Nienow</td>\n",
       "      <td>Sherwood@rosamond.me</td>\n",
       "      <td>{'street': 'Ellsworth Summit', 'suite': 'Suite...</td>\n",
       "      <td>586.493.6943 x140</td>\n",
       "      <td>jacynthe.com</td>\n",
       "      <td>{'name': 'Abernathy Group', 'catchPhrase': 'Im...</td>\n",
       "    </tr>\n",
       "    <tr>\n",
       "      <th>9</th>\n",
       "      <td>Glenna Reichert</td>\n",
       "      <td>Delphine</td>\n",
       "      <td>Chaim_McDermott@dana.io</td>\n",
       "      <td>{'street': 'Dayna Park', 'suite': 'Suite 449',...</td>\n",
       "      <td>(775)976-6794 x41206</td>\n",
       "      <td>conrad.com</td>\n",
       "      <td>{'name': 'Yost and Sons', 'catchPhrase': 'Swit...</td>\n",
       "    </tr>\n",
       "    <tr>\n",
       "      <th>10</th>\n",
       "      <td>Clementina DuBuque</td>\n",
       "      <td>Moriah.Stanton</td>\n",
       "      <td>Rey.Padberg@karina.biz</td>\n",
       "      <td>{'street': 'Kattie Turnpike', 'suite': 'Suite ...</td>\n",
       "      <td>024-648-3804</td>\n",
       "      <td>ambrose.net</td>\n",
       "      <td>{'name': 'Hoeger LLC', 'catchPhrase': 'Central...</td>\n",
       "    </tr>\n",
       "  </tbody>\n",
       "</table>\n",
       "</div>\n",
       "    <div class=\"colab-df-buttons\">\n",
       "\n",
       "  <div class=\"colab-df-container\">\n",
       "    <button class=\"colab-df-convert\" onclick=\"convertToInteractive('df-7976c488-a16d-4bf1-a8de-a53ec4bc9cd8')\"\n",
       "            title=\"Convert this dataframe to an interactive table.\"\n",
       "            style=\"display:none;\">\n",
       "\n",
       "  <svg xmlns=\"http://www.w3.org/2000/svg\" height=\"24px\" viewBox=\"0 -960 960 960\">\n",
       "    <path d=\"M120-120v-720h720v720H120Zm60-500h600v-160H180v160Zm220 220h160v-160H400v160Zm0 220h160v-160H400v160ZM180-400h160v-160H180v160Zm440 0h160v-160H620v160ZM180-180h160v-160H180v160Zm440 0h160v-160H620v160Z\"/>\n",
       "  </svg>\n",
       "    </button>\n",
       "\n",
       "  <style>\n",
       "    .colab-df-container {\n",
       "      display:flex;\n",
       "      gap: 12px;\n",
       "    }\n",
       "\n",
       "    .colab-df-convert {\n",
       "      background-color: #E8F0FE;\n",
       "      border: none;\n",
       "      border-radius: 50%;\n",
       "      cursor: pointer;\n",
       "      display: none;\n",
       "      fill: #1967D2;\n",
       "      height: 32px;\n",
       "      padding: 0 0 0 0;\n",
       "      width: 32px;\n",
       "    }\n",
       "\n",
       "    .colab-df-convert:hover {\n",
       "      background-color: #E2EBFA;\n",
       "      box-shadow: 0px 1px 2px rgba(60, 64, 67, 0.3), 0px 1px 3px 1px rgba(60, 64, 67, 0.15);\n",
       "      fill: #174EA6;\n",
       "    }\n",
       "\n",
       "    .colab-df-buttons div {\n",
       "      margin-bottom: 4px;\n",
       "    }\n",
       "\n",
       "    [theme=dark] .colab-df-convert {\n",
       "      background-color: #3B4455;\n",
       "      fill: #D2E3FC;\n",
       "    }\n",
       "\n",
       "    [theme=dark] .colab-df-convert:hover {\n",
       "      background-color: #434B5C;\n",
       "      box-shadow: 0px 1px 3px 1px rgba(0, 0, 0, 0.15);\n",
       "      filter: drop-shadow(0px 1px 2px rgba(0, 0, 0, 0.3));\n",
       "      fill: #FFFFFF;\n",
       "    }\n",
       "  </style>\n",
       "\n",
       "    <script>\n",
       "      const buttonEl =\n",
       "        document.querySelector('#df-7976c488-a16d-4bf1-a8de-a53ec4bc9cd8 button.colab-df-convert');\n",
       "      buttonEl.style.display =\n",
       "        google.colab.kernel.accessAllowed ? 'block' : 'none';\n",
       "\n",
       "      async function convertToInteractive(key) {\n",
       "        const element = document.querySelector('#df-7976c488-a16d-4bf1-a8de-a53ec4bc9cd8');\n",
       "        const dataTable =\n",
       "          await google.colab.kernel.invokeFunction('convertToInteractive',\n",
       "                                                    [key], {});\n",
       "        if (!dataTable) return;\n",
       "\n",
       "        const docLinkHtml = 'Like what you see? Visit the ' +\n",
       "          '<a target=\"_blank\" href=https://colab.research.google.com/notebooks/data_table.ipynb>data table notebook</a>'\n",
       "          + ' to learn more about interactive tables.';\n",
       "        element.innerHTML = '';\n",
       "        dataTable['output_type'] = 'display_data';\n",
       "        await google.colab.output.renderOutput(dataTable, element);\n",
       "        const docLink = document.createElement('div');\n",
       "        docLink.innerHTML = docLinkHtml;\n",
       "        element.appendChild(docLink);\n",
       "      }\n",
       "    </script>\n",
       "  </div>\n",
       "\n",
       "\n",
       "<div id=\"df-742f01d1-c5af-4aec-a843-bd230118543c\">\n",
       "  <button class=\"colab-df-quickchart\" onclick=\"quickchart('df-742f01d1-c5af-4aec-a843-bd230118543c')\"\n",
       "            title=\"Suggest charts.\"\n",
       "            style=\"display:none;\">\n",
       "\n",
       "<svg xmlns=\"http://www.w3.org/2000/svg\" height=\"24px\"viewBox=\"0 0 24 24\"\n",
       "     width=\"24px\">\n",
       "    <g>\n",
       "        <path d=\"M19 3H5c-1.1 0-2 .9-2 2v14c0 1.1.9 2 2 2h14c1.1 0 2-.9 2-2V5c0-1.1-.9-2-2-2zM9 17H7v-7h2v7zm4 0h-2V7h2v10zm4 0h-2v-4h2v4z\"/>\n",
       "    </g>\n",
       "</svg>\n",
       "  </button>\n",
       "\n",
       "<style>\n",
       "  .colab-df-quickchart {\n",
       "      --bg-color: #E8F0FE;\n",
       "      --fill-color: #1967D2;\n",
       "      --hover-bg-color: #E2EBFA;\n",
       "      --hover-fill-color: #174EA6;\n",
       "      --disabled-fill-color: #AAA;\n",
       "      --disabled-bg-color: #DDD;\n",
       "  }\n",
       "\n",
       "  [theme=dark] .colab-df-quickchart {\n",
       "      --bg-color: #3B4455;\n",
       "      --fill-color: #D2E3FC;\n",
       "      --hover-bg-color: #434B5C;\n",
       "      --hover-fill-color: #FFFFFF;\n",
       "      --disabled-bg-color: #3B4455;\n",
       "      --disabled-fill-color: #666;\n",
       "  }\n",
       "\n",
       "  .colab-df-quickchart {\n",
       "    background-color: var(--bg-color);\n",
       "    border: none;\n",
       "    border-radius: 50%;\n",
       "    cursor: pointer;\n",
       "    display: none;\n",
       "    fill: var(--fill-color);\n",
       "    height: 32px;\n",
       "    padding: 0;\n",
       "    width: 32px;\n",
       "  }\n",
       "\n",
       "  .colab-df-quickchart:hover {\n",
       "    background-color: var(--hover-bg-color);\n",
       "    box-shadow: 0 1px 2px rgba(60, 64, 67, 0.3), 0 1px 3px 1px rgba(60, 64, 67, 0.15);\n",
       "    fill: var(--button-hover-fill-color);\n",
       "  }\n",
       "\n",
       "  .colab-df-quickchart-complete:disabled,\n",
       "  .colab-df-quickchart-complete:disabled:hover {\n",
       "    background-color: var(--disabled-bg-color);\n",
       "    fill: var(--disabled-fill-color);\n",
       "    box-shadow: none;\n",
       "  }\n",
       "\n",
       "  .colab-df-spinner {\n",
       "    border: 2px solid var(--fill-color);\n",
       "    border-color: transparent;\n",
       "    border-bottom-color: var(--fill-color);\n",
       "    animation:\n",
       "      spin 1s steps(1) infinite;\n",
       "  }\n",
       "\n",
       "  @keyframes spin {\n",
       "    0% {\n",
       "      border-color: transparent;\n",
       "      border-bottom-color: var(--fill-color);\n",
       "      border-left-color: var(--fill-color);\n",
       "    }\n",
       "    20% {\n",
       "      border-color: transparent;\n",
       "      border-left-color: var(--fill-color);\n",
       "      border-top-color: var(--fill-color);\n",
       "    }\n",
       "    30% {\n",
       "      border-color: transparent;\n",
       "      border-left-color: var(--fill-color);\n",
       "      border-top-color: var(--fill-color);\n",
       "      border-right-color: var(--fill-color);\n",
       "    }\n",
       "    40% {\n",
       "      border-color: transparent;\n",
       "      border-right-color: var(--fill-color);\n",
       "      border-top-color: var(--fill-color);\n",
       "    }\n",
       "    60% {\n",
       "      border-color: transparent;\n",
       "      border-right-color: var(--fill-color);\n",
       "    }\n",
       "    80% {\n",
       "      border-color: transparent;\n",
       "      border-right-color: var(--fill-color);\n",
       "      border-bottom-color: var(--fill-color);\n",
       "    }\n",
       "    90% {\n",
       "      border-color: transparent;\n",
       "      border-bottom-color: var(--fill-color);\n",
       "    }\n",
       "  }\n",
       "</style>\n",
       "\n",
       "  <script>\n",
       "    async function quickchart(key) {\n",
       "      const quickchartButtonEl =\n",
       "        document.querySelector('#' + key + ' button');\n",
       "      quickchartButtonEl.disabled = true;  // To prevent multiple clicks.\n",
       "      quickchartButtonEl.classList.add('colab-df-spinner');\n",
       "      try {\n",
       "        const charts = await google.colab.kernel.invokeFunction(\n",
       "            'suggestCharts', [key], {});\n",
       "      } catch (error) {\n",
       "        console.error('Error during call to suggestCharts:', error);\n",
       "      }\n",
       "      quickchartButtonEl.classList.remove('colab-df-spinner');\n",
       "      quickchartButtonEl.classList.add('colab-df-quickchart-complete');\n",
       "    }\n",
       "    (() => {\n",
       "      let quickchartButtonEl =\n",
       "        document.querySelector('#df-742f01d1-c5af-4aec-a843-bd230118543c button');\n",
       "      quickchartButtonEl.style.display =\n",
       "        google.colab.kernel.accessAllowed ? 'block' : 'none';\n",
       "    })();\n",
       "  </script>\n",
       "</div>\n",
       "    </div>\n",
       "  </div>\n"
      ],
      "text/plain": [
       "                        name          username                      email  \\\n",
       "id                                                                          \n",
       "1              Leanne Graham              Bret          Sincere@april.biz   \n",
       "2               Ervin Howell         Antonette          Shanna@melissa.tv   \n",
       "3           Clementine Bauch          Samantha         Nathan@yesenia.net   \n",
       "4           Patricia Lebsack          Karianne  Julianne.OConner@kory.org   \n",
       "5           Chelsey Dietrich            Kamren   Lucio_Hettinger@annie.ca   \n",
       "6       Mrs. Dennis Schulist  Leopoldo_Corkery    Karley_Dach@jasper.info   \n",
       "7            Kurtis Weissnat      Elwyn.Skiles     Telly.Hoeger@billy.biz   \n",
       "8   Nicholas Runolfsdottir V     Maxime_Nienow       Sherwood@rosamond.me   \n",
       "9            Glenna Reichert          Delphine    Chaim_McDermott@dana.io   \n",
       "10        Clementina DuBuque    Moriah.Stanton     Rey.Padberg@karina.biz   \n",
       "\n",
       "                                              address                  phone  \\\n",
       "id                                                                             \n",
       "1   {'street': 'Kulas Light', 'suite': 'Apt. 556',...  1-770-736-8031 x56442   \n",
       "2   {'street': 'Victor Plains', 'suite': 'Suite 87...    010-692-6593 x09125   \n",
       "3   {'street': 'Douglas Extension', 'suite': 'Suit...         1-463-123-4447   \n",
       "4   {'street': 'Hoeger Mall', 'suite': 'Apt. 692',...      493-170-9623 x156   \n",
       "5   {'street': 'Skiles Walks', 'suite': 'Suite 351...          (254)954-1289   \n",
       "6   {'street': 'Norberto Crossing', 'suite': 'Apt....   1-477-935-8478 x6430   \n",
       "7   {'street': 'Rex Trail', 'suite': 'Suite 280', ...           210.067.6132   \n",
       "8   {'street': 'Ellsworth Summit', 'suite': 'Suite...      586.493.6943 x140   \n",
       "9   {'street': 'Dayna Park', 'suite': 'Suite 449',...   (775)976-6794 x41206   \n",
       "10  {'street': 'Kattie Turnpike', 'suite': 'Suite ...           024-648-3804   \n",
       "\n",
       "          website                                            company  \n",
       "id                                                                    \n",
       "1   hildegard.org  {'name': 'Romaguera-Crona', 'catchPhrase': 'Mu...  \n",
       "2   anastasia.net  {'name': 'Deckow-Crist', 'catchPhrase': 'Proac...  \n",
       "3     ramiro.info  {'name': 'Romaguera-Jacobson', 'catchPhrase': ...  \n",
       "4        kale.biz  {'name': 'Robel-Corkery', 'catchPhrase': 'Mult...  \n",
       "5    demarco.info  {'name': 'Keebler LLC', 'catchPhrase': 'User-c...  \n",
       "6         ola.org  {'name': 'Considine-Lockman', 'catchPhrase': '...  \n",
       "7        elvis.io  {'name': 'Johns Group', 'catchPhrase': 'Config...  \n",
       "8    jacynthe.com  {'name': 'Abernathy Group', 'catchPhrase': 'Im...  \n",
       "9      conrad.com  {'name': 'Yost and Sons', 'catchPhrase': 'Swit...  \n",
       "10    ambrose.net  {'name': 'Hoeger LLC', 'catchPhrase': 'Central...  "
      ]
     },
     "execution_count": 19,
     "metadata": {},
     "output_type": "execute_result"
    }
   ],
   "source": [
    "import pandas as pd\n",
    "pd.DataFrame(response.json()).set_index('id')"
   ]
  },
  {
   "cell_type": "markdown",
   "metadata": {
    "id": "5w6LwLBORh55"
   },
   "source": [
    "if we observe the code above, we can convert response to dataframe after having converted into json format. Json output sytax follows a dictionary syntax in python. Most of the HTTP responses can be parsed to json since its usable in major programming languages and hence very useful than xml's or other reponse datatypes"
   ]
  },
  {
   "cell_type": "code",
   "execution_count": null,
   "metadata": {
    "id": "Xcyao3GhNp6o"
   },
   "outputs": [],
   "source": [
    "# lets try and use GET request to fetch data about one of these users\n",
    "# As we can see id is a unique identifier, we can use that to filter a particular user\n",
    "\n",
    "payload = {'id':'1' ,'name': 'Leanne Graham'}\n",
    "\n",
    "response = requests.get('https://jsonplaceholder.typicode.com/users',params = payload)\n"
   ]
  },
  {
   "cell_type": "code",
   "execution_count": null,
   "metadata": {
    "colab": {
     "base_uri": "https://localhost:8080/"
    },
    "id": "l9R2ihWar0bf",
    "outputId": "c1e0ef5c-5b73-4aaf-91bc-e1083e32efeb"
   },
   "outputs": [
    {
     "data": {
      "text/plain": [
       "[{'id': 1,\n",
       "  'name': 'Leanne Graham',\n",
       "  'username': 'Bret',\n",
       "  'email': 'Sincere@april.biz',\n",
       "  'address': {'street': 'Kulas Light',\n",
       "   'suite': 'Apt. 556',\n",
       "   'city': 'Gwenborough',\n",
       "   'zipcode': '92998-3874',\n",
       "   'geo': {'lat': '-37.3159', 'lng': '81.1496'}},\n",
       "  'phone': '1-770-736-8031 x56442',\n",
       "  'website': 'hildegard.org',\n",
       "  'company': {'name': 'Romaguera-Crona',\n",
       "   'catchPhrase': 'Multi-layered client-server neural-net',\n",
       "   'bs': 'harness real-time e-markets'}}]"
      ]
     },
     "execution_count": 21,
     "metadata": {},
     "output_type": "execute_result"
    }
   ],
   "source": [
    "response.json()"
   ]
  },
  {
   "cell_type": "code",
   "execution_count": null,
   "metadata": {
    "id": "gPZwMDK2sDBV"
   },
   "outputs": [],
   "source": [
    "# it is better to store the base url in a variable and attach the endpoint to it for the requests\n",
    "\n",
    "url = 'https://jsonplaceholder.typicode.com'\n",
    "# lets try and use GET request to fetch data about one of these users\n",
    "# As we can see i is a unique identifier, we can use that to filter a particular user\n",
    "\n",
    "payload = {'id':['1','2',3] }\n",
    "\n",
    "response = requests.get(url+ '/users',params = payload)\n"
   ]
  },
  {
   "cell_type": "code",
   "execution_count": null,
   "metadata": {
    "colab": {
     "base_uri": "https://localhost:8080/"
    },
    "id": "p0Ilm92WsSbw",
    "outputId": "59f5ad23-f3f6-45fa-e074-a3a7a2f2f164"
   },
   "outputs": [
    {
     "data": {
      "text/plain": [
       "[{'id': 1,\n",
       "  'name': 'Leanne Graham',\n",
       "  'username': 'Bret',\n",
       "  'email': 'Sincere@april.biz',\n",
       "  'address': {'street': 'Kulas Light',\n",
       "   'suite': 'Apt. 556',\n",
       "   'city': 'Gwenborough',\n",
       "   'zipcode': '92998-3874',\n",
       "   'geo': {'lat': '-37.3159', 'lng': '81.1496'}},\n",
       "  'phone': '1-770-736-8031 x56442',\n",
       "  'website': 'hildegard.org',\n",
       "  'company': {'name': 'Romaguera-Crona',\n",
       "   'catchPhrase': 'Multi-layered client-server neural-net',\n",
       "   'bs': 'harness real-time e-markets'}},\n",
       " {'id': 2,\n",
       "  'name': 'Ervin Howell',\n",
       "  'username': 'Antonette',\n",
       "  'email': 'Shanna@melissa.tv',\n",
       "  'address': {'street': 'Victor Plains',\n",
       "   'suite': 'Suite 879',\n",
       "   'city': 'Wisokyburgh',\n",
       "   'zipcode': '90566-7771',\n",
       "   'geo': {'lat': '-43.9509', 'lng': '-34.4618'}},\n",
       "  'phone': '010-692-6593 x09125',\n",
       "  'website': 'anastasia.net',\n",
       "  'company': {'name': 'Deckow-Crist',\n",
       "   'catchPhrase': 'Proactive didactic contingency',\n",
       "   'bs': 'synergize scalable supply-chains'}},\n",
       " {'id': 3,\n",
       "  'name': 'Clementine Bauch',\n",
       "  'username': 'Samantha',\n",
       "  'email': 'Nathan@yesenia.net',\n",
       "  'address': {'street': 'Douglas Extension',\n",
       "   'suite': 'Suite 847',\n",
       "   'city': 'McKenziehaven',\n",
       "   'zipcode': '59590-4157',\n",
       "   'geo': {'lat': '-68.6102', 'lng': '-47.0653'}},\n",
       "  'phone': '1-463-123-4447',\n",
       "  'website': 'ramiro.info',\n",
       "  'company': {'name': 'Romaguera-Jacobson',\n",
       "   'catchPhrase': 'Face to face bifurcated interface',\n",
       "   'bs': 'e-enable strategic applications'}}]"
      ]
     },
     "execution_count": 23,
     "metadata": {},
     "output_type": "execute_result"
    }
   ],
   "source": [
    "response.json()"
   ]
  },
  {
   "cell_type": "markdown",
   "metadata": {
    "id": "so2yKkBu2DgE"
   },
   "source": [
    "To understand other http requests, we shall use, https://gorest.co.in/"
   ]
  },
  {
   "cell_type": "markdown",
   "metadata": {
    "id": "c391VAq62NZx"
   },
   "source": [
    "login using your account and store the private token in Secrets.py file as a dictionary"
   ]
  },
  {
   "cell_type": "markdown",
   "metadata": {
    "id": "mJZ9A1_93WyS"
   },
   "source": [
    "#Authentication\n",
    "\n",
    "When a client requests a URL, the server requires certain authentication information such as a username and password. This adds another layer of protection to the request and answer being communicated between the client and the server.\n",
    "\n",
    "These additional authentication details, such as login and password, are provided by the client.\n",
    "\n",
    "Passwords can be sent in the headers and validated on the server side.  Only when the authentication is valid will a response be returned from the server.\n",
    "\n",
    "The most widely used authentication in the Requests library is Basic authentication.\n",
    "\n",
    "HTTPBasicAuth authentication and Digest authentication (HTTPDigestAuth)."
   ]
  },
  {
   "cell_type": "markdown",
   "metadata": {
    "id": "bno3S74E3aZM"
   },
   "source": [
    "##HTTPBasicAuth:\n",
    "\n",
    "basic access authentication is a method for an HTTP user agent (e.g. a web browser) to provide a user name and password when making a request. In basic HTTP authentication, a request contains a header field in the form of Authorization: Basic < credentials >, where credentials is the Base64 encoding of ID and password joined by a single colon :\n"
   ]
  },
  {
   "cell_type": "code",
   "execution_count": 3,
   "metadata": {
    "id": "01dAaUOAwa3Y"
   },
   "outputs": [
    {
     "name": "stdout",
     "output_type": "stream",
     "text": [
      "enter you credits········\n"
     ]
    }
   ],
   "source": [
    "import os\n",
    "import getpass\n",
    "os.environ['this is an example'] = 'example'\n",
    "os.environ['gorestapi'] = getpass.getpass('enter you credits')\n"
   ]
  },
  {
   "cell_type": "code",
   "execution_count": null,
   "metadata": {
    "colab": {
     "base_uri": "https://localhost:8080/",
     "height": 35
    },
    "id": "lQud1v82GKZd",
    "outputId": "1b46fe9c-7808-477d-8115-4f9dd60e206a"
   },
   "outputs": [
    {
     "data": {
      "application/vnd.google.colaboratory.intrinsic+json": {
       "type": "string"
      },
      "text/plain": [
       "'example'"
      ]
     },
     "execution_count": 25,
     "metadata": {},
     "output_type": "execute_result"
    }
   ],
   "source": [
    "os.environ.get('this is an example')"
   ]
  },
  {
   "cell_type": "code",
   "execution_count": null,
   "metadata": {
    "id": "iNoCjDefBKx-"
   },
   "outputs": [],
   "source": [
    "import requests\n",
    "from requests.auth import HTTPBasicAuth"
   ]
  },
  {
   "cell_type": "code",
   "execution_count": null,
   "metadata": {
    "id": "PD8dcCJVEdu2"
   },
   "outputs": [],
   "source": [
    "requests.get??"
   ]
  },
  {
   "cell_type": "code",
   "execution_count": null,
   "metadata": {
    "id": "coKxyoLhFdOE"
   },
   "outputs": [],
   "source": [
    "HTTPBasicAuth??"
   ]
  },
  {
   "cell_type": "code",
   "execution_count": null,
   "metadata": {
    "colab": {
     "base_uri": "https://localhost:8080/"
    },
    "id": "0LTKTU7K1GjC",
    "outputId": "487b6e61-c8c5-49db-94eb-cec45d300ec0"
   },
   "outputs": [
    {
     "data": {
      "text/plain": [
       "[{'id': 3648,\n",
       "  'name': 'Rev. Aatmaj Patil',\n",
       "  'email': 'rev_patil_aatmaj@mckenzie.info',\n",
       "  'gender': 'female',\n",
       "  'status': 'active'},\n",
       " {'id': 3636,\n",
       "  'name': 'Chandrakin Kaul',\n",
       "  'email': 'kaul_chandrakin@price.com',\n",
       "  'gender': 'female',\n",
       "  'status': 'inactive'},\n",
       " {'id': 3630,\n",
       "  'name': 'Chitrangada Joshi PhD',\n",
       "  'email': 'phd_joshi_chitrangada@towne.io',\n",
       "  'gender': 'male',\n",
       "  'status': 'active'},\n",
       " {'id': 3628,\n",
       "  'name': 'Chandra Mukhopadhyay',\n",
       "  'email': 'chandra_mukhopadhyay@rath.name',\n",
       "  'gender': 'male',\n",
       "  'status': 'active'},\n",
       " {'id': 3625,\n",
       "  'name': 'Anila Varman',\n",
       "  'email': 'varman_anila@maggio-wunsch.info',\n",
       "  'gender': 'female',\n",
       "  'status': 'inactive'},\n",
       " {'id': 3623,\n",
       "  'name': 'Aatmaj Sethi',\n",
       "  'email': 'aatmaj_sethi@yost.org',\n",
       "  'gender': 'male',\n",
       "  'status': 'inactive'},\n",
       " {'id': 3611,\n",
       "  'name': 'Amb. Avani Mahajan',\n",
       "  'email': 'mahajan_avani_amb@lemke-romaguera.com',\n",
       "  'gender': 'male',\n",
       "  'status': 'active'},\n",
       " {'id': 3609,\n",
       "  'name': 'Chakravarti Bhat',\n",
       "  'email': 'bhat_chakravarti@grant-kuhlman.name',\n",
       "  'gender': 'female',\n",
       "  'status': 'inactive'},\n",
       " {'id': 3607,\n",
       "  'name': 'Bharadwaj Talwar',\n",
       "  'email': 'bharadwaj_talwar@crona.com',\n",
       "  'gender': 'female',\n",
       "  'status': 'active'},\n",
       " {'id': 3606,\n",
       "  'name': 'Bhoj Pillai',\n",
       "  'email': 'pillai_bhoj@pouros.io',\n",
       "  'gender': 'female',\n",
       "  'status': 'inactive'}]"
      ]
     },
     "execution_count": 51,
     "metadata": {},
     "output_type": "execute_result"
    }
   ],
   "source": [
    "url = 'https://gorest.co.in/public/v2'\n",
    "token = Secrets.python_store['token']\n",
    "\n",
    "response_data = requests.get(url+'/users', auth=HTTPBasicAuth('access-token',token))\n",
    "response_data.json()\n"
   ]
  },
  {
   "cell_type": "code",
   "execution_count": null,
   "metadata": {
    "colab": {
     "base_uri": "https://localhost:8080/"
    },
    "id": "Wp8fxA8RBj_R",
    "outputId": "319b786d-a276-424e-ea02-79befd9f4fb1"
   },
   "outputs": [
    {
     "data": {
      "text/plain": [
       "[{'id': 3611,\n",
       "  'name': 'Amb. Avani Mahajan',\n",
       "  'email': 'mahajan_avani_amb@lemke-romaguera.com',\n",
       "  'gender': 'male',\n",
       "  'status': 'active'}]"
      ]
     },
     "execution_count": 53,
     "metadata": {},
     "output_type": "execute_result"
    }
   ],
   "source": [
    "# Lets try to filter the results using 'name' attribute instead of id\n",
    "\n",
    "payload = {'name':'Amb. Avani Mahajan'}\n",
    "response_data = requests.get(url+'/users', auth=HTTPBasicAuth('access-token',token),params = payload)\n",
    "response_data.json()\n"
   ]
  },
  {
   "cell_type": "code",
   "execution_count": null,
   "metadata": {
    "colab": {
     "base_uri": "https://localhost:8080/"
    },
    "id": "2d-jJA1590AJ",
    "outputId": "0c0d2152-b6a9-43c4-f1da-25236b827618"
   },
   "outputs": [
    {
     "data": {
      "text/plain": [
       "[{'id': 3648,\n",
       "  'name': 'Rev. Aatmaj Patil',\n",
       "  'email': 'rev_patil_aatmaj@mckenzie.info',\n",
       "  'gender': 'female',\n",
       "  'status': 'active'},\n",
       " {'id': 3630,\n",
       "  'name': 'Chitrangada Joshi PhD',\n",
       "  'email': 'phd_joshi_chitrangada@towne.io',\n",
       "  'gender': 'male',\n",
       "  'status': 'active'},\n",
       " {'id': 3628,\n",
       "  'name': 'Chandra Mukhopadhyay',\n",
       "  'email': 'chandra_mukhopadhyay@rath.name',\n",
       "  'gender': 'male',\n",
       "  'status': 'active'},\n",
       " {'id': 3611,\n",
       "  'name': 'Amb. Avani Mahajan',\n",
       "  'email': 'mahajan_avani_amb@lemke-romaguera.com',\n",
       "  'gender': 'male',\n",
       "  'status': 'active'},\n",
       " {'id': 3607,\n",
       "  'name': 'Bharadwaj Talwar',\n",
       "  'email': 'bharadwaj_talwar@crona.com',\n",
       "  'gender': 'female',\n",
       "  'status': 'active'},\n",
       " {'id': 3603,\n",
       "  'name': 'Adhrit Dwivedi',\n",
       "  'email': 'adhrit_dwivedi@reilly.org',\n",
       "  'gender': 'male',\n",
       "  'status': 'active'},\n",
       " {'id': 3596,\n",
       "  'name': 'Aarya Bharadwaj PhD',\n",
       "  'email': 'phd_bharadwaj_aarya@cronin.io',\n",
       "  'gender': 'male',\n",
       "  'status': 'active'},\n",
       " {'id': 3589,\n",
       "  'name': 'Daevi Agarwal',\n",
       "  'email': 'daevi_agarwal@purdy.com',\n",
       "  'gender': 'male',\n",
       "  'status': 'active'},\n",
       " {'id': 3587,\n",
       "  'name': 'Omana Mehra',\n",
       "  'email': 'mehra_omana@kovacek-tillman.com',\n",
       "  'gender': 'female',\n",
       "  'status': 'active'},\n",
       " {'id': 3585,\n",
       "  'name': 'Chatur Trivedi Esq.',\n",
       "  'email': 'trivedi_chatur_esq@shields.biz',\n",
       "  'gender': 'female',\n",
       "  'status': 'active'}]"
      ]
     },
     "execution_count": 54,
     "metadata": {},
     "output_type": "execute_result"
    }
   ],
   "source": [
    "\n",
    "payload = {'status':'active'}\n",
    "response_data = requests.get(url+'/users', auth=HTTPBasicAuth('access-token',token),params = payload)\n",
    "response_data.json()\n"
   ]
  },
  {
   "cell_type": "code",
   "execution_count": null,
   "metadata": {
    "colab": {
     "base_uri": "https://localhost:8080/"
    },
    "id": "afbK3Obl97AV",
    "outputId": "0ec5d70d-2fff-4c57-fc3f-5c2731955488"
   },
   "outputs": [
    {
     "data": {
      "text/plain": [
       "[{'id': 2700,\n",
       "  'name': 'Fr. Daevi Dhawan',\n",
       "  'email': 'dhawan_daevi_fr@skiles.co',\n",
       "  'gender': 'female',\n",
       "  'status': 'active'},\n",
       " {'id': 2699,\n",
       "  'name': 'Chandrabhan Prajapat JD',\n",
       "  'email': 'prajapat_chandrabhan_jd@conroy.co',\n",
       "  'gender': 'female',\n",
       "  'status': 'active'},\n",
       " {'id': 2698,\n",
       "  'name': 'Malati Trivedi',\n",
       "  'email': 'trivedi_malati@kertzmann-hoppe.net',\n",
       "  'gender': 'female',\n",
       "  'status': 'inactive'},\n",
       " {'id': 2696,\n",
       "  'name': 'Fr. Amaranaath Prajapat',\n",
       "  'email': 'fr_amaranaath_prajapat@mann.io',\n",
       "  'gender': 'female',\n",
       "  'status': 'inactive'},\n",
       " {'id': 2695,\n",
       "  'name': 'Anil Adiga DC',\n",
       "  'email': 'adiga_anil_dc@weimann-schroeder.net',\n",
       "  'gender': 'female',\n",
       "  'status': 'active'},\n",
       " {'id': 2693,\n",
       "  'name': 'Puneet Patil',\n",
       "  'email': 'puneet_patil@tillman.net',\n",
       "  'gender': 'female',\n",
       "  'status': 'inactive'},\n",
       " {'id': 2692,\n",
       "  'name': 'Sarla Joshi V',\n",
       "  'email': 'joshi_sarla_v@kovacek.io',\n",
       "  'gender': 'female',\n",
       "  'status': 'active'},\n",
       " {'id': 2689,\n",
       "  'name': 'Rev. Bandhul Mahajan',\n",
       "  'email': 'bandhul_rev_mahajan@schmeler.co',\n",
       "  'gender': 'female',\n",
       "  'status': 'inactive'},\n",
       " {'id': 2687,\n",
       "  'name': 'Ashlesh Chaturvedi',\n",
       "  'email': 'chaturvedi_ashlesh@gerhold-ortiz.io',\n",
       "  'gender': 'female',\n",
       "  'status': 'inactive'},\n",
       " {'id': 2686,\n",
       "  'name': 'Sen. Radha Tandon',\n",
       "  'email': 'sen_tandon_radha@legros.name',\n",
       "  'gender': 'female',\n",
       "  'status': 'inactive'}]"
      ]
     },
     "execution_count": 12,
     "metadata": {},
     "output_type": "execute_result"
    }
   ],
   "source": [
    "\n",
    "payload = {'gender':'female'}\n",
    "response_data = requests.get(url+'/users', auth=HTTPBasicAuth('access-token',token),params = payload)\n",
    "response_data.json()\n"
   ]
  },
  {
   "cell_type": "markdown",
   "metadata": {
    "id": "glP4eoYiiwnr"
   },
   "source": [
    "## Digest Authentication"
   ]
  },
  {
   "cell_type": "markdown",
   "metadata": {
    "id": "PvVhNtg3lAHa"
   },
   "source": [
    "Digest access authentication is one of the agreed-upon methods a web server can use to negotiate credentials, such as username or password, with a user's web browser. This can be used to confirm the identity of a user before sending sensitive information, such as online banking transaction history."
   ]
  },
  {
   "cell_type": "code",
   "execution_count": null,
   "metadata": {
    "colab": {
     "base_uri": "https://localhost:8080/"
    },
    "id": "Y27cyA8Nizxw",
    "outputId": "dc60ec75-45ab-47ca-bc80-3e7a8f2b041d"
   },
   "outputs": [
    {
     "name": "stdout",
     "output_type": "stream",
     "text": [
      "{'authenticated': True, 'user': 'admin'}\n"
     ]
    }
   ],
   "source": [
    "import requests\n",
    "from requests.auth import HTTPDigestAuth\n",
    "response_data = requests.get('https://httpbin.org/digest-auth/auth/admin/admin123', auth=HTTPDigestAuth('admin', 'admin123'))\n",
    "print(response_data.json())"
   ]
  },
  {
   "cell_type": "markdown",
   "metadata": {
    "id": "DgUqAleeQksB"
   },
   "source": [
    "#POST"
   ]
  },
  {
   "cell_type": "markdown",
   "metadata": {
    "id": "hz5-E25nKNU3"
   },
   "source": [
    "Now let's learn how to utilise post requests. In the gorest.co.in url, for post requests, authorization is done via bearer token. This token has to be passed in headers.\n",
    "\n",
    "Bearer means give access to the bearer of this token"
   ]
  },
  {
   "cell_type": "code",
   "execution_count": null,
   "metadata": {
    "colab": {
     "base_uri": "https://localhost:8080/"
    },
    "id": "YTD5mVaPHsbh",
    "outputId": "8a1cb19d-be05-42a4-9c50-1ab39ff10c81"
   },
   "outputs": [
    {
     "data": {
      "text/plain": [
       "[{'id': 3648,\n",
       "  'name': 'Rev. Aatmaj Patil',\n",
       "  'email': 'rev_patil_aatmaj@mckenzie.info',\n",
       "  'gender': 'female',\n",
       "  'status': 'active'},\n",
       " {'id': 3636,\n",
       "  'name': 'Chandrakin Kaul',\n",
       "  'email': 'kaul_chandrakin@price.com',\n",
       "  'gender': 'female',\n",
       "  'status': 'inactive'},\n",
       " {'id': 3630,\n",
       "  'name': 'Chitrangada Joshi PhD',\n",
       "  'email': 'phd_joshi_chitrangada@towne.io',\n",
       "  'gender': 'male',\n",
       "  'status': 'active'},\n",
       " {'id': 3628,\n",
       "  'name': 'Chandra Mukhopadhyay',\n",
       "  'email': 'chandra_mukhopadhyay@rath.name',\n",
       "  'gender': 'male',\n",
       "  'status': 'active'},\n",
       " {'id': 3625,\n",
       "  'name': 'Anila Varman',\n",
       "  'email': 'varman_anila@maggio-wunsch.info',\n",
       "  'gender': 'female',\n",
       "  'status': 'inactive'},\n",
       " {'id': 3623,\n",
       "  'name': 'Aatmaj Sethi',\n",
       "  'email': 'aatmaj_sethi@yost.org',\n",
       "  'gender': 'male',\n",
       "  'status': 'inactive'},\n",
       " {'id': 3611,\n",
       "  'name': 'Amb. Avani Mahajan',\n",
       "  'email': 'mahajan_avani_amb@lemke-romaguera.com',\n",
       "  'gender': 'male',\n",
       "  'status': 'active'},\n",
       " {'id': 3609,\n",
       "  'name': 'Chakravarti Bhat',\n",
       "  'email': 'bhat_chakravarti@grant-kuhlman.name',\n",
       "  'gender': 'female',\n",
       "  'status': 'inactive'},\n",
       " {'id': 3607,\n",
       "  'name': 'Bharadwaj Talwar',\n",
       "  'email': 'bharadwaj_talwar@crona.com',\n",
       "  'gender': 'female',\n",
       "  'status': 'active'},\n",
       " {'id': 3606,\n",
       "  'name': 'Bhoj Pillai',\n",
       "  'email': 'pillai_bhoj@pouros.io',\n",
       "  'gender': 'female',\n",
       "  'status': 'inactive'}]"
      ]
     },
     "execution_count": 95,
     "metadata": {},
     "output_type": "execute_result"
    }
   ],
   "source": [
    "url = 'https://gorest.co.in/public/v2'\n",
    "#token = Secrets.python_store['token']\n",
    "data = {\"id\":}\n",
    "response_data = requests.get(url+'/users', auth=HTTPBasicAuth('access-token',token))\n",
    "response_data.json()\n"
   ]
  },
  {
   "cell_type": "code",
   "execution_count": null,
   "metadata": {
    "id": "V1W91GgM-bwF"
   },
   "outputs": [],
   "source": [
    "url= 'https://gorest.co.in/public/v2'"
   ]
  },
  {
   "cell_type": "code",
   "execution_count": null,
   "metadata": {
    "id": "GMtt-r6gD3KV"
   },
   "outputs": [],
   "source": [
    "import json\n"
   ]
  },
  {
   "cell_type": "code",
   "execution_count": null,
   "metadata": {
    "colab": {
     "base_uri": "https://localhost:8080/",
     "height": 53
    },
    "id": "rlV6rubwD5z1",
    "outputId": "4b571900-4c07-4346-b28d-badb1fb50d66"
   },
   "outputs": [
    {
     "data": {
      "application/vnd.google.colaboratory.intrinsic+json": {
       "type": "string"
      },
      "text/plain": [
       "'{\"gender\": \"male\", \"name\": \"jason roberts\", \"email\": \"xyz@xml.com\", \"access-token\": \"f1d29200533591e992b756c43a20244ba4ab801611d00d8ed611390317f648a7\"}'"
      ]
     },
     "execution_count": 30,
     "metadata": {},
     "output_type": "execute_result"
    }
   ],
   "source": [
    "json.dumps(payload)"
   ]
  },
  {
   "cell_type": "code",
   "execution_count": null,
   "metadata": {
    "id": "SDpkHNAhBVyS"
   },
   "outputs": [],
   "source": [
    "import requests\n",
    "import Secrets"
   ]
  },
  {
   "cell_type": "code",
   "execution_count": null,
   "metadata": {
    "colab": {
     "base_uri": "https://localhost:8080/",
     "height": 36
    },
    "id": "_gzOZxW9KekU",
    "outputId": "28bd3263-b36e-416a-fcb0-ac2dbb9bb8d3"
   },
   "outputs": [
    {
     "data": {
      "application/vnd.google.colaboratory.intrinsic+json": {
       "type": "string"
      },
      "text/plain": [
       "'a0901fa807b07de98faad7da344b459224c74a0552dec8e9efd82b58c27e5598'"
      ]
     },
     "execution_count": 94,
     "metadata": {},
     "output_type": "execute_result"
    }
   ],
   "source": [
    "token"
   ]
  },
  {
   "cell_type": "code",
   "execution_count": null,
   "metadata": {
    "colab": {
     "base_uri": "https://localhost:8080/"
    },
    "id": "u4k_YA5d-A1o",
    "outputId": "466ddadb-1f0f-432f-dc57-bd8e5275acfd"
   },
   "outputs": [
    {
     "data": {
      "text/plain": [
       "{'message': 'Authentication failed'}"
      ]
     },
     "execution_count": 67,
     "metadata": {},
     "output_type": "execute_result"
    }
   ],
   "source": [
    "\n",
    "token = Secrets.python_store['token']\n",
    "payload = {'gender':'male','name':'jason roberts','email':'xyzcjhsvdhs@xml.com','status':'Active'}\n",
    "response_data = requests.post(url+'/users',auth = HTTPBasicAuth('access-token', token\t),data = payload)\n",
    "response_data.json()"
   ]
  },
  {
   "cell_type": "code",
   "execution_count": null,
   "metadata": {
    "id": "-9Mu-uTSCo34"
   },
   "outputs": [],
   "source": [
    "headers= {\"Authorization\": \"Bearer \"+ token}"
   ]
  },
  {
   "cell_type": "code",
   "execution_count": null,
   "metadata": {
    "id": "4pvnoYP8JwsD"
   },
   "outputs": [],
   "source": [
    "payload = {'gender':'male','name':'jason roberts','email':'xyzcj@xml.com','status':'Active'}"
   ]
  },
  {
   "cell_type": "code",
   "execution_count": null,
   "metadata": {
    "id": "lILqhWeYCDbj"
   },
   "outputs": [],
   "source": [
    "response_data = requests.post(url+'/users',headers = headers,data = payload)"
   ]
  },
  {
   "cell_type": "code",
   "execution_count": null,
   "metadata": {
    "id": "W3UZcqCyKp14"
   },
   "outputs": [],
   "source": []
  },
  {
   "cell_type": "code",
   "execution_count": null,
   "metadata": {
    "id": "kVb2qLZT-ePq"
   },
   "outputs": [],
   "source": [
    "if response_data.status_code == 201:\n",
    "  print(response_data.json())"
   ]
  },
  {
   "cell_type": "markdown",
   "metadata": {
    "id": "4Bb6yMUeLU2n"
   },
   "source": [
    "Now since this endpoint is only used for testing and learning purposes, we don't actually store the data which can be fetched by user endpoint"
   ]
  },
  {
   "cell_type": "markdown",
   "metadata": {
    "id": "Axk894XgQyKq"
   },
   "source": [
    "#PUT and PATCH"
   ]
  },
  {
   "cell_type": "code",
   "execution_count": null,
   "metadata": {
    "colab": {
     "base_uri": "https://localhost:8080/"
    },
    "id": "vW6_N0YARGRn",
    "outputId": "827b07dc-333b-41ec-bf7f-c1acdf3923ba"
   },
   "outputs": [
    {
     "data": {
      "text/plain": [
       "[{'id': 3636,\n",
       "  'name': 'Chandrakin Kaul',\n",
       "  'email': 'kaul_chandrakin@price.com',\n",
       "  'gender': 'female',\n",
       "  'status': 'inactive'},\n",
       " {'id': 3630,\n",
       "  'name': 'Chitrangada Joshi PhD',\n",
       "  'email': 'phd_joshi_chitrangada@towne.io',\n",
       "  'gender': 'male',\n",
       "  'status': 'active'},\n",
       " {'id': 3628,\n",
       "  'name': 'Chandra Mukhopadhyay',\n",
       "  'email': 'chandra_mukhopadhyay@rath.name',\n",
       "  'gender': 'male',\n",
       "  'status': 'active'},\n",
       " {'id': 3625,\n",
       "  'name': 'Anila Varman',\n",
       "  'email': 'varman_anila@maggio-wunsch.info',\n",
       "  'gender': 'female',\n",
       "  'status': 'inactive'},\n",
       " {'id': 3611,\n",
       "  'name': 'Amb. Avani Mahajan',\n",
       "  'email': 'mahajan_avani_amb@lemke-romaguera.com',\n",
       "  'gender': 'male',\n",
       "  'status': 'active'},\n",
       " {'id': 3609,\n",
       "  'name': 'Chakravarti Bhat',\n",
       "  'email': 'bhat_chakravarti@grant-kuhlman.name',\n",
       "  'gender': 'female',\n",
       "  'status': 'inactive'},\n",
       " {'id': 3607,\n",
       "  'name': 'Bharadwaj Talwar',\n",
       "  'email': 'bharadwaj_talwar@crona.com',\n",
       "  'gender': 'female',\n",
       "  'status': 'active'},\n",
       " {'id': 3606,\n",
       "  'name': 'Bhoj Pillai',\n",
       "  'email': 'pillai_bhoj@pouros.io',\n",
       "  'gender': 'female',\n",
       "  'status': 'inactive'},\n",
       " {'id': 3603,\n",
       "  'name': 'Adhrit Dwivedi',\n",
       "  'email': 'adhrit_dwivedi@reilly.org',\n",
       "  'gender': 'male',\n",
       "  'status': 'active'},\n",
       " {'id': 3596,\n",
       "  'name': 'Aarya Bharadwaj PhD',\n",
       "  'email': 'phd_bharadwaj_aarya@cronin.io',\n",
       "  'gender': 'male',\n",
       "  'status': 'active'}]"
      ]
     },
     "execution_count": 106,
     "metadata": {},
     "output_type": "execute_result"
    }
   ],
   "source": [
    "\n",
    "payload = {}\n",
    "response_data = requests.get(url+'/users', auth=HTTPBasicAuth('access-token',token),params = payload)\n",
    "response_data.json()"
   ]
  },
  {
   "cell_type": "markdown",
   "metadata": {
    "id": "EY27vVezhpsH"
   },
   "source": [
    "##Difference between put and patch:\n",
    "\n",
    "PUT is a method of modifying resource where the client sends data that updates the entire resource . PATCH is a method of modifying resources where the client sends partial data that is to be updated without modifying the entire data.\n"
   ]
  },
  {
   "cell_type": "code",
   "execution_count": null,
   "metadata": {
    "colab": {
     "base_uri": "https://localhost:8080/"
    },
    "id": "y4XJeIpAl7Gg",
    "outputId": "cd062333-01c1-482a-8fb6-89904ca015cb"
   },
   "outputs": [
    {
     "data": {
      "text/plain": [
       "200"
      ]
     },
     "execution_count": 111,
     "metadata": {},
     "output_type": "execute_result"
    }
   ],
   "source": [
    "\n",
    "token = Secrets.python_store['token']\n",
    "payload = {'name' :'kaprise541','gender':'male','status':'active'}\n",
    "response_data = requests.patch(url+'/users/3623',headers = headers,data = payload)\n",
    "response_data.status_code"
   ]
  },
  {
   "cell_type": "code",
   "execution_count": null,
   "metadata": {
    "colab": {
     "base_uri": "https://localhost:8080/"
    },
    "id": "GNI2kM-SmW3Z",
    "outputId": "942d2878-29c9-4616-a424-aaac6eef8730"
   },
   "outputs": [
    {
     "data": {
      "text/plain": [
       "{'name': 'kaprise541',\n",
       " 'gender': 'male',\n",
       " 'status': 'active',\n",
       " 'id': 3623,\n",
       " 'email': 'xyz546546@gmail.com'}"
      ]
     },
     "execution_count": 112,
     "metadata": {},
     "output_type": "execute_result"
    }
   ],
   "source": [
    "response_data.json()"
   ]
  },
  {
   "cell_type": "code",
   "execution_count": null,
   "metadata": {
    "colab": {
     "base_uri": "https://localhost:8080/"
    },
    "id": "Eo3Bl84ULBD-",
    "outputId": "ad2479cb-316d-4110-8ae9-73b644356cb4"
   },
   "outputs": [
    {
     "data": {
      "text/plain": [
       "b'{\"name\":\"kaprise5115\",\"gender\":\"female\",\"id\":3623,\"email\":\"xyz123@gmail.com\",\"status\":\"active\"}'"
      ]
     },
     "execution_count": 121,
     "metadata": {},
     "output_type": "execute_result"
    }
   ],
   "source": [
    "\n",
    "token = Secrets.python_store['token']\n",
    "payload = { 'name' :'kaprise5115','gender':'Female' }\n",
    "response_data = requests.patch(url+'/users/3623',headers = headers,data = payload)\n",
    "response_data.content"
   ]
  },
  {
   "cell_type": "code",
   "execution_count": null,
   "metadata": {
    "colab": {
     "base_uri": "https://localhost:8080/"
    },
    "id": "-USitGoBRSOM",
    "outputId": "e3496375-f3c3-41ad-d75d-60379cfcc4db"
   },
   "outputs": [
    {
     "data": {
      "text/plain": [
       "b'{\"email\":\"xyz123@gmail.com\",\"id\":3623,\"name\":\"kaprise5115\",\"gender\":\"female\",\"status\":\"active\"}'"
      ]
     },
     "execution_count": 119,
     "metadata": {},
     "output_type": "execute_result"
    }
   ],
   "source": [
    "\n",
    "token = Secrets.python_store['token']\n",
    "payload = {'email':'xyz123@gmail.com'}\n",
    "response_data = requests.put(url+'/users/3623',headers = headers,data = payload)\n",
    "response_data.content"
   ]
  },
  {
   "cell_type": "markdown",
   "metadata": {
    "id": "fJUc8pE9ixoZ"
   },
   "source": [
    "#DELETE"
   ]
  },
  {
   "cell_type": "code",
   "execution_count": null,
   "metadata": {
    "colab": {
     "base_uri": "https://localhost:8080/"
    },
    "id": "XrIZcxz9hhHu",
    "outputId": "a36b708d-8f80-4f2e-efea-7f2059239884"
   },
   "outputs": [
    {
     "data": {
      "text/plain": [
       "b''"
      ]
     },
     "execution_count": 122,
     "metadata": {},
     "output_type": "execute_result"
    }
   ],
   "source": [
    "\n",
    "token = Secrets.python_store['token']\n",
    "# payload = {'email':'xyz123@gmail.com'}\n",
    "response_data = requests.delete(url+'/users/19',headers = headers)\n",
    "response_data.content\n"
   ]
  },
  {
   "cell_type": "code",
   "execution_count": null,
   "metadata": {
    "colab": {
     "base_uri": "https://localhost:8080/"
    },
    "id": "b-6fxkhKi2Y2",
    "outputId": "86f3a819-d686-441d-9169-402bef50582e"
   },
   "outputs": [
    {
     "data": {
      "text/plain": [
       "204"
      ]
     },
     "execution_count": 123,
     "metadata": {},
     "output_type": "execute_result"
    }
   ],
   "source": [
    "#check status code\n",
    "\n",
    "response_data.status_code"
   ]
  },
  {
   "cell_type": "markdown",
   "metadata": {
    "id": "ji3N_03gjf7d"
   },
   "source": [
    "#Event Hooks"
   ]
  },
  {
   "cell_type": "markdown",
   "metadata": {
    "id": "dre3K_TYlgbm"
   },
   "source": [
    "Using event hooks, we may add events to the URL that was requested. In the next example, we'll add a callback method that will be called when the response is ready."
   ]
  },
  {
   "cell_type": "code",
   "execution_count": null,
   "metadata": {
    "colab": {
     "base_uri": "https://localhost:8080/"
    },
    "id": "bqHO1WI6i8R0",
    "outputId": "96f6ab20-8cb1-48af-a267-96051b729f4a"
   },
   "outputs": [
    {
     "name": "stdout",
     "output_type": "stream",
     "text": [
      "https://gorest.co.in/public/v2/users\n",
      "[{\"id\":2605,\"name\":\"kaprise\",\"email\":\"xyz@gmail.com\",\"gender\":\"female\",\"status\":\"active\"},{\"id\":7247,\"name\":\"jason roberts\",\"email\":\"xyz@xml.com\",\"gender\":\"male\",\"status\":\"active\"},{\"id\":7196,\"name\":\"Sen. Radha Tandon\",\"email\":\"sen_tandon_radha@legros.name\",\"gender\":\"female\",\"status\":\"inactive\"},{\"id\":2628,\"name\":\"Sen. Susheel Ahluwalia\",\"email\":\"ahluwalia_susheel_sen@purdy.io\",\"gender\":\"male\",\"status\":\"active\"},{\"id\":2619,\"name\":\"Anagh Asan\",\"email\":\"anagh_asan@zulauf.com\",\"gender\":\"female\",\"status\":\"active\"},{\"id\":2618,\"name\":\"Divaakar Kocchar\",\"email\":\"divaakar_kocchar@lehner.name\",\"gender\":\"female\",\"status\":\"inactive\"},{\"id\":2617,\"name\":\"Ms. Shantanu Pillai\",\"email\":\"ms_shantanu_pillai@morissette.net\",\"gender\":\"female\",\"status\":\"inactive\"},{\"id\":2616,\"name\":\"Gov. Atreyee Gupta\",\"email\":\"gov_gupta_atreyee@turner.co\",\"gender\":\"female\",\"status\":\"active\"},{\"id\":2615,\"name\":\"Deeptanshu Ahluwalia\",\"email\":\"deeptanshu_ahluwalia@bogan.org\",\"gender\":\"female\",\"status\":\"active\"},{\"id\":2614,\"name\":\"Chapal Ahuja\",\"email\":\"chapal_ahuja@anderson.com\",\"gender\":\"male\",\"status\":\"active\"}]\n"
     ]
    }
   ],
   "source": [
    "def printData(r, *args, **kwargs):\n",
    " print(r.url)\n",
    " print(r.text)\n",
    "\n",
    "\n",
    "token = Secrets.python_store['token']\n",
    "# payload = {'email':'xyz@gmail.com', 'name' :'kaprise','gender':'Female'}\n",
    "payload ={}\n",
    "response_data = requests.get(url+'/users',headers = headers,data = payload,hooks={'response': printData})\n"
   ]
  },
  {
   "cell_type": "markdown",
   "metadata": {
    "id": "5zpE8JolnjHz"
   },
   "source": [
    "You can call multiple callback functions as shown below"
   ]
  },
  {
   "cell_type": "code",
   "execution_count": null,
   "metadata": {
    "colab": {
     "base_uri": "https://localhost:8080/"
    },
    "id": "k7Sa_M2Jm7aM",
    "outputId": "c9372ec3-5ef2-487e-cbf3-a1ed4257aae4"
   },
   "outputs": [
    {
     "name": "stdout",
     "output_type": "stream",
     "text": [
      "https://gorest.co.in/public/v2/users\n",
      "[{\"id\":2605,\"name\":\"kaprise\",\"email\":\"xyz@gmail.com\",\"gender\":\"female\",\"status\":\"active\"},{\"id\":7247,\"name\":\"jason roberts\",\"email\":\"xyz@xml.com\",\"gender\":\"male\",\"status\":\"active\"},{\"id\":7196,\"name\":\"Sen. Radha Tandon\",\"email\":\"sen_tandon_radha@legros.name\",\"gender\":\"female\",\"status\":\"inactive\"},{\"id\":2628,\"name\":\"Sen. Susheel Ahluwalia\",\"email\":\"ahluwalia_susheel_sen@purdy.io\",\"gender\":\"male\",\"status\":\"active\"},{\"id\":2619,\"name\":\"Anagh Asan\",\"email\":\"anagh_asan@zulauf.com\",\"gender\":\"female\",\"status\":\"active\"},{\"id\":2618,\"name\":\"Divaakar Kocchar\",\"email\":\"divaakar_kocchar@lehner.name\",\"gender\":\"female\",\"status\":\"inactive\"},{\"id\":2617,\"name\":\"Ms. Shantanu Pillai\",\"email\":\"ms_shantanu_pillai@morissette.net\",\"gender\":\"female\",\"status\":\"inactive\"},{\"id\":2616,\"name\":\"Gov. Atreyee Gupta\",\"email\":\"gov_gupta_atreyee@turner.co\",\"gender\":\"female\",\"status\":\"active\"},{\"id\":2615,\"name\":\"Deeptanshu Ahluwalia\",\"email\":\"deeptanshu_ahluwalia@bogan.org\",\"gender\":\"female\",\"status\":\"active\"},{\"id\":2614,\"name\":\"Chapal Ahuja\",\"email\":\"chapal_ahuja@anderson.com\",\"gender\":\"male\",\"status\":\"active\"}]\n"
     ]
    }
   ],
   "source": [
    "def printUrl(r, *args, **kwargs):\n",
    " print(r.url)\n",
    "def printData(r, *args, **kwargs):\n",
    " print(r.text)\n",
    "response_data = requests.get(url+'/users',headers = headers,data = payload,hooks={'response': [printUrl,printData]})\n"
   ]
  },
  {
   "cell_type": "markdown",
   "metadata": {
    "id": "30ab_3LgSpqW"
   },
   "source": [
    "# **Openweather API**"
   ]
  },
  {
   "cell_type": "markdown",
   "metadata": {
    "id": "5zLu6C_OUm48"
   },
   "source": [
    "  1. First step is to create an account and get a key. you can follow this link below!\n",
    "\n",
    "  https://home.openweathermap.org/api_keys\n",
    "\n",
    "  2. You can copy the key and save it as environment variable as shown below"
   ]
  },
  {
   "cell_type": "code",
   "execution_count": null,
   "metadata": {
    "colab": {
     "base_uri": "https://localhost:8080/"
    },
    "id": "oJvdMmZoUv6U",
    "outputId": "196c3c9d-44cb-4070-9abd-ecfb82542149"
   },
   "outputs": [
    {
     "name": "stdout",
     "output_type": "stream",
     "text": [
      "enter key··········\n"
     ]
    }
   ],
   "source": [
    "import os\n",
    "import getpass\n",
    "os.environ['Openweather'] = getpass.getpass('enter key')"
   ]
  },
  {
   "cell_type": "markdown",
   "metadata": {
    "id": "ggbU6COHXmp3"
   },
   "source": [
    "# Fetching Current Weather Information\n",
    "\n",
    "To create a Python application that retrieves the current weather for any given address, we'll utilize two APIs:\n",
    "1. **Google Maps Geocoding API**: Converts addresses into geographical coordinates (latitude and longitude).\n",
    "2. **OpenWeather API**: Provides weather information based on geographical coordinates.\n",
    "\n",
    "## Setting Up:\n",
    "1. **Google Maps Geocoding API**:\n",
    "    - Visit the [Google Cloud Platform Console](https://console.cloud.google.com/)\n",
    "    - Create a new project and enable the Geocoding API.\n",
    "    - Navigate to the credentials section and create an API key.\n",
    "\n",
    "2. **OpenWeather API**:\n",
    "    - Go to the [OpenWeather website](https://openweathermap.org/api).\n",
    "    - Sign up and navigate to the API keys tab to get your API key.\n",
    "\n",
    "Ensure you have the required Python libraries installed:\n",
    "```python\n",
    "pip install requests\n",
    "```\n",
    "\n",
    "## Code Breakdown:\n",
    "\n",
    "### Importing Necessary Libraries:\n",
    "```python\n",
    "import requests\n",
    "```\n",
    "We use the `requests` library to make HTTP calls to the APIs.\n",
    "\n",
    "### Setting up API Keys:\n",
    "```python\n",
    "GOOGLE_API_KEY = 'YOUR_GOOGLE_API_KEY'\n",
    "WEATHER_API_KEY = 'YOUR_OPENWEATHER_API_KEY'\n",
    "```\n",
    "Replace the placeholders with your respective API keys.\n",
    "\n",
    "### Convert Address to Geographical Coordinates:\n",
    "```python\n",
    "def get_lat_lng(address):\n",
    "    base_url = \"https://maps.googleapis.com/maps/api/geocode/json\"\n",
    "    params = {\n",
    "        'address': address,\n",
    "        'key': GOOGLE_API_KEY\n",
    "    }\n",
    "    response = requests.get(base_url, params=params)\n",
    "    if response.status_code == 200:\n",
    "        latlng = response.json()['results'][0]['geometry']['location']\n",
    "        return latlng['lat'], latlng['lng']\n",
    "    return None, None\n",
    "```\n",
    "This function takes an address as input, queries the Google Maps Geocoding API, and returns the latitude and longitude of the address.\n",
    "\n",
    "### Fetch Weather Information:\n",
    "```python\n",
    "def get_weather(lat, lng):\n",
    "    base_url = \"http://api.openweathermap.org/data/2.5/weather\"\n",
    "    params = {\n",
    "        'lat': lat,\n",
    "        'lon': lng,\n",
    "        'appid': WEATHER_API_KEY,\n",
    "        'units': 'metric'\n",
    "    }\n",
    "    response = requests.get(base_url, params=params)\n",
    "    return response.json()\n",
    "```\n",
    "After obtaining the geographical coordinates, this function fetches the weather information for that location using the OpenWeather API.\n",
    "\n",
    "### Main Execution:\n",
    "```python\n",
    "address = input(\"Enter your address: \")\n",
    "lat, lng = get_lat_lng(address)\n",
    "if lat and lng:\n",
    "    weather_info = get_weather(lat, lng)\n",
    "    print(f\"Weather in {address}: {weather_info['weather'][0]['description']}.\")\n",
    "    print(f\"Current temperature: {weather_info['main']['temp']}°C.\")\n",
    "else:\n",
    "    print(\"Could not fetch weather data for the given address.\")\n",
    "```\n",
    "This block captures the user's address, converts it to geographical coordinates, and then fetches and displays the current weather information for that location.\n",
    "\n",
    "## Safety Measures:\n",
    "- Always keep your API keys private.\n",
    "- Do not embed the keys directly in the code if sharing or making the code public.\n",
    "- Utilize environment variables or external configuration files to store and retrieve API keys.\n"
   ]
  },
  {
   "cell_type": "code",
   "execution_count": null,
   "metadata": {
    "id": "oQoayay4iNtV"
   },
   "outputs": [],
   "source": [
    "os.environ['GOOGAPIKEY'] = getpass.getpass('enter google api key')\n",
    "os.environ['OPENWEATHERKEY'] = getpass.getpass('enter Open weather api key')\n",
    "google_maps_key = os.environ.get('GOOGAPIKEY')\n",
    "openweather_key = os.environ.get('OPENWEATHERKEY')"
   ]
  },
  {
   "cell_type": "code",
   "execution_count": null,
   "metadata": {
    "id": "3Nyn-RqWWt2S"
   },
   "outputs": [],
   "source": [
    "import requests\n",
    "\n",
    "def get_lat_lng(address, google_maps_key):\n",
    "    base_url = \"https://maps.googleapis.com/maps/api/geocode/json\"\n",
    "    params = {\n",
    "        \"address\": address,\n",
    "        \"key\": google_maps_key\n",
    "    }\n",
    "    response = requests.get(base_url, params=params)\n",
    "    result = response.json()\n",
    "    location = result['results'][0]['geometry']['location']\n",
    "    return location['lat'], location['lng']\n",
    "\n",
    "def get_weather(lat, lng, openweather_key):\n",
    "    base_url = \"https://api.openweathermap.org/data/2.5/weather\"\n",
    "    params = {\n",
    "        \"lat\": lat,\n",
    "        \"lon\": lng,\n",
    "        \"appid\": openweather_key,\n",
    "        \"units\": \"metric\"  # To get the temperature in Celsius. Use \"imperial\" for Fahrenheit.\n",
    "    }\n",
    "    response = requests.get(base_url, params=params)\n",
    "    return response.json()\n",
    "\n",
    "address = input(\"Enter your address: \")\n",
    "\n",
    "# Replace with your actual keys\n",
    "\n",
    "lat, lng = get_lat_lng(address, google_maps_key)\n",
    "weather_data = get_weather(lat, lng, openweather_key)\n",
    "\n",
    "print(f\"Current temperature at {address}: {weather_data['main']['temp']}°C\")\n"
   ]
  },
  {
   "cell_type": "code",
   "execution_count": null,
   "metadata": {
    "id": "TNq_1IXUZ6qC"
   },
   "outputs": [],
   "source": []
  }
 ],
 "metadata": {
  "colab": {
   "provenance": []
  },
  "kernelspec": {
   "display_name": "Python 3 (ipykernel)",
   "language": "python",
   "name": "python3"
  },
  "language_info": {
   "codemirror_mode": {
    "name": "ipython",
    "version": 3
   },
   "file_extension": ".py",
   "mimetype": "text/x-python",
   "name": "python",
   "nbconvert_exporter": "python",
   "pygments_lexer": "ipython3",
   "version": "3.11.3"
  }
 },
 "nbformat": 4,
 "nbformat_minor": 1
}
