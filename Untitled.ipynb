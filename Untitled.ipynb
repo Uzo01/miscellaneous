{
 "cells": [
  {
   "cell_type": "code",
   "execution_count": 2,
   "id": "4b75b51c",
   "metadata": {},
   "outputs": [
    {
     "name": "stdout",
     "output_type": "stream",
     "text": [
      "<re.Match object; span=(0, 17), match='The rain in Spain'>\n"
     ]
    }
   ],
   "source": [
    "import re \n",
    "#Searches the string to see if it starts with The and ends with Spain\n",
    "txt = \"The rain in Spain\"\n",
    "x = re.search(\"The.*Spain$\", txt)\n",
    "print(x)"
   ]
  },
  {
   "cell_type": "markdown",
   "id": "29539ef1",
   "metadata": {},
   "source": [
    ".       - Any Character Except New Line\n",
    "\\d      - Digit (0-9)\n",
    "\\D      - Not a Digit (0-9)\n",
    "\\w      - Word Character (a-z, A-Z, 0-9, _)\n",
    "\\W      - Not a Word Character\n",
    "\\s      - Whitespace (space, tab, newline)\n",
    "\\S      - Not Whitespace (space, tab, newline)\n",
    "\n",
    "\\b      - Word Boundary\n",
    "\\B      - Not a Word Boundary\n",
    "^       - Beginning of a String\n",
    "$       - End of a String\n",
    "\n",
    "[]      - Matches Characters in brackets\n",
    "[^ ]    - Matches Characters NOT in brackets\n",
    "|       - Either Or\n",
    "( )     - Group\n",
    "\n",
    "Quantifiers:\n",
    "*       - 0 or More\n",
    "+       - 1 or More\n",
    "?       - 0 or One\n",
    "{3}     - Exact Number\n",
    "{3,4}   - Range of Numbers (Minimum, Maximum)\n",
    "\n",
    "\n",
    "#### Sample Regexs ####\n",
    "\n",
    "[a-zA-Z0-9_.+-]+@[a-zA-Z0-9-]+\\.[a-zA-Z0-9-.]+"
   ]
  },
  {
   "cell_type": "code",
   "execution_count": 5,
   "id": "9d958ca9",
   "metadata": {},
   "outputs": [
    {
     "name": "stdout",
     "output_type": "stream",
     "text": [
      "['o', 'o', 'o']\n"
     ]
    }
   ],
   "source": [
    "#findall() returns a list with all the matches\n",
    "import re\n",
    "\n",
    "txt = \"I love the lord God\"\n",
    "x = re.findall(\"o\", txt) # finds the text in the string \n",
    "print(x)"
   ]
  },
  {
   "cell_type": "code",
   "execution_count": 15,
   "id": "b30fec15",
   "metadata": {},
   "outputs": [
    {
     "name": "stdout",
     "output_type": "stream",
     "text": [
      "word character is located at: 2\n",
      "None\n"
     ]
    }
   ],
   "source": [
    "#The search() searches the string for  a match returns the matched object if so.\n",
    "# only returns first accurance\n",
    "import re \n",
    "\n",
    "txt = \"Jesus is the greates man to ever live\"\n",
    "x = re.search(\"\\w\",r'^[a-zA-Z0-9]')\n",
    "y = re.search(\"Christ\", txt)\n",
    "\n",
    "print(\"word character is located at:\", x.start())\n",
    "print(y)"
   ]
  },
  {
   "cell_type": "code",
   "execution_count": 20,
   "id": "c7eef40a",
   "metadata": {},
   "outputs": [
    {
     "name": "stdout",
     "output_type": "stream",
     "text": [
      "['Only', 'Jesus', 'Christ', 'Son', 'of', 'the', 'Most', 'High', 'God', 'can', 'save', 'you']\n",
      "['^[', '-', '', '-', ']']\n"
     ]
    }
   ],
   "source": [
    "#This returns a list where the string has been split\n",
    "#split at the whitespaces\n",
    "import re\n",
    "txt = \"Only Jesus Christ Son of the Most High God can save you\"\n",
    "x = re.split(\"\\s\", txt)\n",
    "y = re.split(\"\\w\", r'^[a-zA-Z]')\n",
    "print(x)\n",
    "print(y)"
   ]
  },
  {
   "cell_type": "code",
   "execution_count": 21,
   "id": "b661cea7",
   "metadata": {},
   "outputs": [
    {
     "name": "stdout",
     "output_type": "stream",
     "text": [
      "['Jesus', 'is', 'King', 'and Lord of all']\n"
     ]
    }
   ],
   "source": [
    "import re \n",
    "# I can control the maximum split parameter\n",
    "txt = (\"Jesus is King and Lord of all\")\n",
    "x = re.split(\"\\s\", txt, 3) \n",
    "\n",
    "print(x)"
   ]
  },
  {
   "cell_type": "code",
   "execution_count": 32,
   "id": "30d81e18",
   "metadata": {},
   "outputs": [
    {
     "name": "stdout",
     "output_type": "stream",
     "text": [
      "God's love is endless God's love is endless  God's love is endless God's love is endless God's love is endless  God's love is endless God's love is endless God's love is endless God's love is endless  God's love is endless God's love is endless  God's love is endless God's love is endless God's love is endless  God's love is endless God's love is endless God's love is endless God's love is endless  God's love is endless God's love is endless God's love is endless  God's love is endless God's love is endless God's love is endless God's love is endless God's love is endless God's love is endless God's love is endless  God's love is endless God's love is endless God's love is endless God's love is endless God's love is endless  God's love is endless God's love is endless God's love is endless God's love is endless God's love is endless God's love is endless  God's love is endless  God's love is endless God's love is endless  God's love is endless God's love is endless God's love is endless God's love is endless God's love is endless God's love is endless \n"
     ]
    }
   ],
   "source": [
    "#The sub() this replaces the text with my own choice of text\n",
    "import re\n",
    "\n",
    "txt = \"In the name of our Lord and Saviour Jesus Christ I am Healed\"\n",
    "x = re.sub(\"\\w\", \"God's love is endless \", txt)\n",
    "\n",
    "print(x)"
   ]
  },
  {
   "cell_type": "code",
   "execution_count": 37,
   "id": "181cc141",
   "metadata": {},
   "outputs": [
    {
     "name": "stdout",
     "output_type": "stream",
     "text": [
      "<re.Match object; span=(5, 7), match='ov'>\n"
     ]
    },
    {
     "ename": "AttributeError",
     "evalue": "'NoneType' object has no attribute 'span'",
     "output_type": "error",
     "traceback": [
      "\u001b[1;31m---------------------------------------------------------------------------\u001b[0m",
      "\u001b[1;31mAttributeError\u001b[0m                            Traceback (most recent call last)",
      "Cell \u001b[1;32mIn[37], line 11\u001b[0m\n\u001b[0;32m      9\u001b[0m y \u001b[38;5;241m=\u001b[39m re\u001b[38;5;241m.\u001b[39msearch(\u001b[38;5;124mr\u001b[39m\u001b[38;5;124m'\u001b[39m\u001b[38;5;124m\\\u001b[39m\u001b[38;5;124mbS\u001b[39m\u001b[38;5;124m\\\u001b[39m\u001b[38;5;124mw+\u001b[39m\u001b[38;5;124m'\u001b[39m, txt)\n\u001b[0;32m     10\u001b[0m \u001b[38;5;28mprint\u001b[39m(x)\n\u001b[1;32m---> 11\u001b[0m \u001b[38;5;28mprint\u001b[39m(y\u001b[38;5;241m.\u001b[39mspan())\n",
      "\u001b[1;31mAttributeError\u001b[0m: 'NoneType' object has no attribute 'span'"
     ]
    }
   ],
   "source": [
    "#The Match object has properties and methods used to retrieve information about the search, and the result:\n",
    "#.span() returns a tuple containing the start-, and end positions of the match.\n",
    "#.string returns the string passed into the function\n",
    "#.group() returns the part of the string where there was a match\n",
    "import re\n",
    "\n",
    "txt = \"The love of God covers all\"\n",
    "x = re.search(\"ov\", txt)\n",
    "print(x)"
   ]
  },
  {
   "cell_type": "code",
   "execution_count": 46,
   "id": "259c9dc2",
   "metadata": {},
   "outputs": [
    {
     "name": "stdout",
     "output_type": "stream",
     "text": [
      "<re.Match object; span=(0, 11), match='Hello World'>\n",
      "<re.Match object; span=(0, 11), match='hello world'>\n",
      "<re.Match object; span=(0, 10), match='helloworld'>\n"
     ]
    }
   ],
   "source": [
    "import re\n",
    "pattern = re.compile(\"^[a-zA-Z\\s]+$\") # ^ start of string all Caps A-Z + and $end\n",
    "print(pattern.search(\"Hello World\")) # LOOKS IN THE FIRST STRING \n",
    "print(pattern.search(\"hello world\"))\n",
    "print(pattern.search(\"helloworld\"))\n",
    "\n"
   ]
  },
  {
   "cell_type": "code",
   "execution_count": 49,
   "id": "8dbe7a2f",
   "metadata": {},
   "outputs": [
    {
     "name": "stdout",
     "output_type": "stream",
     "text": [
      "<re.Match object; span=(0, 10), match='hhg2778$FG'>\n",
      "None\n",
      "<re.Match object; span=(0, 9), match='jdj896£AG'>\n"
     ]
    }
   ],
   "source": [
    "import re\n",
    "# 3 lowercase letter \n",
    "# 3-5 digits\n",
    "# one sysmbol\n",
    "# up to 2 uppercase \n",
    "\n",
    "pattern = re.compile(\"^[a-z]{3}[0-9]{3,5}[^a-zA-Z0-9]{1}[A-Z]{1,2}$\")\n",
    "\n",
    "print(pattern.search(\"hhg2778$FG\"))\n",
    "print(pattern.search(\"jdAj8£9G6\"))\n",
    "print(pattern.search(\"jdj896£AG\"))"
   ]
  },
  {
   "cell_type": "code",
   "execution_count": 50,
   "id": "b4e8a5e8",
   "metadata": {},
   "outputs": [
    {
     "name": "stdout",
     "output_type": "stream",
     "text": [
      "<re.Match object; span=(0, 10), match='1jj2jdjbhs'>\n"
     ]
    }
   ],
   "source": [
    "import re\n",
    "\n",
    "pattern = re.compile(\"^.{10}$\")#. take any character form {10} only up to 10 character\n",
    "\n",
    "print(pattern.search(\"1jj2jdjbhs\"))"
   ]
  },
  {
   "cell_type": "code",
   "execution_count": 51,
   "id": "cfbd304b",
   "metadata": {},
   "outputs": [
    {
     "name": "stdout",
     "output_type": "stream",
     "text": [
      "<re.Match object; span=(0, 24), match='uzo.immanuel40@gmail.com'>\n"
     ]
    }
   ],
   "source": [
    "#used to check emails\n",
    "import re \n",
    "\n",
    "pattern = re.compile(\"^[a-zA-Z0-9\\.\\-_]+@{1}[a-zA-Z0-9]+\\.{1}[a-zA-Z]{2,3}$\")\n",
    "\n",
    "print(pattern.search(\"uzo.immanuel40@gmail.com\"))"
   ]
  },
  {
   "cell_type": "code",
   "execution_count": 55,
   "id": "85a4eded",
   "metadata": {},
   "outputs": [
    {
     "name": "stdout",
     "output_type": "stream",
     "text": [
      "['I have an Apple.', 'She likes apples']\n"
     ]
    }
   ],
   "source": [
    "import re\n",
    "\n",
    "ptrn = [\"I have an Apple.\", \"She likes apples\", \"Banana is not an app\"]\n",
    "res = []\n",
    "for string in ptrn:\n",
    "    x = re.findall(\"apple\", string, re.IGNORECASE)\n",
    "    if x:\n",
    "        res.append(string)\n",
    "print(res)"
   ]
  },
  {
   "cell_type": "code",
   "execution_count": 66,
   "id": "e347c334",
   "metadata": {},
   "outputs": [
    {
     "name": "stdout",
     "output_type": "stream",
     "text": [
      "[]\n"
     ]
    }
   ],
   "source": [
    "import re\n",
    "\n",
    "email = [\"john.doe@example.com\", \"jane.smith@example.net\", \"bob.johnson@example.org\"]\n",
    "res = []\n",
    "ptrn = re.compile(r\"@{[a-zA-Z0-9]$\")\n",
    "for domain in email:\n",
    "    if ptrn.match(domain):\n",
    "        res.append(domain)\n",
    "    \n",
    "print(res)\n"
   ]
  },
  {
   "cell_type": "code",
   "execution_count": 61,
   "id": "c32b4c8e",
   "metadata": {},
   "outputs": [
    {
     "name": "stdout",
     "output_type": "stream",
     "text": [
      "[]\n"
     ]
    }
   ],
   "source": [
    "import re\n",
    "\n",
    "emails = [\"john.doe@example.com\", \"jane.smith@example.net\", \"bob.johnson@example.org\"]\n",
    "res = []\n",
    "email_pattern = re.compile(r\"^@[a-zA-Z0-9.-]+\\.[a-zA-Z]{2,}$\")\n",
    "\n",
    "for email in emails:\n",
    "    if email_pattern.match(email):\n",
    "        res.append(email)\n",
    "\n",
    "print(res)\n"
   ]
  },
  {
   "cell_type": "code",
   "execution_count": 70,
   "id": "8df26dbb",
   "metadata": {},
   "outputs": [
    {
     "name": "stdout",
     "output_type": "stream",
     "text": [
      "['example.com', 'example.net', 'example.org']\n"
     ]
    }
   ],
   "source": [
    "import re\n",
    "\n",
    "email = [\"john.doe@example.com\", \"jane.smith@example.net\", \"bob.johnson@example.org\"]\n",
    "res = []\n",
    "ptrn = re.compile(r\"@([a-zA-Z0-9.-]+)$\") # pattern to catch the domain\n",
    "\n",
    "for emails in email:\n",
    "    match = ptrn.search(emails)\n",
    "    if match:\n",
    "        domain = match.group(1)\n",
    "        res.append(domain)\n",
    "\n",
    "print(res)"
   ]
  },
  {
   "cell_type": "code",
   "execution_count": 69,
   "id": "a9d79400",
   "metadata": {},
   "outputs": [
    {
     "name": "stdout",
     "output_type": "stream",
     "text": [
      "['example.com', 'example.net', 'example.org']\n"
     ]
    }
   ],
   "source": [
    "import re\n",
    "\n",
    "emails = [\"john.doe@example.com\", \"jane.smith@example.net\", \"bob.johnson@example.org\"]\n",
    "res = []\n",
    "ptrn = re.compile(r\"@([a-zA-Z0-9.-]+)$\")  # Updated pattern to capture the domain\n",
    "\n",
    "for email in emails:\n",
    "    match = ptrn.search(email)\n",
    "    if match:\n",
    "        domain = match.group(1)  # Extract the captured domain\n",
    "        res.append(domain)\n",
    "\n",
    "print(res)"
   ]
  },
  {
   "cell_type": "code",
   "execution_count": 79,
   "id": "8298746c",
   "metadata": {},
   "outputs": [
    {
     "name": "stdout",
     "output_type": "stream",
     "text": [
      "['apple']\n"
     ]
    }
   ],
   "source": [
    "import re\n",
    "\n",
    "words = [\"apple\", \"banana\", \"cherry\", \"date\", \"grape\"]\n",
    "letter = \"a\"\n",
    "res = []\n",
    "ptrn = re.compile(r\"\\b\" + re.escape(letter) + r\"\\w*\")\n",
    "\n",
    "for word in words:\n",
    "    if ptrn.search(word):\n",
    "        res.append(word)\n",
    "print(res)"
   ]
  },
  {
   "cell_type": "code",
   "execution_count": 80,
   "id": "a9f55340",
   "metadata": {},
   "outputs": [
    {
     "name": "stdout",
     "output_type": "stream",
     "text": [
      "['apple123', '123banana456', 'date7890']\n"
     ]
    }
   ],
   "source": [
    "\"\"\"You have a list of strings, and you want to find all the strings \n",
    "that contain a sequence of consecutive digits\n",
    "of at least three characters in length. \n",
    "Write a Python function find_consecutive_digits(strings) that uses regular \n",
    "expressions to return a list of all such strings.\"\"\"\n",
    "\n",
    "\n",
    "strings = [\"apple123\", \"123banana456\", \"cherry\", \"date7890\", \"grape\"]\n",
    "res = []\n",
    "ptrn = re.compile(r\"\\d{3}\")\n",
    "\n",
    "for digit in strings:\n",
    "    if ptrn.findall(digit):\n",
    "        res.append(digit)\n",
    "        \n",
    "print(res)\n",
    "\n",
    "\n",
    "\n"
   ]
  },
  {
   "cell_type": "code",
   "execution_count": null,
   "id": "9645889d",
   "metadata": {},
   "outputs": [],
   "source": []
  }
 ],
 "metadata": {
  "kernelspec": {
   "display_name": "Python 3 (ipykernel)",
   "language": "python",
   "name": "python3"
  },
  "language_info": {
   "codemirror_mode": {
    "name": "ipython",
    "version": 3
   },
   "file_extension": ".py",
   "mimetype": "text/x-python",
   "name": "python",
   "nbconvert_exporter": "python",
   "pygments_lexer": "ipython3",
   "version": "3.11.3"
  }
 },
 "nbformat": 4,
 "nbformat_minor": 5
}
