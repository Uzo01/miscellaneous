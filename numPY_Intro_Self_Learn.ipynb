{
 "cells": [
  {
   "cell_type": "code",
   "execution_count": 2,
   "id": "df0898d7",
   "metadata": {},
   "outputs": [],
   "source": [
    "# slicing, indexing, shape\n",
    "\n",
    "# axes\n",
    "\n",
    "# np.  arange, linspace, zeros, etc\n",
    "\n",
    "# 2 dimension\n",
    "\n",
    "# stats methods, min, max, mean, mode, std, sum,"
   ]
  },
  {
   "cell_type": "code",
   "execution_count": 3,
   "id": "0346ac6e",
   "metadata": {},
   "outputs": [],
   "source": [
    "import numpy as np"
   ]
  },
  {
   "cell_type": "code",
   "execution_count": 4,
   "id": "8eebbc92",
   "metadata": {},
   "outputs": [
    {
     "name": "stdout",
     "output_type": "stream",
     "text": [
      "Requirement already satisfied: numpy in c:\\users\\emmanuel\\anaconda3\\lib\\site-packages (1.24.3)\n"
     ]
    }
   ],
   "source": [
    "!pip install numpy"
   ]
  },
  {
   "cell_type": "code",
   "execution_count": 5,
   "id": "4a36c592",
   "metadata": {},
   "outputs": [],
   "source": [
    "np1 = np.array([1,2,3,4,5,6,7,8,9], ndmin = 2)"
   ]
  },
  {
   "cell_type": "code",
   "execution_count": 6,
   "id": "c0e372e9",
   "metadata": {},
   "outputs": [
    {
     "name": "stdout",
     "output_type": "stream",
     "text": [
      "<function ndim at 0x000001F202FFC2C0>\n"
     ]
    }
   ],
   "source": [
    "print(np.ndim)"
   ]
  },
  {
   "cell_type": "code",
   "execution_count": 7,
   "id": "07a8c147",
   "metadata": {},
   "outputs": [
    {
     "name": "stdout",
     "output_type": "stream",
     "text": [
      "[]\n"
     ]
    }
   ],
   "source": [
    "#Return 2,3,4,5\n",
    "print(np1[1:5])"
   ]
  },
  {
   "cell_type": "code",
   "execution_count": 8,
   "id": "adf59a92",
   "metadata": {},
   "outputs": [
    {
     "name": "stdout",
     "output_type": "stream",
     "text": [
      "[]\n"
     ]
    }
   ],
   "source": [
    "#Print till the end of line\n",
    "print(np1[6:])"
   ]
  },
  {
   "cell_type": "code",
   "execution_count": 9,
   "id": "dc2d25f4",
   "metadata": {},
   "outputs": [
    {
     "name": "stdout",
     "output_type": "stream",
     "text": [
      "[]\n"
     ]
    }
   ],
   "source": [
    "#Return Negative Slices\n",
    "#print 4,5\n",
    "print(np1[-6:-4])"
   ]
  },
  {
   "cell_type": "code",
   "execution_count": 10,
   "id": "bb2e6aeb",
   "metadata": {},
   "outputs": [
    {
     "name": "stdout",
     "output_type": "stream",
     "text": [
      "[]\n",
      "[]\n"
     ]
    }
   ],
   "source": [
    "#Steps\n",
    "print(np1[1:5]) #2-5\n",
    "print(np1[1:5:2])#2-5 in steps of 2"
   ]
  },
  {
   "cell_type": "code",
   "execution_count": 11,
   "id": "f779008e",
   "metadata": {},
   "outputs": [
    {
     "name": "stdout",
     "output_type": "stream",
     "text": [
      "[[1 2 3 4 5 6 7 8 9]]\n"
     ]
    }
   ],
   "source": [
    "#Seps on entire array\n",
    "print(np1[::2])#every other array"
   ]
  },
  {
   "cell_type": "code",
   "execution_count": 12,
   "id": "62460f68",
   "metadata": {},
   "outputs": [],
   "source": [
    "# SLice a 2-d array\n",
    "np2 = np.array([\n",
    "    [1,2,3,4,5], # 1st row = 0\n",
    "    [6,7,8,9,10]]) # 2nd column = 1\n",
    "#2"
   ]
  },
  {
   "cell_type": "code",
   "execution_count": 13,
   "id": "a4e09e70",
   "metadata": {},
   "outputs": [
    {
     "name": "stdout",
     "output_type": "stream",
     "text": [
      "2\n"
     ]
    }
   ],
   "source": [
    "print(np2[0,1])"
   ]
  },
  {
   "cell_type": "code",
   "execution_count": 14,
   "id": "2821cc6d",
   "metadata": {
    "scrolled": true
   },
   "outputs": [
    {
     "name": "stdout",
     "output_type": "stream",
     "text": [
      "8\n"
     ]
    }
   ],
   "source": [
    "print(np2[1,2])\n",
    "#8"
   ]
  },
  {
   "cell_type": "code",
   "execution_count": 15,
   "id": "238e8371",
   "metadata": {},
   "outputs": [
    {
     "name": "stdout",
     "output_type": "stream",
     "text": [
      "4\n"
     ]
    }
   ],
   "source": [
    "print(np2[0,3])\n",
    "#4"
   ]
  },
  {
   "cell_type": "code",
   "execution_count": 16,
   "id": "722df993",
   "metadata": {},
   "outputs": [
    {
     "name": "stdout",
     "output_type": "stream",
     "text": [
      "8\n"
     ]
    }
   ],
   "source": [
    "#Pull out a single item\n",
    "print(np2[1,2])# 1 is the first array with a , of the item 2"
   ]
  },
  {
   "cell_type": "code",
   "execution_count": 17,
   "id": "23a5f4e4",
   "metadata": {},
   "outputs": [
    {
     "name": "stdout",
     "output_type": "stream",
     "text": [
      "[[3 4]\n",
      " [8 9]]\n"
     ]
    }
   ],
   "source": [
    "#Slice a 2-d array = 4 and 10\n",
    "print(np2[0:5, 2:4])"
   ]
  },
  {
   "cell_type": "code",
   "execution_count": 18,
   "id": "a6737e92",
   "metadata": {},
   "outputs": [],
   "source": [
    "arr = np.array([[[1, 2, 3],# the first dimenstion containg 2 array ([],[])\n",
    "                [4, 5, 6]], \n",
    "                [[7, 8, 9],# the second dimenstion containg 2 array ([],[])\n",
    "                [3, 3, 4]],\n",
    "                [[2, 1, 3],# the third dimenstion containg 2 array ([],[])\n",
    "                [5, 6, 8]]]) "
   ]
  },
  {
   "cell_type": "code",
   "execution_count": 19,
   "id": "edf7c481",
   "metadata": {
    "scrolled": true
   },
   "outputs": [
    {
     "name": "stdout",
     "output_type": "stream",
     "text": [
      "[[2 1 3]\n",
      " [5 6 8]]\n",
      "[[1 2 3]\n",
      " [4 5 6]]\n",
      "6\n",
      "[]\n"
     ]
    }
   ],
   "source": [
    "print(arr[2])\n",
    "print(arr[0])\n",
    "print(arr[0, \n",
    "          1, \n",
    "          2])\n",
    "print(arr[1:0])"
   ]
  },
  {
   "cell_type": "code",
   "execution_count": 20,
   "id": "255d0e77",
   "metadata": {},
   "outputs": [
    {
     "name": "stdout",
     "output_type": "stream",
     "text": [
      "[[[4 5 6]]\n",
      "\n",
      " [[3 3 4]]]\n"
     ]
    }
   ],
   "source": [
    "print(arr[0:2, 1:3])"
   ]
  },
  {
   "cell_type": "code",
   "execution_count": 21,
   "id": "3242cb54",
   "metadata": {},
   "outputs": [
    {
     "name": "stdout",
     "output_type": "stream",
     "text": [
      "[[4 5 6]\n",
      " [3 3 4]\n",
      " [5 6 8]]\n"
     ]
    }
   ],
   "source": [
    "print(arr[:,-1]) # Gets the last column of every row"
   ]
  },
  {
   "cell_type": "code",
   "execution_count": 22,
   "id": "ec229ed9",
   "metadata": {},
   "outputs": [
    {
     "name": "stdout",
     "output_type": "stream",
     "text": [
      "[[[False False False]\n",
      "  [False False  True]]\n",
      "\n",
      " [[ True  True  True]\n",
      "  [False False False]]\n",
      "\n",
      " [[False False False]\n",
      "  [False  True  True]]]\n"
     ]
    }
   ],
   "source": [
    "print(arr>5)"
   ]
  },
  {
   "cell_type": "code",
   "execution_count": 23,
   "id": "86538720",
   "metadata": {},
   "outputs": [
    {
     "name": "stdout",
     "output_type": "stream",
     "text": [
      "[[[2 1 3]\n",
      "  [5 6 8]]\n",
      "\n",
      " [[7 8 9]\n",
      "  [3 3 4]]\n",
      "\n",
      " [[1 2 3]\n",
      "  [4 5 6]]]\n"
     ]
    }
   ],
   "source": [
    "print(arr[::-1])"
   ]
  },
  {
   "cell_type": "code",
   "execution_count": 24,
   "id": "5f05ff91",
   "metadata": {},
   "outputs": [],
   "source": [
    "result = np.mean(arr, axis=1)"
   ]
  },
  {
   "cell_type": "code",
   "execution_count": 25,
   "id": "b21a73ad",
   "metadata": {},
   "outputs": [
    {
     "name": "stdout",
     "output_type": "stream",
     "text": [
      "[[2.5 3.5 4.5]\n",
      " [5.  5.5 6.5]\n",
      " [3.5 3.5 5.5]]\n"
     ]
    }
   ],
   "source": [
    "print(result)"
   ]
  },
  {
   "cell_type": "code",
   "execution_count": 26,
   "id": "8ccf52d5",
   "metadata": {},
   "outputs": [],
   "source": [
    "arr1 = np.array([[1, 2, 3],[4, 5, 6],\n",
    "                [7, 8, 9]])"
   ]
  },
  {
   "cell_type": "code",
   "execution_count": 27,
   "id": "d4eb3b1c",
   "metadata": {},
   "outputs": [
    {
     "name": "stdout",
     "output_type": "stream",
     "text": [
      "[7 8 9]\n",
      "4\n"
     ]
    }
   ],
   "source": [
    "print(arr[1, 0])\n",
    "print(arr[0,1,0])"
   ]
  },
  {
   "cell_type": "code",
   "execution_count": 28,
   "id": "ce8ab268",
   "metadata": {
    "scrolled": true
   },
   "outputs": [
    {
     "name": "stdout",
     "output_type": "stream",
     "text": [
      "[ 79  92 146  36]\n",
      "[22 34 23 22]\n",
      "[  44 1156 1288   66]\n"
     ]
    }
   ],
   "source": [
    "arr2 = np.array([[22,34,23,22],\n",
    "                [2,34,56,3],\n",
    "                [77,58,90,33]])\n",
    "print(arr2[2] + arr2[1])\n",
    "print(arr2[0])\n",
    "print(arr2[0] * arr2[1])"
   ]
  },
  {
   "cell_type": "code",
   "execution_count": 29,
   "id": "d17518b4",
   "metadata": {},
   "outputs": [
    {
     "name": "stdout",
     "output_type": "stream",
     "text": [
      "[2]\n"
     ]
    }
   ],
   "source": [
    "#Indexing\n",
    "arr3 = np.array([1, 2, 3, 4]) # <----- is an array\n",
    "print([arr3[1]]) #<------ print the second element from the array"
   ]
  },
  {
   "cell_type": "code",
   "execution_count": 30,
   "id": "95f2554c",
   "metadata": {},
   "outputs": [],
   "source": [
    "#Slicing\n",
    "arr4 = np.array([[1,2,4,5,6],\n",
    "                 [2,3,5,6,7]])"
   ]
  },
  {
   "cell_type": "code",
   "execution_count": 37,
   "id": "b8a0c417",
   "metadata": {},
   "outputs": [
    {
     "name": "stdout",
     "output_type": "stream",
     "text": [
      "[[2 3 5 6 7]]\n"
     ]
    }
   ],
   "source": [
    "#slice elements in the second array index 1-5\n",
    "print(arr4[1:5])"
   ]
  },
  {
   "cell_type": "code",
   "execution_count": 35,
   "id": "ae8ccccd",
   "metadata": {},
   "outputs": [
    {
     "name": "stdout",
     "output_type": "stream",
     "text": [
      "[[1 2 4 5 6]]\n"
     ]
    }
   ],
   "source": [
    "#slice elements in index 0-5\n",
    "print(arr4[0:1])"
   ]
  },
  {
   "cell_type": "code",
   "execution_count": 42,
   "id": "cad11aff",
   "metadata": {},
   "outputs": [
    {
     "name": "stdout",
     "output_type": "stream",
     "text": [
      "[[1 2 4 5 6]\n",
      " [2 3 5 6 7]]\n",
      "[[1 2 4 5 6]\n",
      " [2 3 5 6 7]]\n"
     ]
    }
   ],
   "source": [
    "#slice to the end of the array\n",
    "#numbers larger than array slice till the end\n",
    "print(arr4[:4])\n",
    "print(arr4[:2])"
   ]
  },
  {
   "cell_type": "code",
   "execution_count": 61,
   "id": "76fb5bfb",
   "metadata": {},
   "outputs": [
    {
     "ename": "IndexError",
     "evalue": "too many indices for array: array is 2-dimensional, but 3 were indexed",
     "output_type": "error",
     "traceback": [
      "\u001b[1;31m---------------------------------------------------------------------------\u001b[0m",
      "\u001b[1;31mIndexError\u001b[0m                                Traceback (most recent call last)",
      "Cell \u001b[1;32mIn[61], line 2\u001b[0m\n\u001b[0;32m      1\u001b[0m \u001b[38;5;66;03m#Negative Slicing\u001b[39;00m\n\u001b[1;32m----> 2\u001b[0m \u001b[38;5;28mprint\u001b[39m(arr4[:,:,\u001b[38;5;241m-\u001b[39m\u001b[38;5;241m1\u001b[39m])\n",
      "\u001b[1;31mIndexError\u001b[0m: too many indices for array: array is 2-dimensional, but 3 were indexed"
     ]
    }
   ],
   "source": [
    "#Negative Slicing\n",
    "print(arr4[::,-1])"
   ]
  },
  {
   "cell_type": "code",
   "execution_count": null,
   "id": "d99ea534",
   "metadata": {},
   "outputs": [],
   "source": [
    "#"
   ]
  }
 ],
 "metadata": {
  "kernelspec": {
   "display_name": "Python 3 (ipykernel)",
   "language": "python",
   "name": "python3"
  },
  "language_info": {
   "codemirror_mode": {
    "name": "ipython",
    "version": 3
   },
   "file_extension": ".py",
   "mimetype": "text/x-python",
   "name": "python",
   "nbconvert_exporter": "python",
   "pygments_lexer": "ipython3",
   "version": "3.11.3"
  }
 },
 "nbformat": 4,
 "nbformat_minor": 5
}
